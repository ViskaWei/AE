{
 "cells": [
  {
   "cell_type": "code",
   "execution_count": 1,
   "metadata": {},
   "outputs": [],
   "source": [
    "%load_ext autoreload\n",
    "%autoreload 2"
   ]
  },
  {
   "cell_type": "code",
   "execution_count": 4,
   "metadata": {},
   "outputs": [],
   "source": [
    "import os\n",
    "import sys\n",
    "import h5py\n",
    "import numpy as np\n",
    "import matplotlib.pyplot as plt"
   ]
  },
  {
   "cell_type": "code",
   "execution_count": 34,
   "metadata": {},
   "outputs": [],
   "source": [
    "PROJECT_PATH = '../'\n",
    "DATA_PATH = '/scratch/ceph/swei20/data/ae/dataset/test'\n",
    "PCA_PATH = '/scratch/ceph/dobos/data/pfsspec/import/stellar/rbf/bosz_5000_full/pca/spectra.h5'\n",
    "sys.path.insert(0, PROJECT_PATH)"
   ]
  },
  {
   "cell_type": "code",
   "execution_count": 6,
   "metadata": {},
   "outputs": [],
   "source": [
    "os.environ[\"CUDA_VISIBLE_DEVICES\"] = \"0\""
   ]
  },
  {
   "cell_type": "code",
   "execution_count": 7,
   "metadata": {},
   "outputs": [
    {
     "data": {
      "text/plain": [
       "[PhysicalDevice(name='/physical_device:GPU:0', device_type='GPU')]"
      ]
     },
     "execution_count": 7,
     "metadata": {},
     "output_type": "execute_result"
    }
   ],
   "source": [
    "import tensorflow as tf\n",
    "# tf.enable_v2_behavior()\n",
    "gpus = tf.config.list_physical_devices('GPU') \n",
    "for gpu in gpus:\n",
    "    tf.config.experimental.set_memory_growth(gpu, True)\n",
    "gpus"
   ]
  },
  {
   "cell_type": "markdown",
   "metadata": {},
   "source": [
    "## Loading Data"
   ]
  },
  {
   "cell_type": "code",
   "execution_count": 35,
   "metadata": {},
   "outputs": [],
   "source": [
    "with h5py.File(PCA_PATH, 'r') as f:\n",
    "    flux = f['flux'][()]"
   ]
  },
  {
   "cell_type": "code",
   "execution_count": 39,
   "metadata": {},
   "outputs": [],
   "source": [
    "def prepro_pca(flux, dim=300):\n",
    "    flux0 = flux.reshape(-1, 1000)[:, :dim]    \n",
    "    flux_clean = flux0[~np.isnan(flux0[:,0])]    \n",
    "    print(flux_clean.shape, flux0.shape)\n",
    "    print('min', flux_clean.min(), 'max', flux_clean.max(),'mean', flux_clean.mean(),'std', flux_clean.std() )\n",
    "    return flux_clean"
   ]
  },
  {
   "cell_type": "code",
   "execution_count": 40,
   "metadata": {},
   "outputs": [
    {
     "name": "stdout",
     "output_type": "stream",
     "text": [
      "(116614, 300) (243936, 300)\n",
      "min -184.9254058126797 max 145.24091665337806 mean -0.10353327716635463 std 2.4000601615265493\n"
     ]
    }
   ],
   "source": [
    "flux1 = prepro_pca(flux, dim=300)"
   ]
  },
  {
   "cell_type": "code",
   "execution_count": 27,
   "metadata": {},
   "outputs": [],
   "source": [
    "with h5py.File(fn, 'r') as f:\n",
    "    flux10kmm = f['flux10kmm'][()]\n",
    "#     flux10kmm = f['flux10kmm'][()]"
   ]
  },
  {
   "cell_type": "markdown",
   "metadata": {},
   "source": [
    "## AE"
   ]
  },
  {
   "cell_type": "code",
   "execution_count": 84,
   "metadata": {},
   "outputs": [],
   "source": [
    "from dotmap import DotMap"
   ]
  },
  {
   "cell_type": "code",
   "execution_count": 85,
   "metadata": {},
   "outputs": [],
   "source": [
    "from ae.model.simple_ae_model import SimpleAEModel"
   ]
  },
  {
   "cell_type": "code",
   "execution_count": 86,
   "metadata": {},
   "outputs": [],
   "source": [
    "config_dict = {\n",
    "    \"data\": {\n",
    "      \"dir\": \"/scratch/ceph/swei20/data/ae/dataset/test\",\n",
    "      \"filename\": \"tt.h5\",\n",
    "      \"train\": \"flux10kmm\",\n",
    "      \"test\": \"flux10kmm\"\n",
    "    },\n",
    "    \"model\":{\n",
    "      \"name\": \"SimpleAE\",\n",
    "      \"input_dim\": 300,\n",
    "      \"latent_dim\": 8,\n",
    "      \"hidden_dims\": [],\n",
    "      \"dropout\": 0.2,\n",
    "      \"lr\": 0.001,\n",
    "      \"reg1\": 0.0,\n",
    "      \"loss\": \"mae\",\n",
    "      \"opt\": \"adam\"\n",
    "    },\n",
    "    \"trainer\":{\n",
    "      \"epoch\": 20,\n",
    "      \"batch_size\": 32,\n",
    "      \"validation_split\":0.1,\n",
    "      \"verbose_training\": 1\n",
    "    },\n",
    "    \"callbacks\":{\n",
    "        \"checkpoint_monitor\": \"val_loss\",\n",
    "        \"checkpoint_mode\": \"min\"\n",
    "    }\n",
    "}"
   ]
  },
  {
   "cell_type": "code",
   "execution_count": 87,
   "metadata": {},
   "outputs": [],
   "source": [
    "config = DotMap(config_dict)"
   ]
  },
  {
   "cell_type": "code",
   "execution_count": 88,
   "metadata": {},
   "outputs": [
    {
     "name": "stdout",
     "output_type": "stream",
     "text": [
      "[300, 8]\n"
     ]
    }
   ],
   "source": [
    "mm = SimpleAEModel(config)"
   ]
  },
  {
   "cell_type": "code",
   "execution_count": 89,
   "metadata": {},
   "outputs": [],
   "source": [
    "mm.build_model()"
   ]
  },
  {
   "cell_type": "code",
   "execution_count": 90,
   "metadata": {},
   "outputs": [],
   "source": [
    "from ae.trainer.simple_ae_trainer import SimpleAETrainer"
   ]
  },
  {
   "cell_type": "code",
   "execution_count": 91,
   "metadata": {},
   "outputs": [],
   "source": [
    "tt = SimpleAETrainer(mm, flux1,config)"
   ]
  },
  {
   "cell_type": "code",
   "execution_count": 92,
   "metadata": {},
   "outputs": [
    {
     "name": "stdout",
     "output_type": "stream",
     "text": [
      "Epoch 1/20\n",
      "3280/3280 [==============================] - 6s 2ms/step - loss: 0.1557 - acc: 0.4236 - val_loss: 0.1724 - val_acc: 0.2992\n",
      "Epoch 2/20\n",
      "3280/3280 [==============================] - 5s 2ms/step - loss: 0.1188 - acc: 0.5527 - val_loss: 0.1693 - val_acc: 0.3395\n",
      "Epoch 3/20\n",
      "3280/3280 [==============================] - 5s 2ms/step - loss: 0.1148 - acc: 0.5995 - val_loss: 0.1665 - val_acc: 0.4565\n",
      "Epoch 4/20\n",
      "3280/3280 [==============================] - 5s 2ms/step - loss: 0.1130 - acc: 0.6182 - val_loss: 0.1652 - val_acc: 0.4713\n",
      "Epoch 5/20\n",
      "3280/3280 [==============================] - 5s 2ms/step - loss: 0.1122 - acc: 0.6215 - val_loss: 0.1659 - val_acc: 0.4711\n",
      "Epoch 6/20\n",
      "3280/3280 [==============================] - 5s 2ms/step - loss: 0.1121 - acc: 0.6242 - val_loss: 0.1657 - val_acc: 0.4739\n",
      "Epoch 7/20\n",
      "3280/3280 [==============================] - 5s 2ms/step - loss: 0.1115 - acc: 0.6284 - val_loss: 0.1656 - val_acc: 0.5002\n",
      "Epoch 8/20\n",
      "3280/3280 [==============================] - 5s 2ms/step - loss: 0.1113 - acc: 0.6408 - val_loss: 0.1645 - val_acc: 0.5396\n",
      "Epoch 9/20\n",
      "3280/3280 [==============================] - 5s 2ms/step - loss: 0.1104 - acc: 0.6403 - val_loss: 0.1634 - val_acc: 0.4849\n",
      "Epoch 10/20\n",
      "3280/3280 [==============================] - 5s 2ms/step - loss: 0.1098 - acc: 0.6369 - val_loss: 0.1625 - val_acc: 0.4885\n",
      "Epoch 11/20\n",
      "3280/3280 [==============================] - 5s 2ms/step - loss: 0.1096 - acc: 0.6346 - val_loss: 0.1611 - val_acc: 0.4939\n",
      "Epoch 12/20\n",
      "3280/3280 [==============================] - 5s 2ms/step - loss: 0.1091 - acc: 0.6349 - val_loss: 0.1610 - val_acc: 0.4943\n",
      "Epoch 13/20\n",
      "3280/3280 [==============================] - 5s 2ms/step - loss: 0.1094 - acc: 0.6304 - val_loss: 0.1613 - val_acc: 0.4882\n",
      "Epoch 14/20\n",
      "3280/3280 [==============================] - 6s 2ms/step - loss: 0.1091 - acc: 0.6276 - val_loss: 0.1610 - val_acc: 0.4843\n",
      "Epoch 15/20\n",
      "3280/3280 [==============================] - 5s 2ms/step - loss: 0.1090 - acc: 0.6247 - val_loss: 0.1608 - val_acc: 0.4937\n",
      "Epoch 16/20\n",
      "3280/3280 [==============================] - 5s 2ms/step - loss: 0.1090 - acc: 0.6256 - val_loss: 0.1601 - val_acc: 0.4866\n",
      "Epoch 17/20\n",
      "3280/3280 [==============================] - 5s 2ms/step - loss: 0.1092 - acc: 0.6266 - val_loss: 0.1598 - val_acc: 0.4741\n",
      "Epoch 18/20\n",
      "3280/3280 [==============================] - 5s 2ms/step - loss: 0.1090 - acc: 0.6266 - val_loss: 0.1598 - val_acc: 0.4886\n",
      "Epoch 19/20\n",
      "3280/3280 [==============================] - 5s 2ms/step - loss: 0.1082 - acc: 0.6270 - val_loss: 0.1601 - val_acc: 0.4883\n",
      "Epoch 20/20\n",
      "3280/3280 [==============================] - 5s 2ms/step - loss: 0.1082 - acc: 0.6277 - val_loss: 0.1600 - val_acc: 0.4888\n"
     ]
    }
   ],
   "source": [
    "history = tt.train()"
   ]
  },
  {
   "cell_type": "code",
   "execution_count": null,
   "metadata": {},
   "outputs": [],
   "source": []
  }
 ],
 "metadata": {
  "kernelspec": {
   "display_name": "Python 3 [ae-tf]",
   "language": "python",
   "name": "python3-ae-tf"
  },
  "language_info": {
   "codemirror_mode": {
    "name": "ipython",
    "version": 3
   },
   "file_extension": ".py",
   "mimetype": "text/x-python",
   "name": "python",
   "nbconvert_exporter": "python",
   "pygments_lexer": "ipython3",
   "version": "3.8.10"
  }
 },
 "nbformat": 4,
 "nbformat_minor": 4
}
