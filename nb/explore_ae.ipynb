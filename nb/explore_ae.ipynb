{
 "cells": [
  {
   "cell_type": "code",
   "execution_count": 1,
   "metadata": {},
   "outputs": [],
   "source": [
    "%load_ext autoreload\n",
    "%autoreload 2"
   ]
  },
  {
   "cell_type": "code",
   "execution_count": 4,
   "metadata": {},
   "outputs": [],
   "source": [
    "import os\n",
    "import sys\n",
    "import h5py\n",
    "import numpy as np\n",
    "import matplotlib.pyplot as plt"
   ]
  },
  {
   "cell_type": "code",
   "execution_count": 5,
   "metadata": {},
   "outputs": [],
   "source": [
    "PROJECT_PATH = '../'\n",
    "DATA_PATH = '/scratch/ceph/swei20/data/ae/dataset/test'\n",
    "sys.path.insert(0, PROJECT_PATH)"
   ]
  },
  {
   "cell_type": "code",
   "execution_count": 6,
   "metadata": {},
   "outputs": [],
   "source": [
    "os.environ[\"CUDA_VISIBLE_DEVICES\"] = \"0\""
   ]
  },
  {
   "cell_type": "code",
   "execution_count": 7,
   "metadata": {},
   "outputs": [
    {
     "data": {
      "text/plain": [
       "[PhysicalDevice(name='/physical_device:GPU:0', device_type='GPU')]"
      ]
     },
     "execution_count": 7,
     "metadata": {},
     "output_type": "execute_result"
    }
   ],
   "source": [
    "import tensorflow as tf\n",
    "# tf.enable_v2_behavior()\n",
    "gpus = tf.config.list_physical_devices('GPU') \n",
    "for gpu in gpus:\n",
    "    tf.config.experimental.set_memory_growth(gpu, True)\n",
    "gpus"
   ]
  },
  {
   "cell_type": "markdown",
   "metadata": {},
   "source": [
    "## Loading Data"
   ]
  },
  {
   "cell_type": "code",
   "execution_count": 27,
   "metadata": {},
   "outputs": [],
   "source": [
    "with h5py.File(fn, 'r') as f:\n",
    "    flux10kmm = f['flux10kmm'][()]\n",
    "#     flux10kmm = f['flux10kmm'][()]"
   ]
  },
  {
   "cell_type": "code",
   "execution_count": 31,
   "metadata": {},
   "outputs": [],
   "source": [
    "b = a,a"
   ]
  },
  {
   "cell_type": "code",
   "execution_count": 33,
   "metadata": {},
   "outputs": [
    {
     "data": {
      "text/plain": [
       "2"
      ]
     },
     "execution_count": 33,
     "metadata": {},
     "output_type": "execute_result"
    }
   ],
   "source": [
    "len(b)"
   ]
  },
  {
   "cell_type": "code",
   "execution_count": 30,
   "metadata": {},
   "outputs": [
    {
     "data": {
      "text/plain": [
       "(array([[1, 2, 3],\n",
       "        [4, 5, 6]]),\n",
       " array([[ True,  True,  True],\n",
       "        [ True,  True,  True]]),\n",
       " array([[1, 2, 3],\n",
       "        [4, 5, 6]]))"
      ]
     },
     "execution_count": 30,
     "metadata": {},
     "output_type": "execute_result"
    }
   ],
   "source": [
    "a, a == a, a"
   ]
  },
  {
   "cell_type": "code",
   "execution_count": 29,
   "metadata": {},
   "outputs": [
    {
     "data": {
      "text/plain": [
       "array([[1, 2, 3],\n",
       "       [4, 5, 6]])"
      ]
     },
     "execution_count": 29,
     "metadata": {},
     "output_type": "execute_result"
    }
   ],
   "source": [
    "a"
   ]
  },
  {
   "cell_type": "markdown",
   "metadata": {},
   "source": [
    "## AE"
   ]
  },
  {
   "cell_type": "code",
   "execution_count": 8,
   "metadata": {},
   "outputs": [],
   "source": [
    "from ae.models.ae_model import AE"
   ]
  },
  {
   "cell_type": "code",
   "execution_count": 9,
   "metadata": {},
   "outputs": [],
   "source": [
    "input_dim, latent_dim = 4096, 32\n",
    "hidden_units = []\n",
    "# reg1 = 1e-5\n",
    "reg1 = None\n",
    "encoder_dp=0.2\n",
    "lr = 0.001\n",
    "loss='mae'"
   ]
  },
  {
   "cell_type": "code",
   "execution_count": 13,
   "metadata": {},
   "outputs": [
    {
     "name": "stdout",
     "output_type": "stream",
     "text": [
      "[4096, 32]\n",
      "Model: \"ae\"\n",
      "_________________________________________________________________\n",
      "Layer (type)                 Output Shape              Param #   \n",
      "=================================================================\n",
      "spec (InputLayer)            [(None, 4096)]            0         \n",
      "_________________________________________________________________\n",
      "encoder (Functional)         (None, 32)                131104    \n",
      "_________________________________________________________________\n",
      "decoder (Functional)         (None, 4096)              135168    \n",
      "=================================================================\n",
      "Total params: 266,272\n",
      "Trainable params: 266,272\n",
      "Non-trainable params: 0\n",
      "_________________________________________________________________\n"
     ]
    }
   ],
   "source": [
    "model= AE(input_dim, latent_dim, hidden_units, reg1=reg1, encoder_dp=encoder_dp, loss=loss, lr=lr)"
   ]
  },
  {
   "cell_type": "code",
   "execution_count": 20,
   "metadata": {},
   "outputs": [
    {
     "name": "stdout",
     "output_type": "stream",
     "text": [
      "Epoch 1/10\n",
      "563/563 [==============================] - 2s 3ms/step - loss: 0.0148 - val_loss: 0.0074\n",
      "Epoch 2/10\n",
      "563/563 [==============================] - 1s 2ms/step - loss: 0.0091 - val_loss: 0.0093\n",
      "Epoch 3/10\n",
      "563/563 [==============================] - 1s 2ms/step - loss: 0.0079 - val_loss: 0.0049\n",
      "Epoch 4/10\n",
      "563/563 [==============================] - 1s 2ms/step - loss: 0.0072 - val_loss: 0.0072\n",
      "Epoch 5/10\n",
      "563/563 [==============================] - 1s 2ms/step - loss: 0.0069 - val_loss: 0.0039\n",
      "Epoch 6/10\n",
      "563/563 [==============================] - 1s 2ms/step - loss: 0.0071 - val_loss: 0.0044\n",
      "Epoch 7/10\n",
      "563/563 [==============================] - 1s 2ms/step - loss: 0.0070 - val_loss: 0.0043\n",
      "Epoch 8/10\n",
      "563/563 [==============================] - 1s 2ms/step - loss: 0.0067 - val_loss: 0.0045\n",
      "Epoch 9/10\n",
      "563/563 [==============================] - 1s 2ms/step - loss: 0.0070 - val_loss: 0.0050\n",
      "Epoch 10/10\n",
      "563/563 [==============================] - 1s 2ms/step - loss: 0.0068 - val_loss: 0.0040\n"
     ]
    }
   ],
   "source": [
    "x_train = flux10kmm\n",
    "model.fit(x_train, ep=10)"
   ]
  },
  {
   "cell_type": "code",
   "execution_count": null,
   "metadata": {},
   "outputs": [],
   "source": []
  }
 ],
 "metadata": {
  "kernelspec": {
   "display_name": "Python 3 [ae-tf]",
   "language": "python",
   "name": "python3-ae-tf"
  },
  "language_info": {
   "codemirror_mode": {
    "name": "ipython",
    "version": 3
   },
   "file_extension": ".py",
   "mimetype": "text/x-python",
   "name": "python",
   "nbconvert_exporter": "python",
   "pygments_lexer": "ipython3",
   "version": "3.8.10"
  }
 },
 "nbformat": 4,
 "nbformat_minor": 4
}
