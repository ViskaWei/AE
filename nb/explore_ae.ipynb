{
 "cells": [
  {
   "cell_type": "code",
   "execution_count": 1,
   "metadata": {},
   "outputs": [],
   "source": [
    "%load_ext autoreload\n",
    "%autoreload 2"
   ]
  },
  {
   "cell_type": "code",
   "execution_count": 4,
   "metadata": {},
   "outputs": [],
   "source": [
    "import os\n",
    "import sys\n",
    "import h5py\n",
    "import numpy as np\n",
    "import matplotlib.pyplot as plt"
   ]
  },
  {
   "cell_type": "code",
   "execution_count": 34,
   "metadata": {},
   "outputs": [],
   "source": [
    "PROJECT_PATH = '../'\n",
    "DATA_PATH = '/scratch/ceph/swei20/data/ae/dataset/test'\n",
    "PCA_PATH = '/scratch/ceph/dobos/data/pfsspec/import/stellar/rbf/bosz_5000_full/pca/spectra.h5'\n",
    "sys.path.insert(0, PROJECT_PATH)"
   ]
  },
  {
   "cell_type": "code",
   "execution_count": 6,
   "metadata": {},
   "outputs": [],
   "source": [
    "os.environ[\"CUDA_VISIBLE_DEVICES\"] = \"0\""
   ]
  },
  {
   "cell_type": "code",
   "execution_count": 7,
   "metadata": {},
   "outputs": [
    {
     "data": {
      "text/plain": [
       "[PhysicalDevice(name='/physical_device:GPU:0', device_type='GPU')]"
      ]
     },
     "execution_count": 7,
     "metadata": {},
     "output_type": "execute_result"
    }
   ],
   "source": [
    "import tensorflow as tf\n",
    "# tf.enable_v2_behavior()\n",
    "gpus = tf.config.list_physical_devices('GPU') \n",
    "for gpu in gpus:\n",
    "    tf.config.experimental.set_memory_growth(gpu, True)\n",
    "gpus"
   ]
  },
  {
   "cell_type": "markdown",
   "metadata": {},
   "source": [
    "## Loading Data"
   ]
  },
  {
   "cell_type": "code",
   "execution_count": 35,
   "metadata": {},
   "outputs": [],
   "source": [
    "with h5py.File(PCA_PATH, 'r') as f:\n",
    "    flux = f['flux'][()]"
   ]
  },
  {
   "cell_type": "code",
   "execution_count": 39,
   "metadata": {},
   "outputs": [],
   "source": [
    "def prepro_pca(flux, dim=300):\n",
    "    flux0 = flux.reshape(-1, 1000)[:, :dim]    \n",
    "    flux_clean = flux0[~np.isnan(flux0[:,0])]    \n",
    "    print(flux_clean.shape, flux0.shape)\n",
    "    print('min', flux_clean.min(), 'max', flux_clean.max(),'mean', flux_clean.mean(),'std', flux_clean.std() )\n",
    "    return flux_clean"
   ]
  },
  {
   "cell_type": "code",
   "execution_count": 40,
   "metadata": {},
   "outputs": [
    {
     "name": "stdout",
     "output_type": "stream",
     "text": [
      "(116614, 300) (243936, 300)\n",
      "min -184.9254058126797 max 145.24091665337806 mean -0.10353327716635463 std 2.4000601615265493\n"
     ]
    }
   ],
   "source": [
    "flux1 = prepro_pca(flux, dim=300)"
   ]
  },
  {
   "cell_type": "code",
   "execution_count": 155,
   "metadata": {},
   "outputs": [],
   "source": [
    "SAVE_PATH = os.path.join(DATA_PATH, 'pca.h5')"
   ]
  },
  {
   "cell_type": "code",
   "execution_count": 156,
   "metadata": {},
   "outputs": [],
   "source": [
    "with h5py.File(SAVE_PATH, 'w') as f:\n",
    "    f.create_dataset('flux300', data = flux1)\n",
    "#     f.create_dataset('flux10kmm', data = flux10kmm)"
   ]
  },
  {
   "cell_type": "code",
   "execution_count": 27,
   "metadata": {},
   "outputs": [],
   "source": [
    "with h5py.File(fn, 'r') as f:\n",
    "    flux10kmm = f['flux10kmm'][()]\n",
    "#     flux10kmm = f['flux10kmm'][()]"
   ]
  },
  {
   "cell_type": "markdown",
   "metadata": {},
   "source": [
    "## AE"
   ]
  },
  {
   "cell_type": "code",
   "execution_count": 125,
   "metadata": {},
   "outputs": [],
   "source": [
    "from dotmap import DotMap"
   ]
  },
  {
   "cell_type": "code",
   "execution_count": 157,
   "metadata": {},
   "outputs": [],
   "source": [
    "config_dict = {\n",
    "    \"data\": {\n",
    "      \"dir\": \"/scratch/ceph/swei20/data/ae/dataset/test\",\n",
    "      \"filename\": \"pca.h5\",\n",
    "      \"train\": \"flux300\",\n",
    "      \"test\": None\n",
    "    },\n",
    "    \"model\":{\n",
    "      \"name\": \"SimpleAE\",\n",
    "      \"input_dim\": 300,\n",
    "      \"latent_dim\": 8,\n",
    "      \"hidden_dims\": [64],\n",
    "      \"dropout\": 0.2,\n",
    "      \"lr\": 0.001,\n",
    "      \"reg1\": 0.0,\n",
    "      \"loss\": \"mae\",\n",
    "      \"opt\": \"adam\"\n",
    "    },\n",
    "    \"trainer\":{\n",
    "      \"epoch\": 20,\n",
    "      \"batch_size\": 32,\n",
    "      \"validation_split\":0.1,\n",
    "      \"verbose_training\": 1\n",
    "    },\n",
    "    \"callbacks\":{\n",
    "        \"checkpoint_monitor\": \"val_loss\",\n",
    "        \"checkpoint_mode\": \"min\"\n",
    "    }\n",
    "}"
   ]
  },
  {
   "cell_type": "code",
   "execution_count": 158,
   "metadata": {},
   "outputs": [],
   "source": [
    "config = DotMap(config_dict)"
   ]
  },
  {
   "cell_type": "code",
   "execution_count": 163,
   "metadata": {},
   "outputs": [],
   "source": [
    "from ae.data_loader.spec_data_loader import SpecDataLoader"
   ]
  },
  {
   "cell_type": "code",
   "execution_count": 164,
   "metadata": {},
   "outputs": [],
   "source": [
    "ds = SpecDataLoader()"
   ]
  },
  {
   "cell_type": "code",
   "execution_count": 165,
   "metadata": {},
   "outputs": [],
   "source": [
    "ds.init_from_config(config)"
   ]
  },
  {
   "cell_type": "code",
   "execution_count": 167,
   "metadata": {},
   "outputs": [
    {
     "data": {
      "text/plain": [
       "(116614, 300)"
      ]
     },
     "execution_count": 167,
     "metadata": {},
     "output_type": "execute_result"
    }
   ],
   "source": [
    "ds.get_train_data()[0].shape"
   ]
  },
  {
   "cell_type": "code",
   "execution_count": 159,
   "metadata": {},
   "outputs": [],
   "source": [
    "from ae.model.simple_ae_model import SimpleAEModel"
   ]
  },
  {
   "cell_type": "code",
   "execution_count": 160,
   "metadata": {},
   "outputs": [],
   "source": [
    "mm = SimpleAEModel()"
   ]
  },
  {
   "cell_type": "code",
   "execution_count": 161,
   "metadata": {},
   "outputs": [
    {
     "name": "stdout",
     "output_type": "stream",
     "text": [
      "[300, 64, 8]\n"
     ]
    }
   ],
   "source": [
    "mm.build_model(config)"
   ]
  },
  {
   "cell_type": "code",
   "execution_count": 162,
   "metadata": {},
   "outputs": [],
   "source": [
    "from ae.trainer.simple_ae_trainer import SimpleAETrainer"
   ]
  },
  {
   "cell_type": "code",
   "execution_count": 153,
   "metadata": {},
   "outputs": [],
   "source": [
    "tt = SimpleAETrainer(mm, flux1, config)"
   ]
  },
  {
   "cell_type": "code",
   "execution_count": 154,
   "metadata": {},
   "outputs": [
    {
     "name": "stdout",
     "output_type": "stream",
     "text": [
      "Epoch 1/100\n",
      "3280/3280 [==============================] - 8s 2ms/step - loss: 0.1552 - acc: 0.3957 - val_loss: 0.1679 - val_acc: 0.3021\n",
      "Epoch 2/100\n",
      "3280/3280 [==============================] - 7s 2ms/step - loss: 0.1222 - acc: 0.5486 - val_loss: 0.1598 - val_acc: 0.3779\n",
      "Epoch 3/100\n",
      "3280/3280 [==============================] - 7s 2ms/step - loss: 0.1196 - acc: 0.5719 - val_loss: 0.1610 - val_acc: 0.4273\n",
      "Epoch 4/100\n",
      "3280/3280 [==============================] - 6s 2ms/step - loss: 0.1178 - acc: 0.5896 - val_loss: 0.1527 - val_acc: 0.3950\n",
      "Epoch 5/100\n",
      "3280/3280 [==============================] - 6s 2ms/step - loss: 0.1164 - acc: 0.6084 - val_loss: 0.1553 - val_acc: 0.4733\n",
      "Epoch 6/100\n",
      "3280/3280 [==============================] - 7s 2ms/step - loss: 0.1153 - acc: 0.6134 - val_loss: 0.1601 - val_acc: 0.4895\n",
      "Epoch 7/100\n",
      "3280/3280 [==============================] - 7s 2ms/step - loss: 0.1147 - acc: 0.6171 - val_loss: 0.1590 - val_acc: 0.4863\n",
      "Epoch 8/100\n",
      "3280/3280 [==============================] - 6s 2ms/step - loss: 0.1136 - acc: 0.6124 - val_loss: 0.1615 - val_acc: 0.4032\n",
      "Epoch 9/100\n",
      "3280/3280 [==============================] - 7s 2ms/step - loss: 0.1129 - acc: 0.6100 - val_loss: 0.1632 - val_acc: 0.4338\n",
      "Epoch 10/100\n",
      "3280/3280 [==============================] - 7s 2ms/step - loss: 0.1122 - acc: 0.6081 - val_loss: 0.1631 - val_acc: 0.4100\n",
      "Epoch 11/100\n",
      "3280/3280 [==============================] - 7s 2ms/step - loss: 0.1119 - acc: 0.6088 - val_loss: 0.1618 - val_acc: 0.4442\n",
      "Epoch 12/100\n",
      "3280/3280 [==============================] - 7s 2ms/step - loss: 0.1111 - acc: 0.6068 - val_loss: 0.1634 - val_acc: 0.4144\n",
      "Epoch 13/100\n",
      "3280/3280 [==============================] - 7s 2ms/step - loss: 0.1108 - acc: 0.6076 - val_loss: 0.1610 - val_acc: 0.4401\n",
      "Epoch 14/100\n",
      "3280/3280 [==============================] - 7s 2ms/step - loss: 0.1104 - acc: 0.6045 - val_loss: 0.1590 - val_acc: 0.4498\n",
      "Epoch 15/100\n",
      "3280/3280 [==============================] - 7s 2ms/step - loss: 0.1103 - acc: 0.6020 - val_loss: 0.1638 - val_acc: 0.4431\n",
      "Epoch 16/100\n",
      "3280/3280 [==============================] - 6s 2ms/step - loss: 0.1100 - acc: 0.6025 - val_loss: 0.1583 - val_acc: 0.4673\n",
      "Epoch 17/100\n",
      "3280/3280 [==============================] - 7s 2ms/step - loss: 0.1098 - acc: 0.6045 - val_loss: 0.1632 - val_acc: 0.4350\n",
      "Epoch 18/100\n",
      "3280/3280 [==============================] - 6s 2ms/step - loss: 0.1099 - acc: 0.6036 - val_loss: 0.1593 - val_acc: 0.4266\n",
      "Epoch 19/100\n",
      "3280/3280 [==============================] - 7s 2ms/step - loss: 0.1098 - acc: 0.6015 - val_loss: 0.1626 - val_acc: 0.4161\n",
      "Epoch 20/100\n",
      "3280/3280 [==============================] - 7s 2ms/step - loss: 0.1096 - acc: 0.6028 - val_loss: 0.1575 - val_acc: 0.4487\n",
      "Epoch 21/100\n",
      "3280/3280 [==============================] - 6s 2ms/step - loss: 0.1094 - acc: 0.6051 - val_loss: 0.1607 - val_acc: 0.4481\n",
      "Epoch 22/100\n",
      "3280/3280 [==============================] - 7s 2ms/step - loss: 0.1095 - acc: 0.6041 - val_loss: 0.1619 - val_acc: 0.4466\n",
      "Epoch 23/100\n",
      "3280/3280 [==============================] - 7s 2ms/step - loss: 0.1095 - acc: 0.6012 - val_loss: 0.1600 - val_acc: 0.4239\n",
      "Epoch 24/100\n",
      "3280/3280 [==============================] - 7s 2ms/step - loss: 0.1094 - acc: 0.6039 - val_loss: 0.1575 - val_acc: 0.4951\n",
      "Epoch 25/100\n",
      "3280/3280 [==============================] - 6s 2ms/step - loss: 0.1077 - acc: 0.6075 - val_loss: 0.1586 - val_acc: 0.4527\n",
      "Epoch 26/100\n",
      "3280/3280 [==============================] - 6s 2ms/step - loss: 0.1078 - acc: 0.6086 - val_loss: 0.1572 - val_acc: 0.4627\n",
      "Epoch 27/100\n",
      "3280/3280 [==============================] - 6s 2ms/step - loss: 0.1078 - acc: 0.6092 - val_loss: 0.1572 - val_acc: 0.4702\n",
      "Epoch 28/100\n",
      "3280/3280 [==============================] - 6s 2ms/step - loss: 0.1077 - acc: 0.6100 - val_loss: 0.1575 - val_acc: 0.4716\n",
      "Epoch 29/100\n",
      "3280/3280 [==============================] - 7s 2ms/step - loss: 0.1075 - acc: 0.6075 - val_loss: 0.1574 - val_acc: 0.4726\n",
      "Epoch 30/100\n",
      "3280/3280 [==============================] - 7s 2ms/step - loss: 0.1076 - acc: 0.6093 - val_loss: 0.1574 - val_acc: 0.4672\n",
      "Epoch 31/100\n",
      "3280/3280 [==============================] - 7s 2ms/step - loss: 0.1074 - acc: 0.6105 - val_loss: 0.1574 - val_acc: 0.4711\n",
      "Epoch 32/100\n",
      "3280/3280 [==============================] - 6s 2ms/step - loss: 0.1073 - acc: 0.6104 - val_loss: 0.1572 - val_acc: 0.4697\n",
      "Epoch 33/100\n",
      "3280/3280 [==============================] - 7s 2ms/step - loss: 0.1074 - acc: 0.6074 - val_loss: 0.1572 - val_acc: 0.4701\n",
      "Epoch 34/100\n",
      "3280/3280 [==============================] - 6s 2ms/step - loss: 0.1076 - acc: 0.6100 - val_loss: 0.1574 - val_acc: 0.4691\n",
      "Epoch 35/100\n",
      "3280/3280 [==============================] - 7s 2ms/step - loss: 0.1074 - acc: 0.6086 - val_loss: 0.1574 - val_acc: 0.4695\n",
      "Epoch 36/100\n",
      "3280/3280 [==============================] - 7s 2ms/step - loss: 0.1074 - acc: 0.6087 - val_loss: 0.1575 - val_acc: 0.4696\n",
      "Epoch 37/100\n",
      "3280/3280 [==============================] - 7s 2ms/step - loss: 0.1074 - acc: 0.6077 - val_loss: 0.1574 - val_acc: 0.4695\n",
      "Epoch 38/100\n",
      "3280/3280 [==============================] - 7s 2ms/step - loss: 0.1075 - acc: 0.6093 - val_loss: 0.1574 - val_acc: 0.4695\n"
     ]
    }
   ],
   "source": [
    "history = tt.train(ep=100)"
   ]
  },
  {
   "cell_type": "code",
   "execution_count": 136,
   "metadata": {},
   "outputs": [
    {
     "name": "stdout",
     "output_type": "stream",
     "text": [
      "Epoch 1/20\n",
      "3280/3280 [==============================] - 8s 2ms/step - loss: 0.1587 - acc: 0.3878 - val_loss: 0.1785 - val_acc: 0.2356\n",
      "Epoch 2/20\n",
      "3280/3280 [==============================] - 7s 2ms/step - loss: 0.1242 - acc: 0.5210 - val_loss: 0.1711 - val_acc: 0.3381\n",
      "Epoch 3/20\n",
      "3280/3280 [==============================] - 7s 2ms/step - loss: 0.1210 - acc: 0.5409 - val_loss: 0.1697 - val_acc: 0.4019\n",
      "Epoch 4/20\n",
      "3280/3280 [==============================] - 7s 2ms/step - loss: 0.1193 - acc: 0.5449 - val_loss: 0.1688 - val_acc: 0.3716\n",
      "Epoch 5/20\n",
      "3280/3280 [==============================] - 7s 2ms/step - loss: 0.1182 - acc: 0.5559 - val_loss: 0.1669 - val_acc: 0.3912\n",
      "Epoch 6/20\n",
      "3280/3280 [==============================] - 7s 2ms/step - loss: 0.1173 - acc: 0.5611 - val_loss: 0.1611 - val_acc: 0.4010\n",
      "Epoch 7/20\n",
      "3280/3280 [==============================] - 7s 2ms/step - loss: 0.1164 - acc: 0.5663 - val_loss: 0.1733 - val_acc: 0.4659\n",
      "Epoch 8/20\n",
      "3280/3280 [==============================] - 7s 2ms/step - loss: 0.1157 - acc: 0.5714 - val_loss: 0.1710 - val_acc: 0.4674\n",
      "Epoch 9/20\n",
      "3280/3280 [==============================] - 7s 2ms/step - loss: 0.1153 - acc: 0.5749 - val_loss: 0.1680 - val_acc: 0.4311\n",
      "Epoch 10/20\n",
      "3280/3280 [==============================] - 7s 2ms/step - loss: 0.1149 - acc: 0.5757 - val_loss: 0.1629 - val_acc: 0.4708\n",
      "Epoch 11/20\n",
      "3280/3280 [==============================] - 7s 2ms/step - loss: 0.1147 - acc: 0.5833 - val_loss: 0.1668 - val_acc: 0.4708\n",
      "Epoch 12/20\n",
      "3280/3280 [==============================] - 7s 2ms/step - loss: 0.1139 - acc: 0.5906 - val_loss: 0.1667 - val_acc: 0.4948\n",
      "Epoch 13/20\n",
      "3280/3280 [==============================] - 7s 2ms/step - loss: 0.1138 - acc: 0.5915 - val_loss: 0.1692 - val_acc: 0.4524\n",
      "Epoch 14/20\n",
      "3280/3280 [==============================] - 7s 2ms/step - loss: 0.1136 - acc: 0.5951 - val_loss: 0.1631 - val_acc: 0.4728\n",
      "Epoch 15/20\n",
      "3280/3280 [==============================] - 7s 2ms/step - loss: 0.1132 - acc: 0.5964 - val_loss: 0.1630 - val_acc: 0.5020\n",
      "Epoch 16/20\n",
      "3280/3280 [==============================] - 7s 2ms/step - loss: 0.1130 - acc: 0.5960 - val_loss: 0.1649 - val_acc: 0.4943\n",
      "Epoch 17/20\n",
      "3280/3280 [==============================] - 7s 2ms/step - loss: 0.1127 - acc: 0.5985 - val_loss: 0.1710 - val_acc: 0.5006\n",
      "Epoch 18/20\n",
      "3280/3280 [==============================] - 7s 2ms/step - loss: 0.1128 - acc: 0.5981 - val_loss: 0.1680 - val_acc: 0.5008\n",
      "Epoch 19/20\n",
      "3280/3280 [==============================] - 7s 2ms/step - loss: 0.1124 - acc: 0.5993 - val_loss: 0.1570 - val_acc: 0.4965\n",
      "Epoch 20/20\n",
      "3280/3280 [==============================] - 7s 2ms/step - loss: 0.1121 - acc: 0.6013 - val_loss: 0.1686 - val_acc: 0.5148\n"
     ]
    }
   ],
   "source": [
    "history = tt.train()"
   ]
  },
  {
   "cell_type": "code",
   "execution_count": 138,
   "metadata": {},
   "outputs": [],
   "source": [
    "root = \"/home/swei20/AE/\""
   ]
  },
  {
   "cell_type": "code",
   "execution_count": 141,
   "metadata": {},
   "outputs": [
    {
     "data": {
      "text/plain": [
       "'/home/swei20/AE/logs/fit/mae_lr3_l8_h2dp02_SimpleAE_0629_075839'"
      ]
     },
     "execution_count": 141,
     "metadata": {},
     "output_type": "execute_result"
    }
   ],
   "source": [
    "os.path.join(root, 'logs/fit/', mm.name)"
   ]
  },
  {
   "cell_type": "code",
   "execution_count": 213,
   "metadata": {},
   "outputs": [
    {
     "name": "stderr",
     "output_type": "stream",
     "text": [
      "  File \"<stdin>\", line 1\n",
      "    --config \"/home/swei20/AE/configs/ae/train/pca_config.json\" --lr 2\n",
      "             ^\n",
      "SyntaxError: invalid syntax\n"
     ]
    },
    {
     "ename": "CalledProcessError",
     "evalue": "Command 'b'--config \"/home/swei20/AE/configs/ae/train/pca_config.json\" --lr 2\\n'' returned non-zero exit status 1.",
     "output_type": "error",
     "traceback": [
      "\u001b[0;31m---------------------------------------------------------------------------\u001b[0m",
      "\u001b[0;31mCalledProcessError\u001b[0m                        Traceback (most recent call last)",
      "\u001b[0;32m<ipython-input-213-b28170b877a5>\u001b[0m in \u001b[0;36m<module>\u001b[0;34m\u001b[0m\n\u001b[0;32m----> 1\u001b[0;31m \u001b[0mget_ipython\u001b[0m\u001b[0;34m(\u001b[0m\u001b[0;34m)\u001b[0m\u001b[0;34m.\u001b[0m\u001b[0mrun_cell_magic\u001b[0m\u001b[0;34m(\u001b[0m\u001b[0;34m'python'\u001b[0m\u001b[0;34m,\u001b[0m \u001b[0;34m''\u001b[0m\u001b[0;34m,\u001b[0m \u001b[0;34m'--config \"/home/swei20/AE/configs/ae/train/pca_config.json\" --lr 2\\n'\u001b[0m\u001b[0;34m)\u001b[0m\u001b[0;34m\u001b[0m\u001b[0;34m\u001b[0m\u001b[0m\n\u001b[0m",
      "\u001b[0;32m/datascope/slurm/miniconda3/envs/ae-tf/lib/python3.8/site-packages/IPython/core/interactiveshell.py\u001b[0m in \u001b[0;36mrun_cell_magic\u001b[0;34m(self, magic_name, line, cell)\u001b[0m\n\u001b[1;32m   2397\u001b[0m             \u001b[0;32mwith\u001b[0m \u001b[0mself\u001b[0m\u001b[0;34m.\u001b[0m\u001b[0mbuiltin_trap\u001b[0m\u001b[0;34m:\u001b[0m\u001b[0;34m\u001b[0m\u001b[0;34m\u001b[0m\u001b[0m\n\u001b[1;32m   2398\u001b[0m                 \u001b[0margs\u001b[0m \u001b[0;34m=\u001b[0m \u001b[0;34m(\u001b[0m\u001b[0mmagic_arg_s\u001b[0m\u001b[0;34m,\u001b[0m \u001b[0mcell\u001b[0m\u001b[0;34m)\u001b[0m\u001b[0;34m\u001b[0m\u001b[0;34m\u001b[0m\u001b[0m\n\u001b[0;32m-> 2399\u001b[0;31m                 \u001b[0mresult\u001b[0m \u001b[0;34m=\u001b[0m \u001b[0mfn\u001b[0m\u001b[0;34m(\u001b[0m\u001b[0;34m*\u001b[0m\u001b[0margs\u001b[0m\u001b[0;34m,\u001b[0m \u001b[0;34m**\u001b[0m\u001b[0mkwargs\u001b[0m\u001b[0;34m)\u001b[0m\u001b[0;34m\u001b[0m\u001b[0;34m\u001b[0m\u001b[0m\n\u001b[0m\u001b[1;32m   2400\u001b[0m             \u001b[0;32mreturn\u001b[0m \u001b[0mresult\u001b[0m\u001b[0;34m\u001b[0m\u001b[0;34m\u001b[0m\u001b[0m\n\u001b[1;32m   2401\u001b[0m \u001b[0;34m\u001b[0m\u001b[0m\n",
      "\u001b[0;32m/datascope/slurm/miniconda3/envs/ae-tf/lib/python3.8/site-packages/IPython/core/magics/script.py\u001b[0m in \u001b[0;36mnamed_script_magic\u001b[0;34m(line, cell)\u001b[0m\n\u001b[1;32m    140\u001b[0m             \u001b[0;32melse\u001b[0m\u001b[0;34m:\u001b[0m\u001b[0;34m\u001b[0m\u001b[0;34m\u001b[0m\u001b[0m\n\u001b[1;32m    141\u001b[0m                 \u001b[0mline\u001b[0m \u001b[0;34m=\u001b[0m \u001b[0mscript\u001b[0m\u001b[0;34m\u001b[0m\u001b[0;34m\u001b[0m\u001b[0m\n\u001b[0;32m--> 142\u001b[0;31m             \u001b[0;32mreturn\u001b[0m \u001b[0mself\u001b[0m\u001b[0;34m.\u001b[0m\u001b[0mshebang\u001b[0m\u001b[0;34m(\u001b[0m\u001b[0mline\u001b[0m\u001b[0;34m,\u001b[0m \u001b[0mcell\u001b[0m\u001b[0;34m)\u001b[0m\u001b[0;34m\u001b[0m\u001b[0;34m\u001b[0m\u001b[0m\n\u001b[0m\u001b[1;32m    143\u001b[0m \u001b[0;34m\u001b[0m\u001b[0m\n\u001b[1;32m    144\u001b[0m         \u001b[0;31m# write a basic docstring:\u001b[0m\u001b[0;34m\u001b[0m\u001b[0;34m\u001b[0m\u001b[0;34m\u001b[0m\u001b[0m\n",
      "\u001b[0;32m/datascope/slurm/miniconda3/envs/ae-tf/lib/python3.8/site-packages/decorator.py\u001b[0m in \u001b[0;36mfun\u001b[0;34m(*args, **kw)\u001b[0m\n\u001b[1;32m    230\u001b[0m             \u001b[0;32mif\u001b[0m \u001b[0;32mnot\u001b[0m \u001b[0mkwsyntax\u001b[0m\u001b[0;34m:\u001b[0m\u001b[0;34m\u001b[0m\u001b[0;34m\u001b[0m\u001b[0m\n\u001b[1;32m    231\u001b[0m                 \u001b[0margs\u001b[0m\u001b[0;34m,\u001b[0m \u001b[0mkw\u001b[0m \u001b[0;34m=\u001b[0m \u001b[0mfix\u001b[0m\u001b[0;34m(\u001b[0m\u001b[0margs\u001b[0m\u001b[0;34m,\u001b[0m \u001b[0mkw\u001b[0m\u001b[0;34m,\u001b[0m \u001b[0msig\u001b[0m\u001b[0;34m)\u001b[0m\u001b[0;34m\u001b[0m\u001b[0;34m\u001b[0m\u001b[0m\n\u001b[0;32m--> 232\u001b[0;31m             \u001b[0;32mreturn\u001b[0m \u001b[0mcaller\u001b[0m\u001b[0;34m(\u001b[0m\u001b[0mfunc\u001b[0m\u001b[0;34m,\u001b[0m \u001b[0;34m*\u001b[0m\u001b[0;34m(\u001b[0m\u001b[0mextras\u001b[0m \u001b[0;34m+\u001b[0m \u001b[0margs\u001b[0m\u001b[0;34m)\u001b[0m\u001b[0;34m,\u001b[0m \u001b[0;34m**\u001b[0m\u001b[0mkw\u001b[0m\u001b[0;34m)\u001b[0m\u001b[0;34m\u001b[0m\u001b[0;34m\u001b[0m\u001b[0m\n\u001b[0m\u001b[1;32m    233\u001b[0m     \u001b[0mfun\u001b[0m\u001b[0;34m.\u001b[0m\u001b[0m__name__\u001b[0m \u001b[0;34m=\u001b[0m \u001b[0mfunc\u001b[0m\u001b[0;34m.\u001b[0m\u001b[0m__name__\u001b[0m\u001b[0;34m\u001b[0m\u001b[0;34m\u001b[0m\u001b[0m\n\u001b[1;32m    234\u001b[0m     \u001b[0mfun\u001b[0m\u001b[0;34m.\u001b[0m\u001b[0m__doc__\u001b[0m \u001b[0;34m=\u001b[0m \u001b[0mfunc\u001b[0m\u001b[0;34m.\u001b[0m\u001b[0m__doc__\u001b[0m\u001b[0;34m\u001b[0m\u001b[0;34m\u001b[0m\u001b[0m\n",
      "\u001b[0;32m/datascope/slurm/miniconda3/envs/ae-tf/lib/python3.8/site-packages/IPython/core/magic.py\u001b[0m in \u001b[0;36m<lambda>\u001b[0;34m(f, *a, **k)\u001b[0m\n\u001b[1;32m    185\u001b[0m     \u001b[0;31m# but it's overkill for just that one bit of state.\u001b[0m\u001b[0;34m\u001b[0m\u001b[0;34m\u001b[0m\u001b[0;34m\u001b[0m\u001b[0m\n\u001b[1;32m    186\u001b[0m     \u001b[0;32mdef\u001b[0m \u001b[0mmagic_deco\u001b[0m\u001b[0;34m(\u001b[0m\u001b[0marg\u001b[0m\u001b[0;34m)\u001b[0m\u001b[0;34m:\u001b[0m\u001b[0;34m\u001b[0m\u001b[0;34m\u001b[0m\u001b[0m\n\u001b[0;32m--> 187\u001b[0;31m         \u001b[0mcall\u001b[0m \u001b[0;34m=\u001b[0m \u001b[0;32mlambda\u001b[0m \u001b[0mf\u001b[0m\u001b[0;34m,\u001b[0m \u001b[0;34m*\u001b[0m\u001b[0ma\u001b[0m\u001b[0;34m,\u001b[0m \u001b[0;34m**\u001b[0m\u001b[0mk\u001b[0m\u001b[0;34m:\u001b[0m \u001b[0mf\u001b[0m\u001b[0;34m(\u001b[0m\u001b[0;34m*\u001b[0m\u001b[0ma\u001b[0m\u001b[0;34m,\u001b[0m \u001b[0;34m**\u001b[0m\u001b[0mk\u001b[0m\u001b[0;34m)\u001b[0m\u001b[0;34m\u001b[0m\u001b[0;34m\u001b[0m\u001b[0m\n\u001b[0m\u001b[1;32m    188\u001b[0m \u001b[0;34m\u001b[0m\u001b[0m\n\u001b[1;32m    189\u001b[0m         \u001b[0;32mif\u001b[0m \u001b[0mcallable\u001b[0m\u001b[0;34m(\u001b[0m\u001b[0marg\u001b[0m\u001b[0;34m)\u001b[0m\u001b[0;34m:\u001b[0m\u001b[0;34m\u001b[0m\u001b[0;34m\u001b[0m\u001b[0m\n",
      "\u001b[0;32m/datascope/slurm/miniconda3/envs/ae-tf/lib/python3.8/site-packages/IPython/core/magics/script.py\u001b[0m in \u001b[0;36mshebang\u001b[0;34m(self, line, cell)\u001b[0m\n\u001b[1;32m    243\u001b[0m             \u001b[0msys\u001b[0m\u001b[0;34m.\u001b[0m\u001b[0mstderr\u001b[0m\u001b[0;34m.\u001b[0m\u001b[0mflush\u001b[0m\u001b[0;34m(\u001b[0m\u001b[0;34m)\u001b[0m\u001b[0;34m\u001b[0m\u001b[0;34m\u001b[0m\u001b[0m\n\u001b[1;32m    244\u001b[0m         \u001b[0;32mif\u001b[0m \u001b[0margs\u001b[0m\u001b[0;34m.\u001b[0m\u001b[0mraise_error\u001b[0m \u001b[0;32mand\u001b[0m \u001b[0mp\u001b[0m\u001b[0;34m.\u001b[0m\u001b[0mreturncode\u001b[0m\u001b[0;34m!=\u001b[0m\u001b[0;36m0\u001b[0m\u001b[0;34m:\u001b[0m\u001b[0;34m\u001b[0m\u001b[0;34m\u001b[0m\u001b[0m\n\u001b[0;32m--> 245\u001b[0;31m             \u001b[0;32mraise\u001b[0m \u001b[0mCalledProcessError\u001b[0m\u001b[0;34m(\u001b[0m\u001b[0mp\u001b[0m\u001b[0;34m.\u001b[0m\u001b[0mreturncode\u001b[0m\u001b[0;34m,\u001b[0m \u001b[0mcell\u001b[0m\u001b[0;34m,\u001b[0m \u001b[0moutput\u001b[0m\u001b[0;34m=\u001b[0m\u001b[0mout\u001b[0m\u001b[0;34m,\u001b[0m \u001b[0mstderr\u001b[0m\u001b[0;34m=\u001b[0m\u001b[0merr\u001b[0m\u001b[0;34m)\u001b[0m\u001b[0;34m\u001b[0m\u001b[0;34m\u001b[0m\u001b[0m\n\u001b[0m\u001b[1;32m    246\u001b[0m \u001b[0;34m\u001b[0m\u001b[0m\n\u001b[1;32m    247\u001b[0m     \u001b[0;32mdef\u001b[0m \u001b[0m_run_script\u001b[0m\u001b[0;34m(\u001b[0m\u001b[0mself\u001b[0m\u001b[0;34m,\u001b[0m \u001b[0mp\u001b[0m\u001b[0;34m,\u001b[0m \u001b[0mcell\u001b[0m\u001b[0;34m,\u001b[0m \u001b[0mto_close\u001b[0m\u001b[0;34m)\u001b[0m\u001b[0;34m:\u001b[0m\u001b[0;34m\u001b[0m\u001b[0;34m\u001b[0m\u001b[0m\n",
      "\u001b[0;31mCalledProcessError\u001b[0m: Command 'b'--config \"/home/swei20/AE/configs/ae/train/pca_config.json\" --lr 2\\n'' returned non-zero exit status 1."
     ]
    }
   ],
   "source": [
    "%%python \n",
    "--config \"/home/swei20/AE/configs/ae/train/pca_config.json\" --lr 2"
   ]
  },
  {
   "cell_type": "code",
   "execution_count": null,
   "metadata": {},
   "outputs": [],
   "source": [
    "if __name__ == '__main__':\n",
    "    print(sys.argv)"
   ]
  },
  {
   "cell_type": "code",
   "execution_count": 258,
   "metadata": {},
   "outputs": [],
   "source": [
    "from ae.base.base_pipeline import BasePipeline"
   ]
  },
  {
   "cell_type": "code",
   "execution_count": 261,
   "metadata": {},
   "outputs": [],
   "source": [
    "from ae.pipeline.simple_ae_pipeline import SimpleAEPipeline"
   ]
  },
  {
   "cell_type": "code",
   "execution_count": 259,
   "metadata": {},
   "outputs": [],
   "source": [
    "cmd = \"main --config /home/swei20/AE/configs/ae/train/pca_config.json --lr 2\"\n",
    "sys.argv = cmd.split()"
   ]
  },
  {
   "cell_type": "code",
   "execution_count": 263,
   "metadata": {},
   "outputs": [
    {
     "name": "stdout",
     "output_type": "stream",
     "text": [
      "0.001\n",
      "2\n"
     ]
    }
   ],
   "source": [
    "sp=SimpleAEPipeline()\n",
    "sp.prepare()\n",
    "sp.run()"
   ]
  },
  {
   "cell_type": "code",
   "execution_count": 247,
   "metadata": {},
   "outputs": [],
   "source": [
    "a = bp.args"
   ]
  },
  {
   "cell_type": "code",
   "execution_count": 255,
   "metadata": {},
   "outputs": [
    {
     "ename": "TypeError",
     "evalue": "'int' object does not support item assignment",
     "output_type": "error",
     "traceback": [
      "\u001b[0;31m---------------------------------------------------------------------------\u001b[0m",
      "\u001b[0;31mTypeError\u001b[0m                                 Traceback (most recent call last)",
      "\u001b[0;32m<ipython-input-255-b9d26d7697a1>\u001b[0m in \u001b[0;36m<module>\u001b[0;34m\u001b[0m\n\u001b[0;32m----> 1\u001b[0;31m \u001b[0ma\u001b[0m\u001b[0;34m[\u001b[0m\u001b[0;34m\"pp\"\u001b[0m\u001b[0;34m]\u001b[0m\u001b[0;34m[\u001b[0m\u001b[0;34m\"33\"\u001b[0m\u001b[0;34m]\u001b[0m \u001b[0;34m=\u001b[0m \u001b[0;36m4\u001b[0m\u001b[0;34m\u001b[0m\u001b[0;34m\u001b[0m\u001b[0m\n\u001b[0m",
      "\u001b[0;31mTypeError\u001b[0m: 'int' object does not support item assignment"
     ]
    }
   ],
   "source": [
    "a[\"pp\"]"
   ]
  },
  {
   "cell_type": "code",
   "execution_count": null,
   "metadata": {},
   "outputs": [],
   "source": []
  },
  {
   "cell_type": "code",
   "execution_count": 243,
   "metadata": {},
   "outputs": [
    {
     "ename": "AttributeError",
     "evalue": "'Namespace' object has no attribute 'item'",
     "output_type": "error",
     "traceback": [
      "\u001b[0;31m---------------------------------------------------------------------------\u001b[0m",
      "\u001b[0;31mAttributeError\u001b[0m                            Traceback (most recent call last)",
      "\u001b[0;32m<ipython-input-243-5267f2a96722>\u001b[0m in \u001b[0;36m<module>\u001b[0;34m\u001b[0m\n\u001b[0;32m----> 1\u001b[0;31m \u001b[0;32mfor\u001b[0m \u001b[0mkey\u001b[0m\u001b[0;34m,\u001b[0m \u001b[0mvalue\u001b[0m \u001b[0;32min\u001b[0m \u001b[0ma\u001b[0m\u001b[0;34m.\u001b[0m\u001b[0mitem\u001b[0m\u001b[0;34m(\u001b[0m\u001b[0;34m)\u001b[0m\u001b[0;34m:\u001b[0m\u001b[0;34m\u001b[0m\u001b[0;34m\u001b[0m\u001b[0m\n\u001b[0m\u001b[1;32m      2\u001b[0m     \u001b[0mprint\u001b[0m\u001b[0;34m(\u001b[0m\u001b[0mkey\u001b[0m\u001b[0;34m,\u001b[0m \u001b[0mvalue\u001b[0m\u001b[0;34m)\u001b[0m\u001b[0;34m\u001b[0m\u001b[0;34m\u001b[0m\u001b[0m\n",
      "\u001b[0;31mAttributeError\u001b[0m: 'Namespace' object has no attribute 'item'"
     ]
    }
   ],
   "source": [
    "for key, value in a.item():\n",
    "    print(key, value)"
   ]
  },
  {
   "cell_type": "code",
   "execution_count": 249,
   "metadata": {},
   "outputs": [],
   "source": [
    "aa = DotMap(a)"
   ]
  },
  {
   "cell_type": "code",
   "execution_count": 251,
   "metadata": {},
   "outputs": [],
   "source": [
    "aa.lr"
   ]
  },
  {
   "cell_type": "code",
   "execution_count": 224,
   "metadata": {},
   "outputs": [
    {
     "ename": "SystemExit",
     "evalue": "2",
     "output_type": "error",
     "traceback": [
      "\u001b[0;31m---------------------------------------------------------------------------\u001b[0m",
      "\u001b[0;31mSystemExit\u001b[0m                                Traceback (most recent call last)",
      "\u001b[0;32m<ipython-input-223-3d7b4685dbe6>\u001b[0m in \u001b[0;36m<module>\u001b[0;34m\u001b[0m\n\u001b[1;32m      1\u001b[0m \u001b[0mbp\u001b[0m\u001b[0;34m=\u001b[0m\u001b[0mBasePipeline\u001b[0m\u001b[0;34m(\u001b[0m\u001b[0;34m)\u001b[0m\u001b[0;34m\u001b[0m\u001b[0;34m\u001b[0m\u001b[0m\n\u001b[0;32m----> 2\u001b[0;31m \u001b[0mbp\u001b[0m\u001b[0;34m.\u001b[0m\u001b[0mprepare\u001b[0m\u001b[0;34m(\u001b[0m\u001b[0;34m)\u001b[0m\u001b[0;34m\u001b[0m\u001b[0;34m\u001b[0m\u001b[0m\n\u001b[0m\u001b[1;32m      3\u001b[0m \u001b[0mbp\u001b[0m\u001b[0;34m.\u001b[0m\u001b[0mrun\u001b[0m\u001b[0;34m(\u001b[0m\u001b[0;34m)\u001b[0m\u001b[0;34m\u001b[0m\u001b[0;34m\u001b[0m\u001b[0m\n",
      "\u001b[0;32m~/AE/nb/../ae/base/base_pipeline.py\u001b[0m in \u001b[0;36mprepare\u001b[0;34m(self)\u001b[0m\n\u001b[1;32m    145\u001b[0m     \u001b[0;32mdef\u001b[0m \u001b[0mprepare\u001b[0m\u001b[0;34m(\u001b[0m\u001b[0mself\u001b[0m\u001b[0;34m)\u001b[0m\u001b[0;34m:\u001b[0m\u001b[0;34m\u001b[0m\u001b[0;34m\u001b[0m\u001b[0m\n\u001b[1;32m    146\u001b[0m         \u001b[0mself\u001b[0m\u001b[0;34m.\u001b[0m\u001b[0mcreate_parser\u001b[0m\u001b[0;34m(\u001b[0m\u001b[0;34m)\u001b[0m\u001b[0;34m\u001b[0m\u001b[0;34m\u001b[0m\u001b[0m\n\u001b[0;32m--> 147\u001b[0;31m         \u001b[0mself\u001b[0m\u001b[0;34m.\u001b[0m\u001b[0mparse_args\u001b[0m\u001b[0;34m(\u001b[0m\u001b[0;34m)\u001b[0m\u001b[0;34m\u001b[0m\u001b[0;34m\u001b[0m\u001b[0m\n\u001b[0m\u001b[1;32m    148\u001b[0m         \u001b[0mself\u001b[0m\u001b[0;34m.\u001b[0m\u001b[0msetup_logging\u001b[0m\u001b[0;34m(\u001b[0m\u001b[0;34m)\u001b[0m\u001b[0;34m\u001b[0m\u001b[0;34m\u001b[0m\u001b[0m\n\u001b[1;32m    149\u001b[0m         \u001b[0mself\u001b[0m\u001b[0;34m.\u001b[0m\u001b[0mapply_args\u001b[0m\u001b[0;34m(\u001b[0m\u001b[0;34m)\u001b[0m\u001b[0;34m\u001b[0m\u001b[0;34m\u001b[0m\u001b[0m\n",
      "\u001b[0;32m~/AE/nb/../ae/base/base_pipeline.py\u001b[0m in \u001b[0;36mparse_args\u001b[0;34m(self)\u001b[0m\n\u001b[1;32m     34\u001b[0m         \u001b[0mprint\u001b[0m\u001b[0;34m(\u001b[0m\u001b[0mself\u001b[0m\u001b[0;34m.\u001b[0m\u001b[0mparser\u001b[0m\u001b[0;34m)\u001b[0m\u001b[0;34m\u001b[0m\u001b[0;34m\u001b[0m\u001b[0m\n\u001b[1;32m     35\u001b[0m         \u001b[0;32mif\u001b[0m \u001b[0mself\u001b[0m\u001b[0;34m.\u001b[0m\u001b[0margs\u001b[0m \u001b[0;32mis\u001b[0m \u001b[0;32mNone\u001b[0m\u001b[0;34m:\u001b[0m\u001b[0;34m\u001b[0m\u001b[0;34m\u001b[0m\u001b[0m\n\u001b[0;32m---> 36\u001b[0;31m             \u001b[0mself\u001b[0m\u001b[0;34m.\u001b[0m\u001b[0margs\u001b[0m \u001b[0;34m=\u001b[0m \u001b[0mself\u001b[0m\u001b[0;34m.\u001b[0m\u001b[0mparser\u001b[0m\u001b[0;34m.\u001b[0m\u001b[0mparse_args\u001b[0m\u001b[0;34m(\u001b[0m\u001b[0;34m)\u001b[0m\u001b[0;34m\u001b[0m\u001b[0;34m\u001b[0m\u001b[0m\n\u001b[0m\u001b[1;32m     37\u001b[0m             \u001b[0mprint\u001b[0m\u001b[0;34m(\u001b[0m\u001b[0mself\u001b[0m\u001b[0;34m.\u001b[0m\u001b[0margs\u001b[0m\u001b[0;34m)\u001b[0m\u001b[0;34m\u001b[0m\u001b[0;34m\u001b[0m\u001b[0m\n\u001b[1;32m     38\u001b[0m             \u001b[0mself\u001b[0m\u001b[0;34m.\u001b[0m\u001b[0mget_configs\u001b[0m\u001b[0;34m(\u001b[0m\u001b[0mself\u001b[0m\u001b[0;34m.\u001b[0m\u001b[0margs\u001b[0m\u001b[0;34m)\u001b[0m\u001b[0;34m\u001b[0m\u001b[0;34m\u001b[0m\u001b[0m\n",
      "\u001b[0;32m/datascope/slurm/miniconda3/envs/ae-tf/lib/python3.8/argparse.py\u001b[0m in \u001b[0;36mparse_args\u001b[0;34m(self, args, namespace)\u001b[0m\n\u001b[1;32m   1769\u001b[0m         \u001b[0;32mif\u001b[0m \u001b[0margv\u001b[0m\u001b[0;34m:\u001b[0m\u001b[0;34m\u001b[0m\u001b[0;34m\u001b[0m\u001b[0m\n\u001b[1;32m   1770\u001b[0m             \u001b[0mmsg\u001b[0m \u001b[0;34m=\u001b[0m \u001b[0m_\u001b[0m\u001b[0;34m(\u001b[0m\u001b[0;34m'unrecognized arguments: %s'\u001b[0m\u001b[0;34m)\u001b[0m\u001b[0;34m\u001b[0m\u001b[0;34m\u001b[0m\u001b[0m\n\u001b[0;32m-> 1771\u001b[0;31m             \u001b[0mself\u001b[0m\u001b[0;34m.\u001b[0m\u001b[0merror\u001b[0m\u001b[0;34m(\u001b[0m\u001b[0mmsg\u001b[0m \u001b[0;34m%\u001b[0m \u001b[0;34m' '\u001b[0m\u001b[0;34m.\u001b[0m\u001b[0mjoin\u001b[0m\u001b[0;34m(\u001b[0m\u001b[0margv\u001b[0m\u001b[0;34m)\u001b[0m\u001b[0;34m)\u001b[0m\u001b[0;34m\u001b[0m\u001b[0;34m\u001b[0m\u001b[0m\n\u001b[0m\u001b[1;32m   1772\u001b[0m         \u001b[0;32mreturn\u001b[0m \u001b[0margs\u001b[0m\u001b[0;34m\u001b[0m\u001b[0;34m\u001b[0m\u001b[0m\n\u001b[1;32m   1773\u001b[0m \u001b[0;34m\u001b[0m\u001b[0m\n",
      "\u001b[0;32m/datascope/slurm/miniconda3/envs/ae-tf/lib/python3.8/argparse.py\u001b[0m in \u001b[0;36merror\u001b[0;34m(self, message)\u001b[0m\n\u001b[1;32m   2519\u001b[0m         \u001b[0mself\u001b[0m\u001b[0;34m.\u001b[0m\u001b[0mprint_usage\u001b[0m\u001b[0;34m(\u001b[0m\u001b[0m_sys\u001b[0m\u001b[0;34m.\u001b[0m\u001b[0mstderr\u001b[0m\u001b[0;34m)\u001b[0m\u001b[0;34m\u001b[0m\u001b[0;34m\u001b[0m\u001b[0m\n\u001b[1;32m   2520\u001b[0m         \u001b[0margs\u001b[0m \u001b[0;34m=\u001b[0m \u001b[0;34m{\u001b[0m\u001b[0;34m'prog'\u001b[0m\u001b[0;34m:\u001b[0m \u001b[0mself\u001b[0m\u001b[0;34m.\u001b[0m\u001b[0mprog\u001b[0m\u001b[0;34m,\u001b[0m \u001b[0;34m'message'\u001b[0m\u001b[0;34m:\u001b[0m \u001b[0mmessage\u001b[0m\u001b[0;34m}\u001b[0m\u001b[0;34m\u001b[0m\u001b[0;34m\u001b[0m\u001b[0m\n\u001b[0;32m-> 2521\u001b[0;31m         \u001b[0mself\u001b[0m\u001b[0;34m.\u001b[0m\u001b[0mexit\u001b[0m\u001b[0;34m(\u001b[0m\u001b[0;36m2\u001b[0m\u001b[0;34m,\u001b[0m \u001b[0m_\u001b[0m\u001b[0;34m(\u001b[0m\u001b[0;34m'%(prog)s: error: %(message)s\\n'\u001b[0m\u001b[0;34m)\u001b[0m \u001b[0;34m%\u001b[0m \u001b[0margs\u001b[0m\u001b[0;34m)\u001b[0m\u001b[0;34m\u001b[0m\u001b[0;34m\u001b[0m\u001b[0m\n\u001b[0m",
      "\u001b[0;32m/datascope/slurm/miniconda3/envs/ae-tf/lib/python3.8/argparse.py\u001b[0m in \u001b[0;36mexit\u001b[0;34m(self, status, message)\u001b[0m\n\u001b[1;32m   2506\u001b[0m         \u001b[0;32mif\u001b[0m \u001b[0mmessage\u001b[0m\u001b[0;34m:\u001b[0m\u001b[0;34m\u001b[0m\u001b[0;34m\u001b[0m\u001b[0m\n\u001b[1;32m   2507\u001b[0m             \u001b[0mself\u001b[0m\u001b[0;34m.\u001b[0m\u001b[0m_print_message\u001b[0m\u001b[0;34m(\u001b[0m\u001b[0mmessage\u001b[0m\u001b[0;34m,\u001b[0m \u001b[0m_sys\u001b[0m\u001b[0;34m.\u001b[0m\u001b[0mstderr\u001b[0m\u001b[0;34m)\u001b[0m\u001b[0;34m\u001b[0m\u001b[0;34m\u001b[0m\u001b[0m\n\u001b[0;32m-> 2508\u001b[0;31m         \u001b[0m_sys\u001b[0m\u001b[0;34m.\u001b[0m\u001b[0mexit\u001b[0m\u001b[0;34m(\u001b[0m\u001b[0mstatus\u001b[0m\u001b[0;34m)\u001b[0m\u001b[0;34m\u001b[0m\u001b[0;34m\u001b[0m\u001b[0m\n\u001b[0m\u001b[1;32m   2509\u001b[0m \u001b[0;34m\u001b[0m\u001b[0m\n\u001b[1;32m   2510\u001b[0m     \u001b[0;32mdef\u001b[0m \u001b[0merror\u001b[0m\u001b[0;34m(\u001b[0m\u001b[0mself\u001b[0m\u001b[0;34m,\u001b[0m \u001b[0mmessage\u001b[0m\u001b[0;34m)\u001b[0m\u001b[0;34m:\u001b[0m\u001b[0;34m\u001b[0m\u001b[0;34m\u001b[0m\u001b[0m\n",
      "\u001b[0;31mSystemExit\u001b[0m: 2"
     ]
    }
   ],
   "source": [
    "%tb"
   ]
  },
  {
   "cell_type": "code",
   "execution_count": null,
   "metadata": {},
   "outputs": [],
   "source": []
  }
 ],
 "metadata": {
  "kernelspec": {
   "display_name": "Python 3 [ae-tf]",
   "language": "python",
   "name": "python3-ae-tf"
  },
  "language_info": {
   "codemirror_mode": {
    "name": "ipython",
    "version": 3
   },
   "file_extension": ".py",
   "mimetype": "text/x-python",
   "name": "python",
   "nbconvert_exporter": "python",
   "pygments_lexer": "ipython3",
   "version": "3.8.10"
  }
 },
 "nbformat": 4,
 "nbformat_minor": 4
}
