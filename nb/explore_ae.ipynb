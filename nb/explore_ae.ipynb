{
 "cells": [
  {
   "cell_type": "code",
   "execution_count": 2,
   "metadata": {},
   "outputs": [],
   "source": [
    "%load_ext autoreload\n",
    "%autoreload 2"
   ]
  },
  {
   "cell_type": "code",
   "execution_count": 3,
   "metadata": {},
   "outputs": [],
   "source": [
    "import os\n",
    "import sys\n",
    "import h5py\n",
    "import numpy as np\n",
    "import matplotlib.pyplot as plt"
   ]
  },
  {
   "cell_type": "code",
   "execution_count": 54,
   "metadata": {},
   "outputs": [],
   "source": [
    "PROJECT_PATH = '../'\n",
    "DATA_PATH = '/scratch/ceph/swei20/data/ae/dataset/test'\n",
    "PCA_PATH = '/scratch/ceph/dobos/data/pfsspec/import/stellar/rbf/bosz_5000_full/pca/spectra.h5'\n",
    "sys.path.insert(0, PROJECT_PATH)"
   ]
  },
  {
   "cell_type": "code",
   "execution_count": 5,
   "metadata": {},
   "outputs": [],
   "source": [
    "os.environ[\"CUDA_VISIBLE_DEVICES\"] = \"0\""
   ]
  },
  {
   "cell_type": "code",
   "execution_count": 6,
   "metadata": {},
   "outputs": [
    {
     "data": {
      "text/plain": [
       "[PhysicalDevice(name='/physical_device:GPU:0', device_type='GPU')]"
      ]
     },
     "execution_count": 6,
     "metadata": {},
     "output_type": "execute_result"
    }
   ],
   "source": [
    "import tensorflow as tf\n",
    "# tf.enable_v2_behavior()\n",
    "gpus = tf.config.list_physical_devices('GPU') \n",
    "for gpu in gpus:\n",
    "    tf.config.experimental.set_memory_growth(gpu, True)\n",
    "gpus"
   ]
  },
  {
   "cell_type": "markdown",
   "metadata": {},
   "source": [
    "## Loading Data"
   ]
  },
  {
   "cell_type": "code",
   "execution_count": 55,
   "metadata": {},
   "outputs": [],
   "source": [
    "with h5py.File(PCA_PATH, 'r') as f:\n",
    "    flux = f['flux'][()]"
   ]
  },
  {
   "cell_type": "code",
   "execution_count": 56,
   "metadata": {},
   "outputs": [],
   "source": [
    "def prepro_pca(flux, dim=300):\n",
    "    flux0 = flux.reshape(-1, 1000)[:, :dim]    \n",
    "    flux_clean = flux0[~np.isnan(flux0[:,0])]    \n",
    "    print(flux_clean.shape, flux0.shape)\n",
    "    print('min', flux_clean.min(), 'max', flux_clean.max(),'mean', flux_clean.mean(),'std', flux_clean.std() )\n",
    "    return flux_clean"
   ]
  },
  {
   "cell_type": "code",
   "execution_count": 57,
   "metadata": {},
   "outputs": [
    {
     "name": "stdout",
     "output_type": "stream",
     "text": [
      "(116614, 300) (243936, 300)\n",
      "min -184.9254058126797 max 145.24091665337806 mean -0.10353327716635463 std 2.4000601615265493\n"
     ]
    }
   ],
   "source": [
    "flux1 = prepro_pca(flux, dim=300)"
   ]
  },
  {
   "cell_type": "code",
   "execution_count": 47,
   "metadata": {},
   "outputs": [],
   "source": [
    "def get_mean_norm_data(x):\n",
    "    mean = np.median(x, axis=0)\n",
    "    std = np.std(x, axis=0)\n",
    "    print(mean.shape)\n",
    "    x  = (x - mean) / std\n",
    "    return x, mean, std"
   ]
  },
  {
   "cell_type": "code",
   "execution_count": null,
   "metadata": {},
   "outputs": [],
   "source": []
  },
  {
   "cell_type": "code",
   "execution_count": 48,
   "metadata": {},
   "outputs": [
    {
     "name": "stdout",
     "output_type": "stream",
     "text": [
      "(300,)\n"
     ]
    }
   ],
   "source": [
    "flux_mean, mean, std = get_mean_norm_data(flux1)"
   ]
  },
  {
   "cell_type": "code",
   "execution_count": 40,
   "metadata": {},
   "outputs": [
    {
     "data": {
      "text/plain": [
       "[<matplotlib.lines.Line2D at 0x7ef9840f39a0>]"
      ]
     },
     "execution_count": 40,
     "metadata": {},
     "output_type": "execute_result"
    },
    {
     "data": {
      "image/png": "[encoded data removed]",
      "text/plain": [
       "<Figure size 432x288 with 1 Axes>"
      ]
     },
     "metadata": {
      "needs_background": "light"
     },
     "output_type": "display_data"
    }
   ],
   "source": [
    "plt.plot(mean)"
   ]
  },
  {
   "cell_type": "code",
   "execution_count": 41,
   "metadata": {},
   "outputs": [
    {
     "data": {
      "text/plain": [
       "[<matplotlib.lines.Line2D at 0x7ef9840620a0>]"
      ]
     },
     "execution_count": 41,
     "metadata": {},
     "output_type": "execute_result"
    },
    {
     "data": {
      "image/png": "[encoded data removed]",
      "text/plain": [
       "<Figure size 432x288 with 1 Axes>"
      ]
     },
     "metadata": {
      "needs_background": "light"
     },
     "output_type": "display_data"
    }
   ],
   "source": [
    "plt.plot(std)"
   ]
  },
  {
   "cell_type": "code",
   "execution_count": null,
   "metadata": {},
   "outputs": [],
   "source": []
  },
  {
   "cell_type": "code",
   "execution_count": 50,
   "metadata": {},
   "outputs": [],
   "source": [
    "DATA_PATH = \"/home/swei20/AE/data\"\n",
    "SAVE_PATH = os.path.join(DATA_PATH, 'pca.h5')"
   ]
  },
  {
   "cell_type": "code",
   "execution_count": 51,
   "metadata": {},
   "outputs": [],
   "source": []
  },
  {
   "cell_type": "code",
   "execution_count": 31,
   "metadata": {},
   "outputs": [
    {
     "data": {
      "text/plain": [
       "'/scratch/ceph/swei20/data/ae/dataset/test/pca.h5'"
      ]
     },
     "execution_count": 31,
     "metadata": {},
     "output_type": "execute_result"
    }
   ],
   "source": [
    "SAVE_PATH"
   ]
  },
  {
   "cell_type": "code",
   "execution_count": 52,
   "metadata": {},
   "outputs": [],
   "source": [
    "with h5py.File(SAVE_PATH, 'w') as f:\n",
    "    f.create_dataset('flux300ms', data = flux_mean)\n",
    "#     f.create_dataset('flux10kmm', data = flux10kmm)"
   ]
  },
  {
   "cell_type": "code",
   "execution_count": 59,
   "metadata": {},
   "outputs": [],
   "source": [
    "with h5py.File(SAVE_PATH, 'a') as f:\n",
    "    f.create_dataset('flux', data = flux1)\n",
    "#     f.create_dataset('flux10kmm', data = flux10kmm)"
   ]
  },
  {
   "cell_type": "code",
   "execution_count": 27,
   "metadata": {},
   "outputs": [],
   "source": [
    "with h5py.File(fn, 'r') as f:\n",
    "    flux10kmm = f['flux10kmm'][()]\n",
    "#     flux10kmm = f['flux10kmm'][()]"
   ]
  },
  {
   "cell_type": "code",
   "execution_count": 64,
   "metadata": {},
   "outputs": [
    {
     "data": {
      "image/png": "[encoded data removed]",
      "text/plain": [
       "<Figure size 432x288 with 1 Axes>"
      ]
     },
     "metadata": {
      "needs_background": "light"
     },
     "output_type": "display_data"
    }
   ],
   "source": [
    "_ = plt.hist(flux1[:,0], bins = 50)"
   ]
  },
  {
   "cell_type": "code",
   "execution_count": 63,
   "metadata": {},
   "outputs": [
    {
     "data": {
      "image/png": "[encoded data removed]",
      "text/plain": [
       "<Figure size 432x288 with 1 Axes>"
      ]
     },
     "metadata": {
      "needs_background": "light"
     },
     "output_type": "display_data"
    }
   ],
   "source": [
    "_ = plt.hist(flux1[:,1], bins = 50)"
   ]
  },
  {
   "cell_type": "code",
   "execution_count": 65,
   "metadata": {},
   "outputs": [
    {
     "data": {
      "image/png": "[encoded data removed]",
      "text/plain": [
       "<Figure size 432x288 with 1 Axes>"
      ]
     },
     "metadata": {
      "needs_background": "light"
     },
     "output_type": "display_data"
    }
   ],
   "source": [
    "_ = plt.hist(flux1[:,2], bins = 50)"
   ]
  },
  {
   "cell_type": "code",
   "execution_count": 66,
   "metadata": {},
   "outputs": [
    {
     "data": {
      "image/png": "[encoded data removed]",
      "text/plain": [
       "<Figure size 432x288 with 1 Axes>"
      ]
     },
     "metadata": {
      "needs_background": "light"
     },
     "output_type": "display_data"
    }
   ],
   "source": [
    "_ = plt.hist(flux1[:,3], bins = 50)"
   ]
  },
  {
   "cell_type": "code",
   "execution_count": 67,
   "metadata": {},
   "outputs": [
    {
     "data": {
      "image/png": "[encoded data removed]",
      "text/plain": [
       "<Figure size 432x288 with 1 Axes>"
      ]
     },
     "metadata": {
      "needs_background": "light"
     },
     "output_type": "display_data"
    }
   ],
   "source": [
    "_ = plt.hist(flux1[:,4], bins = 50)"
   ]
  },
  {
   "cell_type": "code",
   "execution_count": 69,
   "metadata": {},
   "outputs": [
    {
     "data": {
      "text/plain": [
       "(116614, 300)"
      ]
     },
     "execution_count": 69,
     "metadata": {},
     "output_type": "execute_result"
    }
   ],
   "source": [
    "flux1.shape"
   ]
  },
  {
   "cell_type": "code",
   "execution_count": 68,
   "metadata": {},
   "outputs": [
    {
     "data": {
      "image/png": "[encoded data removed]",
      "text/plain": [
       "<Figure size 432x288 with 1 Axes>"
      ]
     },
     "metadata": {
      "needs_background": "light"
     },
     "output_type": "display_data"
    }
   ],
   "source": [
    "_ = plt.hist(flux1[:,5], bins = 50)"
   ]
  },
  {
   "cell_type": "code",
   "execution_count": 70,
   "metadata": {},
   "outputs": [
    {
     "data": {
      "image/png": "[encoded data removed]",
      "text/plain": [
       "<Figure size 432x288 with 1 Axes>"
      ]
     },
     "metadata": {
      "needs_background": "light"
     },
     "output_type": "display_data"
    }
   ],
   "source": [
    "_ = plt.hist(flux1[:,10], bins = 50)"
   ]
  },
  {
   "cell_type": "code",
   "execution_count": 71,
   "metadata": {},
   "outputs": [
    {
     "data": {
      "image/png": "[encoded data removed]",
      "text/plain": [
       "<Figure size 432x288 with 1 Axes>"
      ]
     },
     "metadata": {
      "needs_background": "light"
     },
     "output_type": "display_data"
    }
   ],
   "source": [
    "_ = plt.hist(flux1[:,20], bins = 50)"
   ]
  },
  {
   "cell_type": "code",
   "execution_count": 61,
   "metadata": {},
   "outputs": [
    {
     "data": {
      "image/png": "[encoded data removed]",
      "text/plain": [
       "<Figure size 432x288 with 1 Axes>"
      ]
     },
     "metadata": {
      "needs_background": "light"
     },
     "output_type": "display_data"
    }
   ],
   "source": [
    "_ = plt.hist(flux1[:,100], bins = 50)"
   ]
  },
  {
   "cell_type": "markdown",
   "metadata": {},
   "source": [
    "## AE"
   ]
  },
  {
   "cell_type": "code",
   "execution_count": 10,
   "metadata": {},
   "outputs": [],
   "source": [
    "from dotmap import DotMap"
   ]
  },
  {
   "cell_type": "code",
   "execution_count": 11,
   "metadata": {},
   "outputs": [],
   "source": [
    "config_dict = {\n",
    "    \"data\": {\n",
    "      \"dir\": \"/scratch/ceph/swei20/data/ae/dataset/test\",\n",
    "      \"filename\": \"pca.h5\",\n",
    "      \"train\": \"flux300\",\n",
    "      \"test\": None\n",
    "    },\n",
    "    \"model\":{\n",
    "      \"name\": \"SimpleAE\",\n",
    "      \"input_dim\": 300,\n",
    "      \"latent_dim\": 8,\n",
    "      \"hidden_dims\": [64],\n",
    "      \"dropout\": 0.2,\n",
    "      \"lr\": 0.001,\n",
    "      \"reg1\": 0.0,\n",
    "      \"loss\": \"mae\",\n",
    "      \"opt\": \"adam\"\n",
    "    },\n",
    "    \"trainer\":{\n",
    "      \"epoch\": 20,\n",
    "      \"batch_size\": 32,\n",
    "      \"validation_split\":0.1,\n",
    "      \"verbose_training\": 1\n",
    "    },\n",
    "    \"callbacks\":{\n",
    "        \"checkpoint_monitor\": \"val_loss\",\n",
    "        \"checkpoint_mode\": \"min\"\n",
    "    }\n",
    "}"
   ]
  },
  {
   "cell_type": "code",
   "execution_count": 12,
   "metadata": {},
   "outputs": [],
   "source": [
    "config = DotMap(config_dict)"
   ]
  },
  {
   "cell_type": "code",
   "execution_count": 15,
   "metadata": {},
   "outputs": [],
   "source": [
    "from ae.model.simple_ae_model import SimpleAEModel"
   ]
  },
  {
   "cell_type": "code",
   "execution_count": 16,
   "metadata": {},
   "outputs": [],
   "source": [
    "mm = SimpleAEModel()"
   ]
  },
  {
   "cell_type": "code",
   "execution_count": 17,
   "metadata": {},
   "outputs": [
    {
     "name": "stdout",
     "output_type": "stream",
     "text": [
      "[300, 64, 8]\n"
     ]
    }
   ],
   "source": [
    "mm.build_model(config)"
   ]
  },
  {
   "cell_type": "code",
   "execution_count": 18,
   "metadata": {},
   "outputs": [],
   "source": [
    "from ae.trainer.simple_ae_trainer import SimpleAETrainer"
   ]
  },
  {
   "cell_type": "code",
   "execution_count": 19,
   "metadata": {},
   "outputs": [],
   "source": [
    "tt = SimpleAETrainer(mm, config)"
   ]
  },
  {
   "cell_type": "code",
   "execution_count": 20,
   "metadata": {},
   "outputs": [],
   "source": [
    "data = (flux1, flux1)"
   ]
  },
  {
   "cell_type": "code",
   "execution_count": 21,
   "metadata": {},
   "outputs": [
    {
     "name": "stdout",
     "output_type": "stream",
     "text": [
      "Epoch 1/100\n",
      "3280/3280 [==============================] - 9s 2ms/step - loss: 0.1354 - acc: 0.5323 - val_loss: 0.1587 - val_acc: 0.4897\n",
      "Epoch 2/100\n",
      "3280/3280 [==============================] - 7s 2ms/step - loss: 0.1046 - acc: 0.6640 - val_loss: 0.1503 - val_acc: 0.5792\n",
      "Epoch 3/100\n",
      "3280/3280 [==============================] - 6s 2ms/step - loss: 0.1013 - acc: 0.6871 - val_loss: 0.1468 - val_acc: 0.6320\n",
      "Epoch 4/100\n",
      "3280/3280 [==============================] - 6s 2ms/step - loss: 0.0994 - acc: 0.6986 - val_loss: 0.1443 - val_acc: 0.6223\n",
      "Epoch 5/100\n",
      "3280/3280 [==============================] - 7s 2ms/step - loss: 0.0982 - acc: 0.7082 - val_loss: 0.1422 - val_acc: 0.6470\n",
      "Epoch 6/100\n",
      "3280/3280 [==============================] - 6s 2ms/step - loss: 0.0972 - acc: 0.7167 - val_loss: 0.1437 - val_acc: 0.6382\n",
      "Epoch 7/100\n",
      "3280/3280 [==============================] - 6s 2ms/step - loss: 0.0964 - acc: 0.7216 - val_loss: 0.1416 - val_acc: 0.6240\n",
      "Epoch 8/100\n",
      "3280/3280 [==============================] - 6s 2ms/step - loss: 0.0958 - acc: 0.7286 - val_loss: 0.1408 - val_acc: 0.6438\n",
      "Epoch 9/100\n",
      "3280/3280 [==============================] - 6s 2ms/step - loss: 0.0951 - acc: 0.7357 - val_loss: 0.1384 - val_acc: 0.6535\n",
      "Epoch 10/100\n",
      "3280/3280 [==============================] - 6s 2ms/step - loss: 0.0945 - acc: 0.7381 - val_loss: 0.1394 - val_acc: 0.6547\n",
      "Epoch 11/100\n",
      "3280/3280 [==============================] - 6s 2ms/step - loss: 0.0940 - acc: 0.7404 - val_loss: 0.1392 - val_acc: 0.6912\n",
      "Epoch 12/100\n",
      "3280/3280 [==============================] - 6s 2ms/step - loss: 0.0937 - acc: 0.7405 - val_loss: 0.1381 - val_acc: 0.6763\n",
      "Epoch 13/100\n",
      "3280/3280 [==============================] - 6s 2ms/step - loss: 0.0934 - acc: 0.7422 - val_loss: 0.1364 - val_acc: 0.6633\n",
      "Epoch 14/100\n",
      "3280/3280 [==============================] - 6s 2ms/step - loss: 0.0933 - acc: 0.7394 - val_loss: 0.1379 - val_acc: 0.5903\n",
      "Epoch 15/100\n",
      "3280/3280 [==============================] - 6s 2ms/step - loss: 0.0932 - acc: 0.7404 - val_loss: 0.1356 - val_acc: 0.6483\n",
      "Epoch 16/100\n",
      "3280/3280 [==============================] - 6s 2ms/step - loss: 0.0930 - acc: 0.7400 - val_loss: 0.1349 - val_acc: 0.6349\n",
      "Epoch 17/100\n",
      "3280/3280 [==============================] - 6s 2ms/step - loss: 0.0929 - acc: 0.7397 - val_loss: 0.1363 - val_acc: 0.6482\n",
      "Epoch 18/100\n",
      "3280/3280 [==============================] - 6s 2ms/step - loss: 0.0928 - acc: 0.7407 - val_loss: 0.1369 - val_acc: 0.6276\n",
      "Epoch 19/100\n",
      "3280/3280 [==============================] - 6s 2ms/step - loss: 0.0927 - acc: 0.7379 - val_loss: 0.1360 - val_acc: 0.5990\n",
      "Epoch 20/100\n",
      "3280/3280 [==============================] - 6s 2ms/step - loss: 0.0926 - acc: 0.7394 - val_loss: 0.1361 - val_acc: 0.6306\n",
      "Epoch 21/100\n",
      "3280/3280 [==============================] - 6s 2ms/step - loss: 0.0926 - acc: 0.7409 - val_loss: 0.1365 - val_acc: 0.6248\n",
      "Epoch 22/100\n",
      "3280/3280 [==============================] - 6s 2ms/step - loss: 0.0925 - acc: 0.7370 - val_loss: 0.1343 - val_acc: 0.6122\n",
      "Epoch 23/100\n",
      "3280/3280 [==============================] - 6s 2ms/step - loss: 0.0924 - acc: 0.7407 - val_loss: 0.1345 - val_acc: 0.6289\n",
      "Epoch 24/100\n",
      "3280/3280 [==============================] - 6s 2ms/step - loss: 0.0924 - acc: 0.7389 - val_loss: 0.1352 - val_acc: 0.6023\n",
      "Epoch 25/100\n",
      "3280/3280 [==============================] - 6s 2ms/step - loss: 0.0923 - acc: 0.7401 - val_loss: 0.1368 - val_acc: 0.6155\n",
      "Epoch 26/100\n",
      "3280/3280 [==============================] - 6s 2ms/step - loss: 0.0924 - acc: 0.7398 - val_loss: 0.1351 - val_acc: 0.6612\n",
      "Epoch 27/100\n",
      "3280/3280 [==============================] - 6s 2ms/step - loss: 0.0922 - acc: 0.7384 - val_loss: 0.1340 - val_acc: 0.6580\n",
      "Epoch 28/100\n",
      "3280/3280 [==============================] - 6s 2ms/step - loss: 0.0923 - acc: 0.7403 - val_loss: 0.1366 - val_acc: 0.5619\n",
      "Epoch 29/100\n",
      "3280/3280 [==============================] - 6s 2ms/step - loss: 0.0904 - acc: 0.7488 - val_loss: 0.1322 - val_acc: 0.6381\n",
      "Epoch 30/100\n",
      "3280/3280 [==============================] - 6s 2ms/step - loss: 0.0900 - acc: 0.7504 - val_loss: 0.1317 - val_acc: 0.6361\n",
      "Epoch 31/100\n",
      "3280/3280 [==============================] - 6s 2ms/step - loss: 0.0900 - acc: 0.7511 - val_loss: 0.1317 - val_acc: 0.6382\n",
      "Epoch 32/100\n",
      "3280/3280 [==============================] - 6s 2ms/step - loss: 0.0899 - acc: 0.7502 - val_loss: 0.1322 - val_acc: 0.6295\n",
      "Epoch 33/100\n",
      "3280/3280 [==============================] - 6s 2ms/step - loss: 0.0898 - acc: 0.7531 - val_loss: 0.1320 - val_acc: 0.6320\n",
      "Epoch 34/100\n",
      "3280/3280 [==============================] - 6s 2ms/step - loss: 0.0899 - acc: 0.7512 - val_loss: 0.1314 - val_acc: 0.6380\n",
      "Epoch 35/100\n",
      "3280/3280 [==============================] - 6s 2ms/step - loss: 0.0898 - acc: 0.7540 - val_loss: 0.1315 - val_acc: 0.6287\n",
      "Epoch 36/100\n",
      "3280/3280 [==============================] - 6s 2ms/step - loss: 0.0896 - acc: 0.7514 - val_loss: 0.1315 - val_acc: 0.6366\n",
      "Epoch 37/100\n",
      "3280/3280 [==============================] - 6s 2ms/step - loss: 0.0897 - acc: 0.7523 - val_loss: 0.1313 - val_acc: 0.6401\n",
      "Epoch 38/100\n",
      "3280/3280 [==============================] - 6s 2ms/step - loss: 0.0896 - acc: 0.7520 - val_loss: 0.1312 - val_acc: 0.6356\n",
      "Epoch 39/100\n",
      "3280/3280 [==============================] - 6s 2ms/step - loss: 0.0897 - acc: 0.7517 - val_loss: 0.1311 - val_acc: 0.6494\n",
      "Epoch 40/100\n",
      "3280/3280 [==============================] - 6s 2ms/step - loss: 0.0896 - acc: 0.7523 - val_loss: 0.1309 - val_acc: 0.6396\n",
      "Epoch 41/100\n",
      "3280/3280 [==============================] - 6s 2ms/step - loss: 0.0894 - acc: 0.7549 - val_loss: 0.1309 - val_acc: 0.6404\n",
      "Epoch 42/100\n",
      "3280/3280 [==============================] - 6s 2ms/step - loss: 0.0894 - acc: 0.7552 - val_loss: 0.1307 - val_acc: 0.6387\n",
      "Epoch 43/100\n",
      "3280/3280 [==============================] - 6s 2ms/step - loss: 0.0894 - acc: 0.7542 - val_loss: 0.1307 - val_acc: 0.6443\n",
      "Epoch 44/100\n",
      "3280/3280 [==============================] - 6s 2ms/step - loss: 0.0895 - acc: 0.7544 - val_loss: 0.1307 - val_acc: 0.6396\n",
      "Epoch 45/100\n",
      "3280/3280 [==============================] - 6s 2ms/step - loss: 0.0894 - acc: 0.7535 - val_loss: 0.1307 - val_acc: 0.6419\n",
      "Epoch 46/100\n",
      "3280/3280 [==============================] - 6s 2ms/step - loss: 0.0893 - acc: 0.7529 - val_loss: 0.1307 - val_acc: 0.6410\n",
      "Epoch 47/100\n",
      "3280/3280 [==============================] - 6s 2ms/step - loss: 0.0893 - acc: 0.7530 - val_loss: 0.1307 - val_acc: 0.6405\n",
      "Epoch 48/100\n",
      "3280/3280 [==============================] - 6s 2ms/step - loss: 0.0894 - acc: 0.7552 - val_loss: 0.1307 - val_acc: 0.6398\n",
      "Epoch 49/100\n",
      "3280/3280 [==============================] - 6s 2ms/step - loss: 0.0893 - acc: 0.7522 - val_loss: 0.1307 - val_acc: 0.6405\n",
      "Epoch 50/100\n",
      "3280/3280 [==============================] - 6s 2ms/step - loss: 0.0895 - acc: 0.7544 - val_loss: 0.1307 - val_acc: 0.6401\n",
      "Epoch 51/100\n",
      "3280/3280 [==============================] - 6s 2ms/step - loss: 0.0894 - acc: 0.7562 - val_loss: 0.1307 - val_acc: 0.6397\n",
      "Epoch 52/100\n",
      "3280/3280 [==============================] - 6s 2ms/step - loss: 0.0893 - acc: 0.7512 - val_loss: 0.1307 - val_acc: 0.6395\n",
      "Epoch 53/100\n",
      "3280/3280 [==============================] - 6s 2ms/step - loss: 0.0894 - acc: 0.7551 - val_loss: 0.1307 - val_acc: 0.6395\n",
      "Epoch 54/100\n",
      "3280/3280 [==============================] - 6s 2ms/step - loss: 0.0894 - acc: 0.7533 - val_loss: 0.1307 - val_acc: 0.6395\n",
      "Epoch 55/100\n",
      "3280/3280 [==============================] - 6s 2ms/step - loss: 0.0894 - acc: 0.7546 - val_loss: 0.1307 - val_acc: 0.6394\n"
     ]
    }
   ],
   "source": [
    "history = tt.train(data, ep=100)"
   ]
  },
  {
   "cell_type": "code",
   "execution_count": null,
   "metadata": {},
   "outputs": [],
   "source": []
  }
 ],
 "metadata": {
  "kernelspec": {
   "display_name": "Python 3 [ae-tf]",
   "language": "python",
   "name": "python3-ae-tf"
  },
  "language_info": {
   "codemirror_mode": {
    "name": "ipython",
    "version": 3
   },
   "file_extension": ".py",
   "mimetype": "text/x-python",
   "name": "python",
   "nbconvert_exporter": "python",
   "pygments_lexer": "ipython3",
   "version": "3.8.10"
  }
 },
 "nbformat": 4,
 "nbformat_minor": 4
}
