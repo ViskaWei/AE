{
 "cells": [
  {
   "cell_type": "code",
   "execution_count": 306,
   "metadata": {},
   "outputs": [
    {
     "name": "stdout",
     "output_type": "stream",
     "text": [
      "The autoreload extension is already loaded. To reload it, use:\n",
      "  %reload_ext autoreload\n"
     ]
    }
   ],
   "source": [
    "%load_ext autoreload\n",
    "%autoreload 2"
   ]
  },
  {
   "cell_type": "code",
   "execution_count": 4,
   "metadata": {},
   "outputs": [],
   "source": [
    "import os\n",
    "import sys\n",
    "import h5py\n",
    "import numpy as np\n",
    "import matplotlib.pyplot as plt"
   ]
  },
  {
   "cell_type": "code",
   "execution_count": 34,
   "metadata": {},
   "outputs": [],
   "source": [
    "PROJECT_PATH = '../'\n",
    "DATA_PATH = '/scratch/ceph/swei20/data/ae/dataset/test'\n",
    "PCA_PATH = '/scratch/ceph/dobos/data/pfsspec/import/stellar/rbf/bosz_5000_full/pca/spectra.h5'\n",
    "sys.path.insert(0, PROJECT_PATH)"
   ]
  },
  {
   "cell_type": "code",
   "execution_count": 6,
   "metadata": {},
   "outputs": [],
   "source": [
    "os.environ[\"CUDA_VISIBLE_DEVICES\"] = \"0\""
   ]
  },
  {
   "cell_type": "code",
   "execution_count": 7,
   "metadata": {},
   "outputs": [
    {
     "data": {
      "text/plain": [
       "[PhysicalDevice(name='/physical_device:GPU:0', device_type='GPU')]"
      ]
     },
     "execution_count": 7,
     "metadata": {},
     "output_type": "execute_result"
    }
   ],
   "source": [
    "import tensorflow as tf\n",
    "# tf.enable_v2_behavior()\n",
    "gpus = tf.config.list_physical_devices('GPU') \n",
    "for gpu in gpus:\n",
    "    tf.config.experimental.set_memory_growth(gpu, True)\n",
    "gpus"
   ]
  },
  {
   "cell_type": "markdown",
   "metadata": {},
   "source": [
    "## Loading Data"
   ]
  },
  {
   "cell_type": "code",
   "execution_count": 35,
   "metadata": {},
   "outputs": [],
   "source": [
    "with h5py.File(PCA_PATH, 'r') as f:\n",
    "    flux = f['flux'][()]"
   ]
  },
  {
   "cell_type": "code",
   "execution_count": 39,
   "metadata": {},
   "outputs": [],
   "source": [
    "def prepro_pca(flux, dim=300):\n",
    "    flux0 = flux.reshape(-1, 1000)[:, :dim]    \n",
    "    flux_clean = flux0[~np.isnan(flux0[:,0])]    \n",
    "    print(flux_clean.shape, flux0.shape)\n",
    "    print('min', flux_clean.min(), 'max', flux_clean.max(),'mean', flux_clean.mean(),'std', flux_clean.std() )\n",
    "    return flux_clean"
   ]
  },
  {
   "cell_type": "code",
   "execution_count": 40,
   "metadata": {},
   "outputs": [
    {
     "name": "stdout",
     "output_type": "stream",
     "text": [
      "(116614, 300) (243936, 300)\n",
      "min -184.9254058126797 max 145.24091665337806 mean -0.10353327716635463 std 2.4000601615265493\n"
     ]
    }
   ],
   "source": [
    "flux1 = prepro_pca(flux, dim=300)"
   ]
  },
  {
   "cell_type": "code",
   "execution_count": 155,
   "metadata": {},
   "outputs": [],
   "source": [
    "SAVE_PATH = os.path.join(DATA_PATH, 'pca.h5')"
   ]
  },
  {
   "cell_type": "code",
   "execution_count": 156,
   "metadata": {},
   "outputs": [],
   "source": [
    "with h5py.File(SAVE_PATH, 'w') as f:\n",
    "    f.create_dataset('flux300', data = flux1)\n",
    "#     f.create_dataset('flux10kmm', data = flux10kmm)"
   ]
  },
  {
   "cell_type": "code",
   "execution_count": 27,
   "metadata": {},
   "outputs": [],
   "source": [
    "with h5py.File(fn, 'r') as f:\n",
    "    flux10kmm = f['flux10kmm'][()]\n",
    "#     flux10kmm = f['flux10kmm'][()]"
   ]
  },
  {
   "cell_type": "markdown",
   "metadata": {},
   "source": [
    "## AE"
   ]
  },
  {
   "cell_type": "code",
   "execution_count": 307,
   "metadata": {},
   "outputs": [],
   "source": [
    "from ae.pipeline.simple_ae_pipeline import SimpleAEPipeline"
   ]
  },
  {
   "cell_type": "code",
   "execution_count": 308,
   "metadata": {},
   "outputs": [],
   "source": [
    "sp=SimpleAEPipeline()"
   ]
  },
  {
   "cell_type": "code",
   "execution_count": 314,
   "metadata": {},
   "outputs": [],
   "source": [
    "config_dict = {\n",
    "    \"data\": {\n",
    "      \"dir\": \"/scratch/ceph/swei20/data/ae/dataset/test\",\n",
    "      \"filename\": \"pca.h5\",\n",
    "      \"train\": \"flux300\",\n",
    "      \"test\": None\n",
    "    },\n",
    "    \"model\":{\n",
    "      \"name\": \"SimpleAE\",\n",
    "      \"input_dim\": 300,\n",
    "      \"latent_dim\": 5,\n",
    "      \"hidden_dims\": [128, 32],\n",
    "      \"dropout\": 0.2,\n",
    "      \"lr\": 0.01,\n",
    "      \"reg1\": 0.0,\n",
    "      \"loss\": \"mae\",\n",
    "      \"opt\": \"adam\"\n",
    "    },\n",
    "    \"trainer\":{\n",
    "      \"epoch\": 20,\n",
    "      \"batch_size\": 32,\n",
    "      \"validation_split\":0.1,\n",
    "      \"verbose_training\": 1\n",
    "    },\n",
    "    \"callbacks\":{\n",
    "        \"checkpoint_monitor\": \"val_loss\",\n",
    "        \"checkpoint_mode\": \"min\"\n",
    "    }\n",
    "}\n",
    "config = DotMap(config_dict)"
   ]
  },
  {
   "cell_type": "code",
   "execution_count": 290,
   "metadata": {},
   "outputs": [],
   "source": [
    "flux_norm = flux1 / vmax "
   ]
  },
  {
   "cell_type": "code",
   "execution_count": 288,
   "metadata": {},
   "outputs": [
    {
     "data": {
      "text/plain": [
       "(0.0, 0.8927013598134264)"
      ]
     },
     "execution_count": 288,
     "metadata": {},
     "output_type": "execute_result"
    }
   ],
   "source": [
    "flux_norm.min(), flux_norm.max()"
   ]
  },
  {
   "cell_type": "code",
   "execution_count": 360,
   "metadata": {},
   "outputs": [],
   "source": [
    "from ae.model.simple_ae_model import SimpleAEModel"
   ]
  },
  {
   "cell_type": "code",
   "execution_count": 361,
   "metadata": {},
   "outputs": [
    {
     "name": "stdout",
     "output_type": "stream",
     "text": [
      "[300, 128, 32, 5]\n"
     ]
    }
   ],
   "source": [
    "mm = SimpleAEModel()\n",
    "mm.build_model(config)"
   ]
  },
  {
   "cell_type": "code",
   "execution_count": 362,
   "metadata": {},
   "outputs": [],
   "source": [
    "from ae.trainer.simple_ae_trainer import SimpleAETrainer"
   ]
  },
  {
   "cell_type": "code",
   "execution_count": null,
   "metadata": {},
   "outputs": [
    {
     "name": "stdout",
     "output_type": "stream",
     "text": [
      "Epoch 1/50\n",
      "3280/3280 [==============================] - 8s 2ms/step - loss: 0.1339 - acc: 0.5004 - val_loss: 0.1817 - val_acc: 0.2488\n",
      "Epoch 2/50\n",
      "3280/3280 [==============================] - 8s 2ms/step - loss: 0.1264 - acc: 0.5140 - val_loss: 0.1827 - val_acc: 0.2969\n",
      "Epoch 3/50\n",
      "3280/3280 [==============================] - 8s 2ms/step - loss: 0.1281 - acc: 0.4932 - val_loss: 0.1944 - val_acc: 0.2336\n",
      "Epoch 4/50\n",
      "3280/3280 [==============================] - 8s 2ms/step - loss: 0.1323 - acc: 0.4744 - val_loss: 0.1911 - val_acc: 0.2624\n",
      "Epoch 5/50\n",
      "3280/3280 [==============================] - 9s 3ms/step - loss: 0.1329 - acc: 0.4659 - val_loss: 0.1932 - val_acc: 0.2005\n",
      "Epoch 6/50\n",
      "3280/3280 [==============================] - 8s 2ms/step - loss: 0.1223 - acc: 0.5108 - val_loss: 0.1813 - val_acc: 0.2707\n",
      "Epoch 7/50\n",
      "3280/3280 [==============================] - 8s 2ms/step - loss: 0.1207 - acc: 0.5303 - val_loss: 0.1817 - val_acc: 0.2380\n",
      "Epoch 8/50\n",
      "2953/3280 [==========================>...] - ETA: 0s - loss: 0.1202 - acc: 0.5312"
     ]
    }
   ],
   "source": [
    "data = (flux1, flux1)\n",
    "\n",
    "tt = SimpleAETrainer(mm, config)\n",
    "history = tt.train(data, ep=50)"
   ]
  },
  {
   "cell_type": "code",
   "execution_count": null,
   "metadata": {},
   "outputs": [],
   "source": []
  },
  {
   "cell_type": "code",
   "execution_count": 259,
   "metadata": {},
   "outputs": [],
   "source": [
    "# cmd = \"main --config /home/swei20/AE/configs/ae/train/pca_config.json --lr 2\"\n",
    "# sys.argv = cmd.split()\n",
    "# sp=SimpleAEPipeline()\n",
    "# sp.prepare()\n",
    "# sp.run()"
   ]
  }
 ],
 "metadata": {
  "kernelspec": {
   "display_name": "Python 3 [ae-tf]",
   "language": "python",
   "name": "python3-ae-tf"
  },
  "language_info": {
   "codemirror_mode": {
    "name": "ipython",
    "version": 3
   },
   "file_extension": ".py",
   "mimetype": "text/x-python",
   "name": "python",
   "nbconvert_exporter": "python",
   "pygments_lexer": "ipython3",
   "version": "3.8.10"
  }
 },
 "nbformat": 4,
 "nbformat_minor": 4
}
