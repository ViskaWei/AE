{
 "cells": [
  {
   "cell_type": "code",
   "execution_count": 1,
   "metadata": {},
   "outputs": [],
   "source": [
    "%load_ext autoreload\n",
    "%autoreload 2"
   ]
  },
  {
   "cell_type": "code",
   "execution_count": 4,
   "metadata": {},
   "outputs": [],
   "source": [
    "import os\n",
    "import sys\n",
    "import h5py\n",
    "import numpy as np\n",
    "import matplotlib.pyplot as plt"
   ]
  },
  {
   "cell_type": "code",
   "execution_count": 34,
   "metadata": {},
   "outputs": [],
   "source": [
    "PROJECT_PATH = '../'\n",
    "DATA_PATH = '/scratch/ceph/swei20/data/ae/dataset/test'\n",
    "PCA_PATH = '/scratch/ceph/dobos/data/pfsspec/import/stellar/rbf/bosz_5000_full/pca/spectra.h5'\n",
    "sys.path.insert(0, PROJECT_PATH)"
   ]
  },
  {
   "cell_type": "code",
   "execution_count": 6,
   "metadata": {},
   "outputs": [],
   "source": [
    "os.environ[\"CUDA_VISIBLE_DEVICES\"] = \"0\""
   ]
  },
  {
   "cell_type": "code",
   "execution_count": 7,
   "metadata": {},
   "outputs": [
    {
     "data": {
      "text/plain": [
       "[PhysicalDevice(name='/physical_device:GPU:0', device_type='GPU')]"
      ]
     },
     "execution_count": 7,
     "metadata": {},
     "output_type": "execute_result"
    }
   ],
   "source": [
    "import tensorflow as tf\n",
    "# tf.enable_v2_behavior()\n",
    "gpus = tf.config.list_physical_devices('GPU') \n",
    "for gpu in gpus:\n",
    "    tf.config.experimental.set_memory_growth(gpu, True)\n",
    "gpus"
   ]
  },
  {
   "cell_type": "markdown",
   "metadata": {},
   "source": [
    "## Loading Data"
   ]
  },
  {
   "cell_type": "code",
   "execution_count": 35,
   "metadata": {},
   "outputs": [],
   "source": [
    "with h5py.File(PCA_PATH, 'r') as f:\n",
    "    flux = f['flux'][()]"
   ]
  },
  {
   "cell_type": "code",
   "execution_count": 39,
   "metadata": {},
   "outputs": [],
   "source": [
    "def prepro_pca(flux, dim=300):\n",
    "    flux0 = flux.reshape(-1, 1000)[:, :dim]    \n",
    "    flux_clean = flux0[~np.isnan(flux0[:,0])]    \n",
    "    print(flux_clean.shape, flux0.shape)\n",
    "    print('min', flux_clean.min(), 'max', flux_clean.max(),'mean', flux_clean.mean(),'std', flux_clean.std() )\n",
    "    return flux_clean"
   ]
  },
  {
   "cell_type": "code",
   "execution_count": 40,
   "metadata": {},
   "outputs": [
    {
     "name": "stdout",
     "output_type": "stream",
     "text": [
      "(116614, 300) (243936, 300)\n",
      "min -184.9254058126797 max 145.24091665337806 mean -0.10353327716635463 std 2.4000601615265493\n"
     ]
    }
   ],
   "source": [
    "flux1 = prepro_pca(flux, dim=300)"
   ]
  },
  {
   "cell_type": "code",
   "execution_count": 155,
   "metadata": {},
   "outputs": [],
   "source": [
    "SAVE_PATH = os.path.join(DATA_PATH, 'pca.h5')"
   ]
  },
  {
   "cell_type": "code",
   "execution_count": 156,
   "metadata": {},
   "outputs": [],
   "source": [
    "with h5py.File(SAVE_PATH, 'w') as f:\n",
    "    f.create_dataset('flux300', data = flux1)\n",
    "#     f.create_dataset('flux10kmm', data = flux10kmm)"
   ]
  },
  {
   "cell_type": "code",
   "execution_count": 27,
   "metadata": {},
   "outputs": [],
   "source": [
    "with h5py.File(fn, 'r') as f:\n",
    "    flux10kmm = f['flux10kmm'][()]\n",
    "#     flux10kmm = f['flux10kmm'][()]"
   ]
  },
  {
   "cell_type": "markdown",
   "metadata": {},
   "source": [
    "## AE"
   ]
  },
  {
   "cell_type": "code",
   "execution_count": 265,
   "metadata": {},
   "outputs": [],
   "source": [
    "from ae.pipeline.simple_ae_pipeline import SimpleAEPipeline"
   ]
  },
  {
   "cell_type": "code",
   "execution_count": 267,
   "metadata": {},
   "outputs": [],
   "source": [
    "sp=SimpleAEPipeline()"
   ]
  },
  {
   "cell_type": "code",
   "execution_count": 292,
   "metadata": {},
   "outputs": [],
   "source": [
    "config_dict = {\n",
    "    \"data\": {\n",
    "      \"dir\": \"/scratch/ceph/swei20/data/ae/dataset/test\",\n",
    "      \"filename\": \"pca.h5\",\n",
    "      \"train\": \"flux300\",\n",
    "      \"test\": None\n",
    "    },\n",
    "    \"model\":{\n",
    "      \"name\": \"SimpleAE\",\n",
    "      \"input_dim\": 300,\n",
    "      \"latent_dim\": 5,\n",
    "      \"hidden_dims\": [128, 32],\n",
    "      \"dropout\": 0.2,\n",
    "      \"lr\": 0.01,\n",
    "      \"reg1\": 0.0,\n",
    "      \"loss\": \"mae\",\n",
    "      \"opt\": \"adam\"\n",
    "    },\n",
    "    \"trainer\":{\n",
    "      \"epoch\": 20,\n",
    "      \"batch_size\": 32,\n",
    "      \"validation_split\":0.1,\n",
    "      \"verbose_training\": 1\n",
    "    },\n",
    "    \"callbacks\":{\n",
    "        \"checkpoint_monitor\": \"val_loss\",\n",
    "        \"checkpoint_mode\": \"min\"\n",
    "    }\n",
    "}\n",
    "config = DotMap(config_dict)"
   ]
  },
  {
   "cell_type": "code",
   "execution_count": 276,
   "metadata": {},
   "outputs": [],
   "source": [
    "vmax = np.max(abs(flux1))"
   ]
  },
  {
   "cell_type": "code",
   "execution_count": 277,
   "metadata": {},
   "outputs": [
    {
     "data": {
      "text/plain": [
       "184.9254058126797"
      ]
     },
     "execution_count": 277,
     "metadata": {},
     "output_type": "execute_result"
    }
   ],
   "source": [
    "vmax"
   ]
  },
  {
   "cell_type": "code",
   "execution_count": 290,
   "metadata": {},
   "outputs": [],
   "source": [
    "flux_norm = flux1 / vmax "
   ]
  },
  {
   "cell_type": "code",
   "execution_count": 288,
   "metadata": {},
   "outputs": [
    {
     "data": {
      "text/plain": [
       "(0.0, 0.8927013598134264)"
      ]
     },
     "execution_count": 288,
     "metadata": {},
     "output_type": "execute_result"
    }
   ],
   "source": [
    "flux_norm.min(), flux_norm.max()"
   ]
  },
  {
   "cell_type": "code",
   "execution_count": 293,
   "metadata": {},
   "outputs": [
    {
     "name": "stdout",
     "output_type": "stream",
     "text": [
      "[300, 128, 32, 5]\n",
      "Epoch 1/20\n",
      "3280/3280 [==============================] - 9s 3ms/step - loss: 0.0015 - acc: 0.2341 - val_loss: 0.0018 - val_acc: 0.0875\n",
      "Epoch 2/20\n",
      "3280/3280 [==============================] - 8s 2ms/step - loss: 0.0015 - acc: 0.2308 - val_loss: 0.0016 - val_acc: 0.0941\n",
      "Epoch 3/20\n",
      "3280/3280 [==============================] - 8s 2ms/step - loss: 0.0014 - acc: 0.2405 - val_loss: 0.0017 - val_acc: 0.0803\n",
      "Epoch 4/20\n",
      "3280/3280 [==============================] - 8s 2ms/step - loss: 0.0014 - acc: 0.2348 - val_loss: 0.0016 - val_acc: 0.0657\n",
      "Epoch 5/20\n",
      "3280/3280 [==============================] - 8s 2ms/step - loss: 7.8994e-04 - acc: 0.3873 - val_loss: 9.9193e-04 - val_acc: 0.1979\n",
      "Epoch 6/20\n",
      "3280/3280 [==============================] - 8s 2ms/step - loss: 7.4429e-04 - acc: 0.4462 - val_loss: 0.0010 - val_acc: 0.2947\n",
      "Epoch 7/20\n",
      "3280/3280 [==============================] - 8s 2ms/step - loss: 7.2367e-04 - acc: 0.4596 - val_loss: 0.0010 - val_acc: 0.2404\n",
      "Epoch 8/20\n",
      "3280/3280 [==============================] - 8s 2ms/step - loss: 7.1479e-04 - acc: 0.4695 - val_loss: 9.1802e-04 - val_acc: 0.3114\n",
      "Epoch 9/20\n",
      "3280/3280 [==============================] - 8s 2ms/step - loss: 6.5969e-04 - acc: 0.5033 - val_loss: 9.3870e-04 - val_acc: 0.3204\n",
      "Epoch 10/20\n",
      "3280/3280 [==============================] - 8s 3ms/step - loss: 6.5705e-04 - acc: 0.5051 - val_loss: 9.4353e-04 - val_acc: 0.3166\n",
      "Epoch 11/20\n",
      "3280/3280 [==============================] - 8s 3ms/step - loss: 6.5397e-04 - acc: 0.5086 - val_loss: 9.2971e-04 - val_acc: 0.3217\n",
      "Epoch 12/20\n",
      "3280/3280 [==============================] - 8s 2ms/step - loss: 6.5268e-04 - acc: 0.5119 - val_loss: 9.2348e-04 - val_acc: 0.3188\n",
      "Epoch 13/20\n",
      "3280/3280 [==============================] - 8s 2ms/step - loss: 6.4626e-04 - acc: 0.5160 - val_loss: 9.2355e-04 - val_acc: 0.3229\n",
      "Epoch 14/20\n",
      "3280/3280 [==============================] - 8s 3ms/step - loss: 6.4586e-04 - acc: 0.5154 - val_loss: 9.2469e-04 - val_acc: 0.3274\n",
      "Epoch 15/20\n",
      "3280/3280 [==============================] - 8s 2ms/step - loss: 6.4507e-04 - acc: 0.5155 - val_loss: 9.2131e-04 - val_acc: 0.3294\n",
      "Epoch 16/20\n",
      "3280/3280 [==============================] - 8s 2ms/step - loss: 6.4383e-04 - acc: 0.5163 - val_loss: 9.2354e-04 - val_acc: 0.3274\n",
      "Epoch 17/20\n",
      "3280/3280 [==============================] - 8s 2ms/step - loss: 6.4484e-04 - acc: 0.5151 - val_loss: 9.2285e-04 - val_acc: 0.3261\n",
      "Epoch 18/20\n",
      "3280/3280 [==============================] - 8s 2ms/step - loss: 6.4414e-04 - acc: 0.5183 - val_loss: 9.2529e-04 - val_acc: 0.3254\n",
      "Epoch 19/20\n",
      "3280/3280 [==============================] - 8s 2ms/step - loss: 6.4379e-04 - acc: 0.5171 - val_loss: 9.2405e-04 - val_acc: 0.3261\n",
      "Epoch 20/20\n",
      "3280/3280 [==============================] - 8s 2ms/step - loss: 6.4350e-04 - acc: 0.5178 - val_loss: 9.2369e-04 - val_acc: 0.3266\n"
     ]
    }
   ],
   "source": [
    "data = flux_norm\n",
    "sp.run_step_model(config, (data,data))"
   ]
  },
  {
   "cell_type": "code",
   "execution_count": null,
   "metadata": {},
   "outputs": [],
   "source": []
  },
  {
   "cell_type": "code",
   "execution_count": 259,
   "metadata": {},
   "outputs": [],
   "source": [
    "# cmd = \"main --config /home/swei20/AE/configs/ae/train/pca_config.json --lr 2\"\n",
    "# sys.argv = cmd.split()\n",
    "# sp=SimpleAEPipeline()\n",
    "# sp.prepare()\n",
    "# sp.run()"
   ]
  },
  {
   "cell_type": "code",
   "execution_count": 266,
   "metadata": {},
   "outputs": [
    {
     "ename": "Exception",
     "evalue": "arg epoch not specified in command line",
     "output_type": "error",
     "traceback": [
      "\u001b[0;31m---------------------------------------------------------------------------\u001b[0m",
      "\u001b[0;31mException\u001b[0m                                 Traceback (most recent call last)",
      "\u001b[0;32m<ipython-input-266-1f3301115cf2>\u001b[0m in \u001b[0;36m<module>\u001b[0;34m\u001b[0m\n\u001b[1;32m      1\u001b[0m \u001b[0msp\u001b[0m\u001b[0;34m=\u001b[0m\u001b[0mSimpleAEPipeline\u001b[0m\u001b[0;34m(\u001b[0m\u001b[0;34m)\u001b[0m\u001b[0;34m\u001b[0m\u001b[0;34m\u001b[0m\u001b[0m\n\u001b[0;32m----> 2\u001b[0;31m \u001b[0msp\u001b[0m\u001b[0;34m.\u001b[0m\u001b[0mprepare\u001b[0m\u001b[0;34m(\u001b[0m\u001b[0;34m)\u001b[0m\u001b[0;34m\u001b[0m\u001b[0;34m\u001b[0m\u001b[0m\n\u001b[0m\u001b[1;32m      3\u001b[0m \u001b[0msp\u001b[0m\u001b[0;34m.\u001b[0m\u001b[0mrun\u001b[0m\u001b[0;34m(\u001b[0m\u001b[0;34m)\u001b[0m\u001b[0;34m\u001b[0m\u001b[0;34m\u001b[0m\u001b[0m\n",
      "\u001b[0;32m~/AE/nb/../ae/pipeline/simple_ae_pipeline.py\u001b[0m in \u001b[0;36mprepare\u001b[0;34m(self)\u001b[0m\n\u001b[1;32m     33\u001b[0m         \u001b[0msuper\u001b[0m\u001b[0;34m(\u001b[0m\u001b[0;34m)\u001b[0m\u001b[0;34m.\u001b[0m\u001b[0mprepare\u001b[0m\u001b[0;34m(\u001b[0m\u001b[0;34m)\u001b[0m\u001b[0;34m\u001b[0m\u001b[0;34m\u001b[0m\u001b[0m\n\u001b[1;32m     34\u001b[0m         \u001b[0mself\u001b[0m\u001b[0;34m.\u001b[0m\u001b[0mapply_model_args\u001b[0m\u001b[0;34m(\u001b[0m\u001b[0;34m)\u001b[0m\u001b[0;34m\u001b[0m\u001b[0;34m\u001b[0m\u001b[0m\n\u001b[0;32m---> 35\u001b[0;31m         \u001b[0mself\u001b[0m\u001b[0;34m.\u001b[0m\u001b[0mapply_trainer_args\u001b[0m\u001b[0;34m(\u001b[0m\u001b[0;34m)\u001b[0m\u001b[0;34m\u001b[0m\u001b[0;34m\u001b[0m\u001b[0m\n\u001b[0m\u001b[1;32m     36\u001b[0m         \u001b[0;31m# self.apply_norm_args()\u001b[0m\u001b[0;34m\u001b[0m\u001b[0;34m\u001b[0m\u001b[0;34m\u001b[0m\u001b[0m\n\u001b[1;32m     37\u001b[0m         \u001b[0;31m# self.apply_name_args()\u001b[0m\u001b[0;34m\u001b[0m\u001b[0;34m\u001b[0m\u001b[0;34m\u001b[0m\u001b[0m\n",
      "\u001b[0;32m~/AE/nb/../ae/pipeline/simple_ae_pipeline.py\u001b[0m in \u001b[0;36mapply_trainer_args\u001b[0;34m(self)\u001b[0m\n\u001b[1;32m     41\u001b[0m \u001b[0;34m\u001b[0m\u001b[0m\n\u001b[1;32m     42\u001b[0m     \u001b[0;32mdef\u001b[0m \u001b[0mapply_trainer_args\u001b[0m\u001b[0;34m(\u001b[0m\u001b[0mself\u001b[0m\u001b[0;34m)\u001b[0m\u001b[0;34m:\u001b[0m\u001b[0;34m\u001b[0m\u001b[0;34m\u001b[0m\u001b[0m\n\u001b[0;32m---> 43\u001b[0;31m         \u001b[0mself\u001b[0m\u001b[0;34m.\u001b[0m\u001b[0mupdate_config\u001b[0m\u001b[0;34m(\u001b[0m\u001b[0;34m\"trainer\"\u001b[0m\u001b[0;34m,\u001b[0m \u001b[0;34m\"epoch\"\u001b[0m\u001b[0;34m)\u001b[0m\u001b[0;34m\u001b[0m\u001b[0;34m\u001b[0m\u001b[0m\n\u001b[0m\u001b[1;32m     44\u001b[0m \u001b[0;34m\u001b[0m\u001b[0m\n\u001b[1;32m     45\u001b[0m     \u001b[0;32mdef\u001b[0m \u001b[0mrun\u001b[0m\u001b[0;34m(\u001b[0m\u001b[0mself\u001b[0m\u001b[0;34m,\u001b[0m \u001b[0mconfig\u001b[0m\u001b[0;34m=\u001b[0m\u001b[0;32mNone\u001b[0m\u001b[0;34m)\u001b[0m\u001b[0;34m:\u001b[0m\u001b[0;34m\u001b[0m\u001b[0;34m\u001b[0m\u001b[0m\n",
      "\u001b[0;32m~/AE/nb/../ae/base/base_pipeline.py\u001b[0m in \u001b[0;36mupdate_config\u001b[0;34m(self, config_class, name)\u001b[0m\n\u001b[1;32m     72\u001b[0m             \u001b[0mself\u001b[0m\u001b[0;34m.\u001b[0m\u001b[0mconfig\u001b[0m\u001b[0;34m[\u001b[0m\u001b[0mconfig_class\u001b[0m\u001b[0;34m]\u001b[0m\u001b[0;34m[\u001b[0m\u001b[0mname\u001b[0m\u001b[0;34m]\u001b[0m \u001b[0;34m=\u001b[0m  \u001b[0mself\u001b[0m\u001b[0;34m.\u001b[0m\u001b[0margs\u001b[0m\u001b[0;34m[\u001b[0m\u001b[0mname\u001b[0m\u001b[0;34m]\u001b[0m\u001b[0;34m\u001b[0m\u001b[0;34m\u001b[0m\u001b[0m\n\u001b[1;32m     73\u001b[0m         \u001b[0;32melse\u001b[0m\u001b[0;34m:\u001b[0m\u001b[0;34m\u001b[0m\u001b[0;34m\u001b[0m\u001b[0m\n\u001b[0;32m---> 74\u001b[0;31m             \u001b[0;32mraise\u001b[0m \u001b[0mException\u001b[0m\u001b[0;34m(\u001b[0m\u001b[0;34mf'arg {name} not specified in command line'\u001b[0m\u001b[0;34m)\u001b[0m\u001b[0;34m\u001b[0m\u001b[0;34m\u001b[0m\u001b[0m\n\u001b[0m\u001b[1;32m     75\u001b[0m \u001b[0;34m\u001b[0m\u001b[0m\n\u001b[1;32m     76\u001b[0m     \u001b[0;32mdef\u001b[0m \u001b[0mget_loop_from_arg\u001b[0m\u001b[0;34m(\u001b[0m\u001b[0mself\u001b[0m\u001b[0;34m,\u001b[0m \u001b[0mname\u001b[0m\u001b[0;34m,\u001b[0m \u001b[0mfn\u001b[0m \u001b[0;34m=\u001b[0m \u001b[0;32mNone\u001b[0m\u001b[0;34m)\u001b[0m\u001b[0;34m:\u001b[0m\u001b[0;34m\u001b[0m\u001b[0;34m\u001b[0m\u001b[0m\n",
      "\u001b[0;31mException\u001b[0m: arg epoch not specified in command line"
     ]
    }
   ],
   "source": []
  }
 ],
 "metadata": {
  "kernelspec": {
   "display_name": "Python 3 [ae-tf]",
   "language": "python",
   "name": "python3-ae-tf"
  },
  "language_info": {
   "codemirror_mode": {
    "name": "ipython",
    "version": 3
   },
   "file_extension": ".py",
   "mimetype": "text/x-python",
   "name": "python",
   "nbconvert_exporter": "python",
   "pygments_lexer": "ipython3",
   "version": "3.8.10"
  }
 },
 "nbformat": 4,
 "nbformat_minor": 4
}
