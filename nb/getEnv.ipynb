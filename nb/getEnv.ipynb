{
 "cells": [
  {
   "cell_type": "code",
   "execution_count": 1,
   "metadata": {},
   "outputs": [],
   "source": [
    "#----------------------------------------------------------------\n",
    "# code to extract a low resolution amplitude from a spectrum\n",
    "#----------------------------------------------------------------\n",
    "import numpy as np\n",
    "import scipy as sp\n",
    "import os\n",
    "import matplotlib.pyplot as plt\n",
    "%matplotlib inline\n"
   ]
  },
  {
   "cell_type": "code",
   "execution_count": 5,
   "metadata": {},
   "outputs": [
    {
     "name": "stdout",
     "output_type": "stream",
     "text": [
      "39 ['F0T4000G5.csv', 'F0T5300G25.csv', 'F0T5300G35.csv', 'F0T5300G45.csv', 'F0T6000G35.csv', 'F0T6750G4.csv', 'Fm25T4000G0.csv', 'Fm25T4000G5.csv', 'Fm25T5300G35.csv', 'Fm25T5300G45.csv', 'Fm25T6000G35.csv', 'Fm25T6750G25.csv', 'F0T4000G0.csv', 'F0T4000G4.csv', 'F0T5500G0.csv', 'F0T5500G2.csv', 'F0T6000G2.csv', 'F0T6000G0.csv', 'F0T6000G4.csv', 'F0T5500G4.csv', 'F0T4000G2.csv', 'Fm1T4000G0.csv', 'Fm1T4000G2.csv', 'Fm1T4000G4.csv', 'Fm1T5500G2.csv', 'Fm1T5500G0.csv', 'Fm1T5500G4.csv', 'Fm1T6000G0.csv', 'Fm1T6000G2.csv', 'Fm1T6000G4.csv', 'Fm2T4000G2.csv', 'Fm2T5500G4.csv', 'Fm2T5500G2.csv', 'Fm2T5500G0.csv', 'Fm2T4000G4.csv', 'Fm2T6000G2.csv', 'Fm2T6000G0.csv', 'Fm2T4000G0.csv', 'Fm2T6000G4.csv']\n"
     ]
    }
   ],
   "source": [
    "#-----------------------------------------------------------------------------\n",
    "# function to return one unnormalized spectrum, in two columns (wave, flux)\n",
    "#-----------------------------------------------------------------------------\n",
    "filepath='../data/'\n",
    "files = [f for f in os.listdir(filepath) if f.endswith('.csv')]\n",
    "print(len(files),files)\n",
    "\n",
    "def getspec(n):\n",
    "    if (n>=len(files)):\n",
    "        print('max number of files exceeded')\n",
    "        return []\n",
    "    d = np.genfromtxt(filepath+files[n], delimiter=',',skip_header=1)\n",
    "    return d\n"
   ]
  },
  {
   "cell_type": "code",
   "execution_count": 2,
   "metadata": {},
   "outputs": [
    {
     "ename": "NameError",
     "evalue": "name 'd' is not defined",
     "output_type": "error",
     "traceback": [
      "\u001b[0;31m---------------------------------------------------------------------------\u001b[0m",
      "\u001b[0;31mNameError\u001b[0m                                 Traceback (most recent call last)",
      "\u001b[0;32m<ipython-input-2-e983f374794d>\u001b[0m in \u001b[0;36m<module>\u001b[0;34m\u001b[0m\n\u001b[0;32m----> 1\u001b[0;31m \u001b[0md\u001b[0m\u001b[0;34m\u001b[0m\u001b[0;34m\u001b[0m\u001b[0m\n\u001b[0m",
      "\u001b[0;31mNameError\u001b[0m: name 'd' is not defined"
     ]
    }
   ],
   "source": []
  },
  {
   "cell_type": "code",
   "execution_count": 76,
   "metadata": {},
   "outputs": [],
   "source": [
    "#------------------------------------------------------------\n",
    "# create an np array with the indexes of the breakpoints in \n",
    "# the spectra,aligning them with the breaks in the continuum\n",
    "#------------------------------------------------------------\n",
    "def makeBreakpoints(w):\n",
    "    #-------------------------------------------\n",
    "    # determine the indices of the breakpoints\n",
    "    # from the wavelengths in Angstroms\n",
    "    #-------------------------------------------\n",
    "    wmax = max(w)\n",
    "    wpts = [3647,8207,14589]\n",
    "    ii = [0]\n",
    "    for p in wpts:\n",
    "        if (p<=wmax):\n",
    "            ix = np.argwhere(w>p).item(0)\n",
    "            ii.append(ix)\n",
    "    ii.append(len(w)-1)\n",
    "    #--------------------------------------\n",
    "    # create the set of steps in lambda\n",
    "    # merge with the breakpoints and sort\n",
    "    #--------------------------------------\n",
    "    nbins = 64\n",
    "    step = np.int(np.floor((max(ii)-min(ii))/(10*nbins)))*10    \n",
    "    jj = list(range(min(ii),max(ii),step))\n",
    "    jj = np.unique(ii+jj)\n",
    "    #----------------------------------------------------\n",
    "    # prune the breakpoints on both sides of the breaks\n",
    "    #----------------------------------------------------\n",
    "    for i in range(1,len(ii)-1): \n",
    "        ix = ii[i]\n",
    "        jj = np.delete(jj,(np.abs(jj-ix)<step) & (jj != ix))\n",
    "\n",
    "    return jj\n",
    "\n",
    "#-----------------------------------------------------\n",
    "# compute the low-resolution envelope of spectrum(n)\n",
    "#-----------------------------------------------------\n",
    "def getEnv(n, brk):\n",
    "    d = getspec(n)\n",
    "    c = np.cumsum(d,axis=0)\n",
    "    b = c[brk,:]\n",
    "    db = np.diff(b,axis=0)\n",
    "    dk = np.diff(brk)\n",
    "    dd = (db.T/dk).T\n",
    "    return dd"
   ]
  },
  {
   "cell_type": "code",
   "execution_count": 80,
   "metadata": {},
   "outputs": [
    {
     "name": "stdout",
     "output_type": "stream",
     "text": [
      "63\n"
     ]
    },
    {
     "data": {
      "image/png": "[encoded data removed]",
      "text/plain": [
       "<Figure size 432x288 with 1 Axes>"
      ]
     },
     "metadata": {
      "needs_background": "light"
     },
     "output_type": "display_data"
    }
   ],
   "source": [
    "# for the full resolution spectra\n",
    "#------------------------------------\n",
    "# execute:\n",
    "#  1. make the breakpoints\n",
    "#  2. get the envelope for spectrum(3)\n",
    "#  3. plot the course envelope\n",
    "#------------------------------------\n",
    "d = getspec(0)\n",
    "wave = d[:,0]\n",
    "bk = makeBreakpoints(wave)\n",
    "\n",
    "e = getEnv(31, bk)\n",
    "plt.plot(e[:,0],e[:,1],'.-');\n",
    "print(len(bk))"
   ]
  },
  {
   "cell_type": "code",
   "execution_count": 83,
   "metadata": {},
   "outputs": [
    {
     "name": "stdout",
     "output_type": "stream",
     "text": [
      "64\n",
      "[    0   240   480   720   960  1200  1440  1680  1953  2400  2640  2880\n",
      "  3120  3360  3600  3840  4080  4320  4560  4800  5040  5280  5520  5760\n",
      "  6000  6240  6480  6720  6960  7200  7440  7680  7920  8160  8400  8640\n",
      "  8880  9120  9360  9600 10063 10320 10560 10800 11040 11280 11520 11760\n",
      " 12000 12240 12480 12720 12960 13200 13440 13680 13920 14160 14400 14640\n",
      " 14880 15120 15360 15403]\n"
     ]
    }
   ],
   "source": [
    "#-------------------------------------------------------\n",
    "# building a breakpoints array on the lo-res data\n",
    "#-------------------------------------------------------\n",
    "ww = np.load('wave.npy')\n",
    "bk = makeBreakpoints(ww)\n",
    "print(len(bk))\n",
    "print(bk)"
   ]
  }
 ],
 "metadata": {
  "kernelspec": {
   "display_name": "Python 3 [ae-tf]",
   "language": "python",
   "name": "python3-ae-tf"
  },
  "language_info": {
   "codemirror_mode": {
    "name": "ipython",
    "version": 3
   },
   "file_extension": ".py",
   "mimetype": "text/x-python",
   "name": "python",
   "nbconvert_exporter": "python",
   "pygments_lexer": "ipython3",
   "version": "3.8.10"
  }
 },
 "nbformat": 4,
 "nbformat_minor": 4
}
