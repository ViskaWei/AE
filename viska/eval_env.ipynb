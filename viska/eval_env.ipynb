{
 "cells": [
  {
   "cell_type": "code",
   "execution_count": 194,
   "metadata": {},
   "outputs": [],
   "source": [
    "PROJECT_PATH = '/home/swei20/AE/'"
   ]
  },
  {
   "cell_type": "code",
   "execution_count": 1,
   "metadata": {},
   "outputs": [],
   "source": [
    "DATASET_PATH=\"/scratch/ceph/dobos/data/pfsspec/import/stellar/grid/bosz_5000_2\""
   ]
  },
  {
   "cell_type": "code",
   "execution_count": 40,
   "metadata": {},
   "outputs": [],
   "source": [
    "import os\n",
    "import sys\n",
    "import numpy as np\n",
    "import pandas as pd\n",
    "import matplotlib.pyplot as plt\n",
    "from matplotlib.ticker import AutoMinorLocator, MultipleLocator\n",
    "import h5py as h5"
   ]
  },
  {
   "cell_type": "code",
   "execution_count": 195,
   "metadata": {},
   "outputs": [],
   "source": [
    "# Allow load project as module\n",
    "sys.path.insert(0, PROJECT_PATH)"
   ]
  },
  {
   "cell_type": "code",
   "execution_count": 6,
   "metadata": {},
   "outputs": [],
   "source": [
    "fn = os.path.join(DATASET_PATH, 'spectra.h5')"
   ]
  },
  {
   "cell_type": "code",
   "execution_count": 199,
   "metadata": {},
   "outputs": [],
   "source": [
    "with h5.File(fn, 'r') as f:\n",
    "#     cont=f[\"cont\"][:,:,:,3,1,:]\n",
    "#     cont_idx=f[\"cont_idx\"][:,:,:,3,1]\n",
    "#     flux=f[\"flux\"][:,:,:,3,1,:]\n",
    "#     flux_idx=f[\"flux_idx\"][:,:,:,3,1]\n",
    "#     cont=f[\"cont\"][()]\n",
    "#     cont_idx=f[\"cont_idx\"][()]\n",
    "\n",
    "#     flux=f[\"flux\"][()]\n",
    "#     flux_idx=f[\"flux_idx\"][()]\n",
    "    wave = f[\"wave\"][()]\n",
    "    "
   ]
  },
  {
   "cell_type": "code",
   "execution_count": 145,
   "metadata": {},
   "outputs": [],
   "source": [
    "cont_all = cont[cont_idx]\n",
    "# flux_all = flux[flux_idx]"
   ]
  },
  {
   "cell_type": "code",
   "execution_count": null,
   "metadata": {},
   "outputs": [],
   "source": []
  },
  {
   "cell_type": "code",
   "execution_count": 214,
   "metadata": {},
   "outputs": [],
   "source": [
    "idx_end = np.digitize(14000, wave)"
   ]
  },
  {
   "cell_type": "code",
   "execution_count": 222,
   "metadata": {},
   "outputs": [],
   "source": [
    "wave_15404=wave[:idx_end]"
   ]
  },
  {
   "cell_type": "code",
   "execution_count": 218,
   "metadata": {},
   "outputs": [
    {
     "data": {
      "text/plain": [
       "15404"
      ]
     },
     "execution_count": 218,
     "metadata": {},
     "output_type": "execute_result"
    }
   ],
   "source": [
    "len(wave15404)"
   ]
  },
  {
   "cell_type": "code",
   "execution_count": 219,
   "metadata": {},
   "outputs": [],
   "source": [
    "flux_15404 = flux_all[:, :idx_end]"
   ]
  },
  {
   "cell_type": "code",
   "execution_count": 220,
   "metadata": {},
   "outputs": [
    {
     "data": {
      "text/plain": [
       "(116614, 15404)"
      ]
     },
     "execution_count": 220,
     "metadata": {},
     "output_type": "execute_result"
    }
   ],
   "source": [
    "flux_15404.shape"
   ]
  },
  {
   "cell_type": "code",
   "execution_count": 221,
   "metadata": {},
   "outputs": [],
   "source": [
    "cont_15404 = cont_all[:, :idx_end]"
   ]
  },
  {
   "cell_type": "code",
   "execution_count": 142,
   "metadata": {},
   "outputs": [
    {
     "data": {
      "text/plain": [
       "(116614, 16094)"
      ]
     },
     "execution_count": 142,
     "metadata": {},
     "output_type": "execute_result"
    }
   ],
   "source": [
    "flux_all.shape"
   ]
  },
  {
   "cell_type": "code",
   "execution_count": 15,
   "metadata": {},
   "outputs": [
    {
     "data": {
      "text/plain": [
       "(6336, 16094)"
      ]
     },
     "execution_count": 15,
     "metadata": {},
     "output_type": "execute_result"
    }
   ],
   "source": [
    "flux0.shape"
   ]
  },
  {
   "cell_type": "code",
   "execution_count": 223,
   "metadata": {},
   "outputs": [],
   "source": [
    "def getspec_all(idx):\n",
    "    return np.array([wave_15404, flux_15404[idx], cont_15404[idx]]).T\n",
    "\n",
    "# def getspec_all(idx):\n",
    "#     return np.array([wave, flux_all[idx], cont_all[idx]]).T"
   ]
  },
  {
   "cell_type": "code",
   "execution_count": 224,
   "metadata": {},
   "outputs": [],
   "source": [
    "#------------------------------------------------------------\n",
    "# create an np array with the indexes of the breakpoints in \n",
    "# the spectra,aligning them with the breaks in the continuum\n",
    "#------------------------------------------------------------\n",
    "def makeBreakpoints(w):\n",
    "    #-------------------------------------------\n",
    "    # determine the indices of the breakpoints\n",
    "    # from the wavelengths in Angstroms\n",
    "    #-------------------------------------------\n",
    "    wmax = max(w)\n",
    "    wpts = [3647,8207,14589]\n",
    "    ii = [0]\n",
    "    for p in wpts:\n",
    "        if (p<=wmax):\n",
    "            ix = np.argwhere(w>p).item(0)\n",
    "            ii.append(ix)\n",
    "    ii.append(len(w)-1)\n",
    "    #--------------------------------------\n",
    "    # create the set of steps in lambda\n",
    "    # merge with the breakpoints and sort\n",
    "    #--------------------------------------\n",
    "    nbins = 64\n",
    "    step = np.int(np.floor((max(ii)-min(ii))/(10*nbins)))*10    \n",
    "    jj = list(range(min(ii),max(ii),step))\n",
    "    jj = np.unique(ii+jj)\n",
    "    #----------------------------------------------------\n",
    "    # prune the breakpoints on both sides of the breaks\n",
    "    #----------------------------------------------------\n",
    "    for i in range(1,len(ii)-1): \n",
    "        ix = ii[i]\n",
    "        jj = np.delete(jj,(np.abs(jj-ix)<step) & (jj != ix))\n",
    "\n",
    "    return jj\n",
    "\n",
    "#-----------------------------------------------------\n",
    "# compute the low-resolution envelope of spectrum(n)\n",
    "#-----------------------------------------------------\n",
    "\n",
    "def getEnv(n, brk):\n",
    "#     d = getspec(n)\n",
    "    d = getspec_all(n)\n",
    "    c = np.cumsum(d,axis=0)\n",
    "    b = c[brk,:]\n",
    "    db = np.diff(b,axis=0)\n",
    "    dk = np.diff(brk)\n",
    "    dd = (db.T/dk).T\n",
    "    return dd"
   ]
  },
  {
   "cell_type": "code",
   "execution_count": 153,
   "metadata": {},
   "outputs": [],
   "source": [
    "from tqdm import tqdm"
   ]
  },
  {
   "cell_type": "code",
   "execution_count": 226,
   "metadata": {},
   "outputs": [
    {
     "name": "stderr",
     "output_type": "stream",
     "text": [
      "<ipython-input-224-0e57e0cab512>:23: DeprecationWarning: `np.int` is a deprecated alias for the builtin `int`. To silence this warning, use `int` by itself. Doing this will not modify any behavior and is safe. When replacing `np.int`, you may wish to use e.g. `np.int64` or `np.int32` to specify the precision. If you wish to review your current use, check the release note link for additional information.\n",
      "Deprecated in NumPy 1.20; for more details and guidance: https://numpy.org/devdocs/release/1.20.0-notes.html#deprecations\n",
      "  step = np.int(np.floor((max(ii)-min(ii))/(10*nbins)))*10\n"
     ]
    }
   ],
   "source": [
    "bk = makeBreakpoints(wave_15404)"
   ]
  },
  {
   "cell_type": "code",
   "execution_count": 232,
   "metadata": {},
   "outputs": [
    {
     "data": {
      "text/plain": [
       "array([    0,   240,   480,   720,   960,  1200,  1440,  1680,  1953,\n",
       "        2400,  2640,  2880,  3120,  3360,  3600,  3840,  4080,  4320,\n",
       "        4560,  4800,  5040,  5280,  5520,  5760,  6000,  6240,  6480,\n",
       "        6720,  6960,  7200,  7440,  7680,  7920,  8160,  8400,  8640,\n",
       "        8880,  9120,  9360,  9600, 10063, 10320, 10560, 10800, 11040,\n",
       "       11280, 11520, 11760, 12000, 12240, 12480, 12720, 12960, 13200,\n",
       "       13440, 13680, 13920, 14160, 14400, 14640, 14880, 15120, 15360,\n",
       "       15403])"
      ]
     },
     "execution_count": 232,
     "metadata": {},
     "output_type": "execute_result"
    }
   ],
   "source": [
    "bk"
   ]
  },
  {
   "cell_type": "code",
   "execution_count": 231,
   "metadata": {},
   "outputs": [
    {
     "data": {
      "text/plain": [
       "(64,)"
      ]
     },
     "execution_count": 231,
     "metadata": {},
     "output_type": "execute_result"
    }
   ],
   "source": [
    "bk.shape"
   ]
  },
  {
   "cell_type": "code",
   "execution_count": 227,
   "metadata": {},
   "outputs": [
    {
     "name": "stderr",
     "output_type": "stream",
     "text": [
      "100%|██████████| 116614/116614 [00:26<00:00, 4393.44it/s]\n"
     ]
    }
   ],
   "source": [
    "dds = []\n",
    "for n in tqdm(range(len(flux_15404))):\n",
    "    dd = getEnv(n, brk=bk)\n",
    "    dds.append(dd)"
   ]
  },
  {
   "cell_type": "code",
   "execution_count": 228,
   "metadata": {},
   "outputs": [],
   "source": [
    "dds = np.array(dds)"
   ]
  },
  {
   "cell_type": "code",
   "execution_count": 229,
   "metadata": {},
   "outputs": [
    {
     "data": {
      "text/plain": [
       "(63,)"
      ]
     },
     "execution_count": 229,
     "metadata": {},
     "output_type": "execute_result"
    }
   ],
   "source": [
    "dds[0,:,0].shape"
   ]
  },
  {
   "cell_type": "code",
   "execution_count": 230,
   "metadata": {},
   "outputs": [
    {
     "data": {
      "text/plain": [
       "116614"
      ]
     },
     "execution_count": 230,
     "metadata": {},
     "output_type": "execute_result"
    }
   ],
   "source": [
    "len(dds)"
   ]
  },
  {
   "cell_type": "code",
   "execution_count": 173,
   "metadata": {},
   "outputs": [],
   "source": [
    "import h5py"
   ]
  },
  {
   "cell_type": "code",
   "execution_count": 247,
   "metadata": {},
   "outputs": [],
   "source": [
    "SZALAY_PATH = os.path.join(\"/scratch/ceph/szalay/swei20/AE\", 'flux_116kx63_small.h5')"
   ]
  },
  {
   "cell_type": "code",
   "execution_count": 190,
   "metadata": {},
   "outputs": [
    {
     "data": {
      "text/plain": [
       "(755, 16094)"
      ]
     },
     "execution_count": 190,
     "metadata": {},
     "output_type": "execute_result"
    }
   ],
   "source": [
    "flux755.shape"
   ]
  },
  {
   "cell_type": "code",
   "execution_count": 235,
   "metadata": {},
   "outputs": [
    {
     "data": {
      "text/plain": [
       "(116614, 15404)"
      ]
     },
     "execution_count": 235,
     "metadata": {},
     "output_type": "execute_result"
    }
   ],
   "source": [
    "flux_15404.shape"
   ]
  },
  {
   "cell_type": "code",
   "execution_count": 236,
   "metadata": {},
   "outputs": [
    {
     "data": {
      "text/plain": [
       "array([ 3000.2639,  3000.564 ,  3000.8643, ..., 13996.3662, 13997.7656,\n",
       "       13999.166 ])"
      ]
     },
     "execution_count": 236,
     "metadata": {},
     "output_type": "execute_result"
    }
   ],
   "source": [
    "wave_15404"
   ]
  },
  {
   "cell_type": "code",
   "execution_count": null,
   "metadata": {},
   "outputs": [],
   "source": []
  },
  {
   "cell_type": "code",
   "execution_count": 243,
   "metadata": {},
   "outputs": [
    {
     "data": {
      "text/plain": [
       "(64,)"
      ]
     },
     "execution_count": 243,
     "metadata": {},
     "output_type": "execute_result"
    }
   ],
   "source": [
    "bk.shape"
   ]
  },
  {
   "cell_type": "code",
   "execution_count": 248,
   "metadata": {},
   "outputs": [],
   "source": [
    "with h5py.File(SZALAY_PATH, 'w') as f:\n",
    "#     f.create_dataset('flux', data = flux_15404, shape=(116614, 15404))\n",
    "    f.create_dataset('wave', data = wave_15404, shape=(15404,))\n",
    "    f.create_dataset('flux_63', data = dds[:,:,1], shape=(116614, 63))\n",
    "    f.create_dataset('wave_63', data = dds[0,:,0], shape=(63,))\n",
    "    f.create_dataset('bk_63', data = bk, shape=(64,))   \n"
   ]
  },
  {
   "cell_type": "code",
   "execution_count": null,
   "metadata": {},
   "outputs": [],
   "source": []
  },
  {
   "cell_type": "code",
   "execution_count": 237,
   "metadata": {},
   "outputs": [
    {
     "data": {
      "text/plain": [
       "(116614, 63)"
      ]
     },
     "execution_count": 237,
     "metadata": {},
     "output_type": "execute_result"
    }
   ],
   "source": [
    "dds[:,:,1].shape"
   ]
  },
  {
   "cell_type": "code",
   "execution_count": 200,
   "metadata": {},
   "outputs": [
    {
     "data": {
      "text/plain": [
       "(16094,)"
      ]
     },
     "execution_count": 200,
     "metadata": {},
     "output_type": "execute_result"
    }
   ],
   "source": [
    "wave.shape"
   ]
  },
  {
   "cell_type": "code",
   "execution_count": 174,
   "metadata": {},
   "outputs": [],
   "source": [
    "SZALAY_PATH = os.path.join(\"/scratch/ceph/szalay/swei20/AE\", 'mat_116kx62.h5')"
   ]
  },
  {
   "cell_type": "code",
   "execution_count": 179,
   "metadata": {},
   "outputs": [],
   "source": [
    "with h5py.File(SZALAY_PATH, 'r') as f:\n",
    "#     flux = f[\"flux\"][()]\n",
    "    wave = f[\"wave\"][()]\n",
    "    flux_63 = f[\"flux_63\"][()]\n",
    "    wave_63 = f[\"wave_63\"][()]\n"
   ]
  },
  {
   "cell_type": "code",
   "execution_count": 182,
   "metadata": {},
   "outputs": [
    {
     "data": {
      "text/plain": [
       "((116614, 62), (62,))"
      ]
     },
     "execution_count": 182,
     "metadata": {},
     "output_type": "execute_result"
    }
   ],
   "source": [
    "flux.shape, wave.shape"
   ]
  },
  {
   "cell_type": "code",
   "execution_count": 198,
   "metadata": {},
   "outputs": [
    {
     "data": {
      "text/plain": [
       "(62,)"
      ]
     },
     "execution_count": 198,
     "metadata": {},
     "output_type": "execute_result"
    }
   ],
   "source": [
    "wave.shape"
   ]
  },
  {
   "cell_type": "code",
   "execution_count": 176,
   "metadata": {},
   "outputs": [],
   "source": [
    "with h5py.File(SZALAY_PATH, 'a') as f:\n",
    "    f.create_dataset('flux', data = dds[:,:,1], shape=(116614, 62))\n",
    "    f.create_dataset('wave', data = dds[0,:,0], shape=(62,))\n",
    "\n",
    "#     f.create_dataset('flux10kmm', data = flux10kmm)"
   ]
  },
  {
   "cell_type": "code",
   "execution_count": 203,
   "metadata": {},
   "outputs": [
    {
     "data": {
      "text/plain": [
       "(63,)"
      ]
     },
     "execution_count": 203,
     "metadata": {},
     "output_type": "execute_result"
    }
   ],
   "source": [
    "bk.shape"
   ]
  },
  {
   "cell_type": "code",
   "execution_count": 202,
   "metadata": {},
   "outputs": [
    {
     "data": {
      "text/plain": [
       "(16094,)"
      ]
     },
     "execution_count": 202,
     "metadata": {},
     "output_type": "execute_result"
    }
   ],
   "source": [
    "wave.shape"
   ]
  },
  {
   "cell_type": "code",
   "execution_count": 204,
   "metadata": {},
   "outputs": [
    {
     "data": {
      "text/plain": [
       "array([ 3000.2639,  3000.564 ,  3000.8643, ..., 14996.2119, 14997.7109,\n",
       "       14999.2109])"
      ]
     },
     "execution_count": 204,
     "metadata": {},
     "output_type": "execute_result"
    }
   ],
   "source": [
    "wave"
   ]
  },
  {
   "cell_type": "code",
   "execution_count": 208,
   "metadata": {},
   "outputs": [
    {
     "name": "stderr",
     "output_type": "stream",
     "text": [
      "<ipython-input-207-0e57e0cab512>:23: DeprecationWarning: `np.int` is a deprecated alias for the builtin `int`. To silence this warning, use `int` by itself. Doing this will not modify any behavior and is safe. When replacing `np.int`, you may wish to use e.g. `np.int64` or `np.int32` to specify the precision. If you wish to review your current use, check the release note link for additional information.\n",
      "Deprecated in NumPy 1.20; for more details and guidance: https://numpy.org/devdocs/release/1.20.0-notes.html#deprecations\n",
      "  step = np.int(np.floor((max(ii)-min(ii))/(10*nbins)))*10\n"
     ]
    },
    {
     "data": {
      "text/plain": [
       "(63,)"
      ]
     },
     "execution_count": 208,
     "metadata": {},
     "output_type": "execute_result"
    }
   ],
   "source": [
    "bk = makeBreakpoints(wave)\n",
    "bk.shape"
   ]
  },
  {
   "cell_type": "code",
   "execution_count": 209,
   "metadata": {},
   "outputs": [
    {
     "data": {
      "text/plain": [
       "array([    0,   250,   500,   750,  1000,  1250,  1500,  1953,  2250,\n",
       "        2500,  2750,  3000,  3250,  3500,  3750,  4000,  4250,  4500,\n",
       "        4750,  5000,  5250,  5500,  5750,  6000,  6250,  6500,  6750,\n",
       "        7000,  7250,  7500,  7750,  8000,  8250,  8500,  8750,  9000,\n",
       "        9250,  9500,  9750, 10063, 10500, 10750, 11000, 11250, 11500,\n",
       "       11750, 12000, 12250, 12500, 12750, 13000, 13250, 13500, 13750,\n",
       "       14000, 14250, 14500, 14750, 15000, 15250, 15500, 15816, 16093])"
      ]
     },
     "execution_count": 209,
     "metadata": {},
     "output_type": "execute_result"
    }
   ],
   "source": [
    "bk"
   ]
  },
  {
   "cell_type": "code",
   "execution_count": 36,
   "metadata": {},
   "outputs": [
    {
     "name": "stdout",
     "output_type": "stream",
     "text": [
      "63\n"
     ]
    },
    {
     "name": "stderr",
     "output_type": "stream",
     "text": [
      "<ipython-input-16-9998c97f700f>:23: DeprecationWarning: `np.int` is a deprecated alias for the builtin `int`. To silence this warning, use `int` by itself. Doing this will not modify any behavior and is safe. When replacing `np.int`, you may wish to use e.g. `np.int64` or `np.int32` to specify the precision. If you wish to review your current use, check the release note link for additional information.\n",
      "Deprecated in NumPy 1.20; for more details and guidance: https://numpy.org/devdocs/release/1.20.0-notes.html#deprecations\n",
      "  step = np.int(np.floor((max(ii)-min(ii))/(10*nbins)))*10\n"
     ]
    },
    {
     "data": {
      "image/png": "[encoded data removed]",
      "text/plain": [
       "<Figure size 432x288 with 1 Axes>"
      ]
     },
     "metadata": {
      "needs_background": "light"
     },
     "output_type": "display_data"
    }
   ],
   "source": [
    "# for the full resolution spectra\n",
    "#------------------------------------\n",
    "# execute:\n",
    "#  1. make the breakpoints\n",
    "#  2. get the envelope for spectrum(3)\n",
    "#  3. plot the course envelope\n",
    "#------------------------------------\n",
    "d = getspec(0)\n",
    "wave = d[:,0]\n",
    "bk = makeBreakpoints(wave)\n",
    "\n",
    "e = getEnv(31, bk)\n",
    "plt.plot(e[:,0],e[:,1],'.-');\n",
    "print(len(bk))"
   ]
  },
  {
   "cell_type": "code",
   "execution_count": 38,
   "metadata": {},
   "outputs": [
    {
     "name": "stdout",
     "output_type": "stream",
     "text": [
      "63\n",
      "[    0   250   500   750  1000  1250  1500  1953  2250  2500  2750  3000\n",
      "  3250  3500  3750  4000  4250  4500  4750  5000  5250  5500  5750  6000\n",
      "  6250  6500  6750  7000  7250  7500  7750  8000  8250  8500  8750  9000\n",
      "  9250  9500  9750 10063 10500 10750 11000 11250 11500 11750 12000 12250\n",
      " 12500 12750 13000 13250 13500 13750 14000 14250 14500 14750 15000 15250\n",
      " 15500 15816 16093]\n"
     ]
    },
    {
     "name": "stderr",
     "output_type": "stream",
     "text": [
      "<ipython-input-16-9998c97f700f>:23: DeprecationWarning: `np.int` is a deprecated alias for the builtin `int`. To silence this warning, use `int` by itself. Doing this will not modify any behavior and is safe. When replacing `np.int`, you may wish to use e.g. `np.int64` or `np.int32` to specify the precision. If you wish to review your current use, check the release note link for additional information.\n",
      "Deprecated in NumPy 1.20; for more details and guidance: https://numpy.org/devdocs/release/1.20.0-notes.html#deprecations\n",
      "  step = np.int(np.floor((max(ii)-min(ii))/(10*nbins)))*10\n"
     ]
    }
   ],
   "source": [
    "#-------------------------------------------------------\n",
    "# building a breakpoints array on the lo-res data\n",
    "#-------------------------------------------------------\n",
    "# ww = np.load('wave.npy')\n",
    "ww=wave0\n",
    "bk = makeBreakpoints(ww)\n",
    "print(len(bk))\n",
    "print(bk)"
   ]
  },
  {
   "cell_type": "code",
   "execution_count": null,
   "metadata": {},
   "outputs": [],
   "source": []
  },
  {
   "cell_type": "code",
   "execution_count": 64,
   "metadata": {},
   "outputs": [],
   "source": [
    "df_para = pd.read_csv(\"/home/swei20/AE/data/para.csv\")"
   ]
  },
  {
   "cell_type": "code",
   "execution_count": 65,
   "metadata": {},
   "outputs": [
    {
     "data": {
      "text/html": [
       "<div>\n",
       "<style scoped>\n",
       "    .dataframe tbody tr th:only-of-type {\n",
       "        vertical-align: middle;\n",
       "    }\n",
       "\n",
       "    .dataframe tbody tr th {\n",
       "        vertical-align: top;\n",
       "    }\n",
       "\n",
       "    .dataframe thead th {\n",
       "        text-align: right;\n",
       "    }\n",
       "</style>\n",
       "<table border=\"1\" class=\"dataframe\">\n",
       "  <thead>\n",
       "    <tr style=\"text-align: right;\">\n",
       "      <th></th>\n",
       "      <th>Fe</th>\n",
       "      <th>Te</th>\n",
       "      <th>Lg</th>\n",
       "      <th>CM</th>\n",
       "      <th>OM</th>\n",
       "      <th>FeH</th>\n",
       "      <th>Teff</th>\n",
       "      <th>Logg</th>\n",
       "      <th>C_M</th>\n",
       "      <th>O_M</th>\n",
       "      <th>p1</th>\n",
       "      <th>p2</th>\n",
       "      <th>p3</th>\n",
       "    </tr>\n",
       "  </thead>\n",
       "  <tbody>\n",
       "    <tr>\n",
       "      <th>0</th>\n",
       "      <td>0</td>\n",
       "      <td>0</td>\n",
       "      <td>0</td>\n",
       "      <td>1</td>\n",
       "      <td>0</td>\n",
       "      <td>-2.50</td>\n",
       "      <td>3500.0</td>\n",
       "      <td>0.0</td>\n",
       "      <td>-0.50</td>\n",
       "      <td>-0.25</td>\n",
       "      <td>-30.338438</td>\n",
       "      <td>2.195663</td>\n",
       "      <td>-5.001692</td>\n",
       "    </tr>\n",
       "    <tr>\n",
       "      <th>1</th>\n",
       "      <td>0</td>\n",
       "      <td>0</td>\n",
       "      <td>0</td>\n",
       "      <td>1</td>\n",
       "      <td>1</td>\n",
       "      <td>-2.50</td>\n",
       "      <td>3500.0</td>\n",
       "      <td>0.0</td>\n",
       "      <td>-0.50</td>\n",
       "      <td>0.00</td>\n",
       "      <td>-32.764657</td>\n",
       "      <td>2.281114</td>\n",
       "      <td>-5.436010</td>\n",
       "    </tr>\n",
       "    <tr>\n",
       "      <th>2</th>\n",
       "      <td>0</td>\n",
       "      <td>0</td>\n",
       "      <td>0</td>\n",
       "      <td>1</td>\n",
       "      <td>2</td>\n",
       "      <td>-2.50</td>\n",
       "      <td>3500.0</td>\n",
       "      <td>0.0</td>\n",
       "      <td>-0.50</td>\n",
       "      <td>0.25</td>\n",
       "      <td>-35.870359</td>\n",
       "      <td>2.474615</td>\n",
       "      <td>-5.925817</td>\n",
       "    </tr>\n",
       "    <tr>\n",
       "      <th>3</th>\n",
       "      <td>0</td>\n",
       "      <td>0</td>\n",
       "      <td>0</td>\n",
       "      <td>1</td>\n",
       "      <td>3</td>\n",
       "      <td>-2.50</td>\n",
       "      <td>3500.0</td>\n",
       "      <td>0.0</td>\n",
       "      <td>-0.50</td>\n",
       "      <td>0.50</td>\n",
       "      <td>-39.618324</td>\n",
       "      <td>2.673175</td>\n",
       "      <td>-6.343921</td>\n",
       "    </tr>\n",
       "    <tr>\n",
       "      <th>4</th>\n",
       "      <td>0</td>\n",
       "      <td>0</td>\n",
       "      <td>0</td>\n",
       "      <td>2</td>\n",
       "      <td>0</td>\n",
       "      <td>-2.50</td>\n",
       "      <td>3500.0</td>\n",
       "      <td>0.0</td>\n",
       "      <td>-0.25</td>\n",
       "      <td>-0.25</td>\n",
       "      <td>-31.107103</td>\n",
       "      <td>2.169074</td>\n",
       "      <td>-5.149027</td>\n",
       "    </tr>\n",
       "    <tr>\n",
       "      <th>...</th>\n",
       "      <td>...</td>\n",
       "      <td>...</td>\n",
       "      <td>...</td>\n",
       "      <td>...</td>\n",
       "      <td>...</td>\n",
       "      <td>...</td>\n",
       "      <td>...</td>\n",
       "      <td>...</td>\n",
       "      <td>...</td>\n",
       "      <td>...</td>\n",
       "      <td>...</td>\n",
       "      <td>...</td>\n",
       "      <td>...</td>\n",
       "    </tr>\n",
       "    <tr>\n",
       "      <th>116609</th>\n",
       "      <td>13</td>\n",
       "      <td>60</td>\n",
       "      <td>10</td>\n",
       "      <td>4</td>\n",
       "      <td>3</td>\n",
       "      <td>0.75</td>\n",
       "      <td>30000.0</td>\n",
       "      <td>5.0</td>\n",
       "      <td>0.25</td>\n",
       "      <td>0.50</td>\n",
       "      <td>-4.104047</td>\n",
       "      <td>-5.056857</td>\n",
       "      <td>1.422326</td>\n",
       "    </tr>\n",
       "    <tr>\n",
       "      <th>116610</th>\n",
       "      <td>13</td>\n",
       "      <td>60</td>\n",
       "      <td>10</td>\n",
       "      <td>5</td>\n",
       "      <td>0</td>\n",
       "      <td>0.75</td>\n",
       "      <td>30000.0</td>\n",
       "      <td>5.0</td>\n",
       "      <td>0.50</td>\n",
       "      <td>-0.25</td>\n",
       "      <td>-3.438580</td>\n",
       "      <td>-4.956540</td>\n",
       "      <td>1.236275</td>\n",
       "    </tr>\n",
       "    <tr>\n",
       "      <th>116611</th>\n",
       "      <td>13</td>\n",
       "      <td>60</td>\n",
       "      <td>10</td>\n",
       "      <td>5</td>\n",
       "      <td>1</td>\n",
       "      <td>0.75</td>\n",
       "      <td>30000.0</td>\n",
       "      <td>5.0</td>\n",
       "      <td>0.50</td>\n",
       "      <td>0.00</td>\n",
       "      <td>-3.618532</td>\n",
       "      <td>-4.968871</td>\n",
       "      <td>1.290465</td>\n",
       "    </tr>\n",
       "    <tr>\n",
       "      <th>116612</th>\n",
       "      <td>13</td>\n",
       "      <td>60</td>\n",
       "      <td>10</td>\n",
       "      <td>5</td>\n",
       "      <td>2</td>\n",
       "      <td>0.75</td>\n",
       "      <td>30000.0</td>\n",
       "      <td>5.0</td>\n",
       "      <td>0.50</td>\n",
       "      <td>0.25</td>\n",
       "      <td>-3.835860</td>\n",
       "      <td>-4.973086</td>\n",
       "      <td>1.356232</td>\n",
       "    </tr>\n",
       "    <tr>\n",
       "      <th>116613</th>\n",
       "      <td>13</td>\n",
       "      <td>60</td>\n",
       "      <td>10</td>\n",
       "      <td>5</td>\n",
       "      <td>3</td>\n",
       "      <td>0.75</td>\n",
       "      <td>30000.0</td>\n",
       "      <td>5.0</td>\n",
       "      <td>0.50</td>\n",
       "      <td>0.50</td>\n",
       "      <td>-4.118878</td>\n",
       "      <td>-4.980532</td>\n",
       "      <td>1.444754</td>\n",
       "    </tr>\n",
       "  </tbody>\n",
       "</table>\n",
       "<p>116614 rows × 13 columns</p>\n",
       "</div>"
      ],
      "text/plain": [
       "        Fe  Te  Lg  CM  OM   FeH     Teff  Logg   C_M   O_M         p1  \\\n",
       "0        0   0   0   1   0 -2.50   3500.0   0.0 -0.50 -0.25 -30.338438   \n",
       "1        0   0   0   1   1 -2.50   3500.0   0.0 -0.50  0.00 -32.764657   \n",
       "2        0   0   0   1   2 -2.50   3500.0   0.0 -0.50  0.25 -35.870359   \n",
       "3        0   0   0   1   3 -2.50   3500.0   0.0 -0.50  0.50 -39.618324   \n",
       "4        0   0   0   2   0 -2.50   3500.0   0.0 -0.25 -0.25 -31.107103   \n",
       "...     ..  ..  ..  ..  ..   ...      ...   ...   ...   ...        ...   \n",
       "116609  13  60  10   4   3  0.75  30000.0   5.0  0.25  0.50  -4.104047   \n",
       "116610  13  60  10   5   0  0.75  30000.0   5.0  0.50 -0.25  -3.438580   \n",
       "116611  13  60  10   5   1  0.75  30000.0   5.0  0.50  0.00  -3.618532   \n",
       "116612  13  60  10   5   2  0.75  30000.0   5.0  0.50  0.25  -3.835860   \n",
       "116613  13  60  10   5   3  0.75  30000.0   5.0  0.50  0.50  -4.118878   \n",
       "\n",
       "              p2        p3  \n",
       "0       2.195663 -5.001692  \n",
       "1       2.281114 -5.436010  \n",
       "2       2.474615 -5.925817  \n",
       "3       2.673175 -6.343921  \n",
       "4       2.169074 -5.149027  \n",
       "...          ...       ...  \n",
       "116609 -5.056857  1.422326  \n",
       "116610 -4.956540  1.236275  \n",
       "116611 -4.968871  1.290465  \n",
       "116612 -4.973086  1.356232  \n",
       "116613 -4.980532  1.444754  \n",
       "\n",
       "[116614 rows x 13 columns]"
      ]
     },
     "execution_count": 65,
     "metadata": {},
     "output_type": "execute_result"
    }
   ],
   "source": [
    "df_para"
   ]
  },
  {
   "cell_type": "code",
   "execution_count": 57,
   "metadata": {},
   "outputs": [
    {
     "data": {
      "text/html": [
       "<div>\n",
       "<style scoped>\n",
       "    .dataframe tbody tr th:only-of-type {\n",
       "        vertical-align: middle;\n",
       "    }\n",
       "\n",
       "    .dataframe tbody tr th {\n",
       "        vertical-align: top;\n",
       "    }\n",
       "\n",
       "    .dataframe thead th {\n",
       "        text-align: right;\n",
       "    }\n",
       "</style>\n",
       "<table border=\"1\" class=\"dataframe\">\n",
       "  <thead>\n",
       "    <tr style=\"text-align: right;\">\n",
       "      <th></th>\n",
       "      <th>Fe</th>\n",
       "      <th>Te</th>\n",
       "      <th>Lg</th>\n",
       "      <th>CM</th>\n",
       "      <th>OM</th>\n",
       "      <th>p1</th>\n",
       "      <th>p2</th>\n",
       "      <th>FeH</th>\n",
       "      <th>Teff</th>\n",
       "      <th>Logg</th>\n",
       "      <th>C_M</th>\n",
       "      <th>O_M</th>\n",
       "      <th>p3</th>\n",
       "    </tr>\n",
       "  </thead>\n",
       "  <tbody>\n",
       "    <tr>\n",
       "      <th>0</th>\n",
       "      <td>0</td>\n",
       "      <td>0</td>\n",
       "      <td>0</td>\n",
       "      <td>1</td>\n",
       "      <td>0</td>\n",
       "      <td>-30.338438</td>\n",
       "      <td>2.195663</td>\n",
       "      <td>-2.50</td>\n",
       "      <td>3500.0</td>\n",
       "      <td>0.0</td>\n",
       "      <td>-0.50</td>\n",
       "      <td>-0.25</td>\n",
       "      <td>-5.001692</td>\n",
       "    </tr>\n",
       "    <tr>\n",
       "      <th>1</th>\n",
       "      <td>0</td>\n",
       "      <td>0</td>\n",
       "      <td>0</td>\n",
       "      <td>1</td>\n",
       "      <td>1</td>\n",
       "      <td>-32.764657</td>\n",
       "      <td>2.281114</td>\n",
       "      <td>-2.50</td>\n",
       "      <td>3500.0</td>\n",
       "      <td>0.0</td>\n",
       "      <td>-0.50</td>\n",
       "      <td>0.00</td>\n",
       "      <td>-5.436010</td>\n",
       "    </tr>\n",
       "    <tr>\n",
       "      <th>2</th>\n",
       "      <td>0</td>\n",
       "      <td>0</td>\n",
       "      <td>0</td>\n",
       "      <td>1</td>\n",
       "      <td>2</td>\n",
       "      <td>-35.870359</td>\n",
       "      <td>2.474615</td>\n",
       "      <td>-2.50</td>\n",
       "      <td>3500.0</td>\n",
       "      <td>0.0</td>\n",
       "      <td>-0.50</td>\n",
       "      <td>0.25</td>\n",
       "      <td>-5.925817</td>\n",
       "    </tr>\n",
       "    <tr>\n",
       "      <th>3</th>\n",
       "      <td>0</td>\n",
       "      <td>0</td>\n",
       "      <td>0</td>\n",
       "      <td>1</td>\n",
       "      <td>3</td>\n",
       "      <td>-39.618324</td>\n",
       "      <td>2.673175</td>\n",
       "      <td>-2.50</td>\n",
       "      <td>3500.0</td>\n",
       "      <td>0.0</td>\n",
       "      <td>-0.50</td>\n",
       "      <td>0.50</td>\n",
       "      <td>-6.343921</td>\n",
       "    </tr>\n",
       "    <tr>\n",
       "      <th>4</th>\n",
       "      <td>0</td>\n",
       "      <td>0</td>\n",
       "      <td>0</td>\n",
       "      <td>2</td>\n",
       "      <td>0</td>\n",
       "      <td>-31.107103</td>\n",
       "      <td>2.169074</td>\n",
       "      <td>-2.50</td>\n",
       "      <td>3500.0</td>\n",
       "      <td>0.0</td>\n",
       "      <td>-0.25</td>\n",
       "      <td>-0.25</td>\n",
       "      <td>-5.149027</td>\n",
       "    </tr>\n",
       "    <tr>\n",
       "      <th>...</th>\n",
       "      <td>...</td>\n",
       "      <td>...</td>\n",
       "      <td>...</td>\n",
       "      <td>...</td>\n",
       "      <td>...</td>\n",
       "      <td>...</td>\n",
       "      <td>...</td>\n",
       "      <td>...</td>\n",
       "      <td>...</td>\n",
       "      <td>...</td>\n",
       "      <td>...</td>\n",
       "      <td>...</td>\n",
       "      <td>...</td>\n",
       "    </tr>\n",
       "    <tr>\n",
       "      <th>116609</th>\n",
       "      <td>13</td>\n",
       "      <td>60</td>\n",
       "      <td>10</td>\n",
       "      <td>4</td>\n",
       "      <td>3</td>\n",
       "      <td>-4.104047</td>\n",
       "      <td>-5.056857</td>\n",
       "      <td>0.75</td>\n",
       "      <td>30000.0</td>\n",
       "      <td>5.0</td>\n",
       "      <td>0.25</td>\n",
       "      <td>0.50</td>\n",
       "      <td>1.422326</td>\n",
       "    </tr>\n",
       "    <tr>\n",
       "      <th>116610</th>\n",
       "      <td>13</td>\n",
       "      <td>60</td>\n",
       "      <td>10</td>\n",
       "      <td>5</td>\n",
       "      <td>0</td>\n",
       "      <td>-3.438580</td>\n",
       "      <td>-4.956540</td>\n",
       "      <td>0.75</td>\n",
       "      <td>30000.0</td>\n",
       "      <td>5.0</td>\n",
       "      <td>0.50</td>\n",
       "      <td>-0.25</td>\n",
       "      <td>1.236275</td>\n",
       "    </tr>\n",
       "    <tr>\n",
       "      <th>116611</th>\n",
       "      <td>13</td>\n",
       "      <td>60</td>\n",
       "      <td>10</td>\n",
       "      <td>5</td>\n",
       "      <td>1</td>\n",
       "      <td>-3.618532</td>\n",
       "      <td>-4.968871</td>\n",
       "      <td>0.75</td>\n",
       "      <td>30000.0</td>\n",
       "      <td>5.0</td>\n",
       "      <td>0.50</td>\n",
       "      <td>0.00</td>\n",
       "      <td>1.290465</td>\n",
       "    </tr>\n",
       "    <tr>\n",
       "      <th>116612</th>\n",
       "      <td>13</td>\n",
       "      <td>60</td>\n",
       "      <td>10</td>\n",
       "      <td>5</td>\n",
       "      <td>2</td>\n",
       "      <td>-3.835860</td>\n",
       "      <td>-4.973086</td>\n",
       "      <td>0.75</td>\n",
       "      <td>30000.0</td>\n",
       "      <td>5.0</td>\n",
       "      <td>0.50</td>\n",
       "      <td>0.25</td>\n",
       "      <td>1.356232</td>\n",
       "    </tr>\n",
       "    <tr>\n",
       "      <th>116613</th>\n",
       "      <td>13</td>\n",
       "      <td>60</td>\n",
       "      <td>10</td>\n",
       "      <td>5</td>\n",
       "      <td>3</td>\n",
       "      <td>-4.118878</td>\n",
       "      <td>-4.980532</td>\n",
       "      <td>0.75</td>\n",
       "      <td>30000.0</td>\n",
       "      <td>5.0</td>\n",
       "      <td>0.50</td>\n",
       "      <td>0.50</td>\n",
       "      <td>1.444754</td>\n",
       "    </tr>\n",
       "  </tbody>\n",
       "</table>\n",
       "<p>116614 rows × 13 columns</p>\n",
       "</div>"
      ],
      "text/plain": [
       "        Fe  Te  Lg  CM  OM         p1        p2   FeH     Teff  Logg   C_M  \\\n",
       "0        0   0   0   1   0 -30.338438  2.195663 -2.50   3500.0   0.0 -0.50   \n",
       "1        0   0   0   1   1 -32.764657  2.281114 -2.50   3500.0   0.0 -0.50   \n",
       "2        0   0   0   1   2 -35.870359  2.474615 -2.50   3500.0   0.0 -0.50   \n",
       "3        0   0   0   1   3 -39.618324  2.673175 -2.50   3500.0   0.0 -0.50   \n",
       "4        0   0   0   2   0 -31.107103  2.169074 -2.50   3500.0   0.0 -0.25   \n",
       "...     ..  ..  ..  ..  ..        ...       ...   ...      ...   ...   ...   \n",
       "116609  13  60  10   4   3  -4.104047 -5.056857  0.75  30000.0   5.0  0.25   \n",
       "116610  13  60  10   5   0  -3.438580 -4.956540  0.75  30000.0   5.0  0.50   \n",
       "116611  13  60  10   5   1  -3.618532 -4.968871  0.75  30000.0   5.0  0.50   \n",
       "116612  13  60  10   5   2  -3.835860 -4.973086  0.75  30000.0   5.0  0.50   \n",
       "116613  13  60  10   5   3  -4.118878 -4.980532  0.75  30000.0   5.0  0.50   \n",
       "\n",
       "         O_M        p3  \n",
       "0      -0.25 -5.001692  \n",
       "1       0.00 -5.436010  \n",
       "2       0.25 -5.925817  \n",
       "3       0.50 -6.343921  \n",
       "4      -0.25 -5.149027  \n",
       "...      ...       ...  \n",
       "116609  0.50  1.422326  \n",
       "116610 -0.25  1.236275  \n",
       "116611  0.00  1.290465  \n",
       "116612  0.25  1.356232  \n",
       "116613  0.50  1.444754  \n",
       "\n",
       "[116614 rows x 13 columns]"
      ]
     },
     "execution_count": 57,
     "metadata": {},
     "output_type": "execute_result"
    }
   ],
   "source": [
    "df_para.drop(df_para.columns[0], axis=1)"
   ]
  },
  {
   "cell_type": "code",
   "execution_count": 58,
   "metadata": {},
   "outputs": [
    {
     "data": {
      "text/plain": [
       "Index(['Unnamed: 0', 'Fe', 'Te', 'Lg', 'CM', 'OM', 'p1', 'p2', 'FeH', 'Teff',\n",
       "       'Logg', 'C_M', 'O_M', 'p3'],\n",
       "      dtype='object')"
      ]
     },
     "execution_count": 58,
     "metadata": {},
     "output_type": "execute_result"
    }
   ],
   "source": [
    "df_para.columns"
   ]
  },
  {
   "cell_type": "code",
   "execution_count": 61,
   "metadata": {},
   "outputs": [],
   "source": [
    "df_para0 = df_para[['Fe', 'Te', 'Lg', 'CM', 'OM','FeH', 'Teff',\n",
    "       'Logg', 'C_M', 'O_M', 'p1', 'p2',  'p3']]"
   ]
  },
  {
   "cell_type": "code",
   "execution_count": 63,
   "metadata": {},
   "outputs": [],
   "source": [
    "df_para0.to_csv(\"/home/swei20/AE/data/para.csv\", index=False)"
   ]
  },
  {
   "cell_type": "code",
   "execution_count": 75,
   "metadata": {},
   "outputs": [
    {
     "data": {
      "text/plain": [
       "0         False\n",
       "1         False\n",
       "2         False\n",
       "3         False\n",
       "4         False\n",
       "          ...  \n",
       "116609     True\n",
       "116610     True\n",
       "116611     True\n",
       "116612     True\n",
       "116613     True\n",
       "Name: Teff, Length: 116614, dtype: bool"
      ]
     },
     "execution_count": 75,
     "metadata": {},
     "output_type": "execute_result"
    }
   ],
   "source": []
  },
  {
   "cell_type": "code",
   "execution_count": 80,
   "metadata": {},
   "outputs": [],
   "source": [
    "# FeH at -2.5, -1.5, -0.5 and 0, \n",
    "Fe_mask = (df_para[\"FeH\"]==-2.5) | (df_para[\"FeH\"]==-1.5) | (df_para[\"FeH\"]==-0.5) | (df_para[\"FeH\"]==0)\n",
    "# Teff only in integer thousands (4000, 5000, etc), \n",
    "Te_mask = df_para[\"Teff\"].map(lambda x: str(int(x))[-3:] == \"000\")\n",
    "# all log_g values, and with O_M=C_M=0.\n",
    "df_755 = df_para[Te_mask & Fe_mask & (df_para[\"C_M\"]==0.0) & (df_para[\"O_M\"]==0)]"
   ]
  },
  {
   "cell_type": "code",
   "execution_count": 184,
   "metadata": {},
   "outputs": [
    {
     "data": {
      "text/html": [
       "<div>\n",
       "<style scoped>\n",
       "    .dataframe tbody tr th:only-of-type {\n",
       "        vertical-align: middle;\n",
       "    }\n",
       "\n",
       "    .dataframe tbody tr th {\n",
       "        vertical-align: top;\n",
       "    }\n",
       "\n",
       "    .dataframe thead th {\n",
       "        text-align: right;\n",
       "    }\n",
       "</style>\n",
       "<table border=\"1\" class=\"dataframe\">\n",
       "  <thead>\n",
       "    <tr style=\"text-align: right;\">\n",
       "      <th></th>\n",
       "      <th>Fe</th>\n",
       "      <th>Te</th>\n",
       "      <th>Lg</th>\n",
       "      <th>CM</th>\n",
       "      <th>OM</th>\n",
       "      <th>FeH</th>\n",
       "      <th>Teff</th>\n",
       "      <th>Logg</th>\n",
       "      <th>C_M</th>\n",
       "      <th>O_M</th>\n",
       "      <th>p1</th>\n",
       "      <th>p2</th>\n",
       "      <th>p3</th>\n",
       "    </tr>\n",
       "  </thead>\n",
       "  <tbody>\n",
       "    <tr>\n",
       "      <th>0</th>\n",
       "      <td>0</td>\n",
       "      <td>0</td>\n",
       "      <td>0</td>\n",
       "      <td>1</td>\n",
       "      <td>0</td>\n",
       "      <td>-2.50</td>\n",
       "      <td>3500.0</td>\n",
       "      <td>0.0</td>\n",
       "      <td>-0.50</td>\n",
       "      <td>-0.25</td>\n",
       "      <td>-30.338438</td>\n",
       "      <td>2.195663</td>\n",
       "      <td>-5.001692</td>\n",
       "    </tr>\n",
       "    <tr>\n",
       "      <th>1</th>\n",
       "      <td>0</td>\n",
       "      <td>0</td>\n",
       "      <td>0</td>\n",
       "      <td>1</td>\n",
       "      <td>1</td>\n",
       "      <td>-2.50</td>\n",
       "      <td>3500.0</td>\n",
       "      <td>0.0</td>\n",
       "      <td>-0.50</td>\n",
       "      <td>0.00</td>\n",
       "      <td>-32.764657</td>\n",
       "      <td>2.281114</td>\n",
       "      <td>-5.436010</td>\n",
       "    </tr>\n",
       "    <tr>\n",
       "      <th>2</th>\n",
       "      <td>0</td>\n",
       "      <td>0</td>\n",
       "      <td>0</td>\n",
       "      <td>1</td>\n",
       "      <td>2</td>\n",
       "      <td>-2.50</td>\n",
       "      <td>3500.0</td>\n",
       "      <td>0.0</td>\n",
       "      <td>-0.50</td>\n",
       "      <td>0.25</td>\n",
       "      <td>-35.870359</td>\n",
       "      <td>2.474615</td>\n",
       "      <td>-5.925817</td>\n",
       "    </tr>\n",
       "    <tr>\n",
       "      <th>3</th>\n",
       "      <td>0</td>\n",
       "      <td>0</td>\n",
       "      <td>0</td>\n",
       "      <td>1</td>\n",
       "      <td>3</td>\n",
       "      <td>-2.50</td>\n",
       "      <td>3500.0</td>\n",
       "      <td>0.0</td>\n",
       "      <td>-0.50</td>\n",
       "      <td>0.50</td>\n",
       "      <td>-39.618324</td>\n",
       "      <td>2.673175</td>\n",
       "      <td>-6.343921</td>\n",
       "    </tr>\n",
       "    <tr>\n",
       "      <th>4</th>\n",
       "      <td>0</td>\n",
       "      <td>0</td>\n",
       "      <td>0</td>\n",
       "      <td>2</td>\n",
       "      <td>0</td>\n",
       "      <td>-2.50</td>\n",
       "      <td>3500.0</td>\n",
       "      <td>0.0</td>\n",
       "      <td>-0.25</td>\n",
       "      <td>-0.25</td>\n",
       "      <td>-31.107103</td>\n",
       "      <td>2.169074</td>\n",
       "      <td>-5.149027</td>\n",
       "    </tr>\n",
       "    <tr>\n",
       "      <th>...</th>\n",
       "      <td>...</td>\n",
       "      <td>...</td>\n",
       "      <td>...</td>\n",
       "      <td>...</td>\n",
       "      <td>...</td>\n",
       "      <td>...</td>\n",
       "      <td>...</td>\n",
       "      <td>...</td>\n",
       "      <td>...</td>\n",
       "      <td>...</td>\n",
       "      <td>...</td>\n",
       "      <td>...</td>\n",
       "      <td>...</td>\n",
       "    </tr>\n",
       "    <tr>\n",
       "      <th>116609</th>\n",
       "      <td>13</td>\n",
       "      <td>60</td>\n",
       "      <td>10</td>\n",
       "      <td>4</td>\n",
       "      <td>3</td>\n",
       "      <td>0.75</td>\n",
       "      <td>30000.0</td>\n",
       "      <td>5.0</td>\n",
       "      <td>0.25</td>\n",
       "      <td>0.50</td>\n",
       "      <td>-4.104047</td>\n",
       "      <td>-5.056857</td>\n",
       "      <td>1.422326</td>\n",
       "    </tr>\n",
       "    <tr>\n",
       "      <th>116610</th>\n",
       "      <td>13</td>\n",
       "      <td>60</td>\n",
       "      <td>10</td>\n",
       "      <td>5</td>\n",
       "      <td>0</td>\n",
       "      <td>0.75</td>\n",
       "      <td>30000.0</td>\n",
       "      <td>5.0</td>\n",
       "      <td>0.50</td>\n",
       "      <td>-0.25</td>\n",
       "      <td>-3.438580</td>\n",
       "      <td>-4.956540</td>\n",
       "      <td>1.236275</td>\n",
       "    </tr>\n",
       "    <tr>\n",
       "      <th>116611</th>\n",
       "      <td>13</td>\n",
       "      <td>60</td>\n",
       "      <td>10</td>\n",
       "      <td>5</td>\n",
       "      <td>1</td>\n",
       "      <td>0.75</td>\n",
       "      <td>30000.0</td>\n",
       "      <td>5.0</td>\n",
       "      <td>0.50</td>\n",
       "      <td>0.00</td>\n",
       "      <td>-3.618532</td>\n",
       "      <td>-4.968871</td>\n",
       "      <td>1.290465</td>\n",
       "    </tr>\n",
       "    <tr>\n",
       "      <th>116612</th>\n",
       "      <td>13</td>\n",
       "      <td>60</td>\n",
       "      <td>10</td>\n",
       "      <td>5</td>\n",
       "      <td>2</td>\n",
       "      <td>0.75</td>\n",
       "      <td>30000.0</td>\n",
       "      <td>5.0</td>\n",
       "      <td>0.50</td>\n",
       "      <td>0.25</td>\n",
       "      <td>-3.835860</td>\n",
       "      <td>-4.973086</td>\n",
       "      <td>1.356232</td>\n",
       "    </tr>\n",
       "    <tr>\n",
       "      <th>116613</th>\n",
       "      <td>13</td>\n",
       "      <td>60</td>\n",
       "      <td>10</td>\n",
       "      <td>5</td>\n",
       "      <td>3</td>\n",
       "      <td>0.75</td>\n",
       "      <td>30000.0</td>\n",
       "      <td>5.0</td>\n",
       "      <td>0.50</td>\n",
       "      <td>0.50</td>\n",
       "      <td>-4.118878</td>\n",
       "      <td>-4.980532</td>\n",
       "      <td>1.444754</td>\n",
       "    </tr>\n",
       "  </tbody>\n",
       "</table>\n",
       "<p>116614 rows × 13 columns</p>\n",
       "</div>"
      ],
      "text/plain": [
       "        Fe  Te  Lg  CM  OM   FeH     Teff  Logg   C_M   O_M         p1  \\\n",
       "0        0   0   0   1   0 -2.50   3500.0   0.0 -0.50 -0.25 -30.338438   \n",
       "1        0   0   0   1   1 -2.50   3500.0   0.0 -0.50  0.00 -32.764657   \n",
       "2        0   0   0   1   2 -2.50   3500.0   0.0 -0.50  0.25 -35.870359   \n",
       "3        0   0   0   1   3 -2.50   3500.0   0.0 -0.50  0.50 -39.618324   \n",
       "4        0   0   0   2   0 -2.50   3500.0   0.0 -0.25 -0.25 -31.107103   \n",
       "...     ..  ..  ..  ..  ..   ...      ...   ...   ...   ...        ...   \n",
       "116609  13  60  10   4   3  0.75  30000.0   5.0  0.25  0.50  -4.104047   \n",
       "116610  13  60  10   5   0  0.75  30000.0   5.0  0.50 -0.25  -3.438580   \n",
       "116611  13  60  10   5   1  0.75  30000.0   5.0  0.50  0.00  -3.618532   \n",
       "116612  13  60  10   5   2  0.75  30000.0   5.0  0.50  0.25  -3.835860   \n",
       "116613  13  60  10   5   3  0.75  30000.0   5.0  0.50  0.50  -4.118878   \n",
       "\n",
       "              p2        p3  \n",
       "0       2.195663 -5.001692  \n",
       "1       2.281114 -5.436010  \n",
       "2       2.474615 -5.925817  \n",
       "3       2.673175 -6.343921  \n",
       "4       2.169074 -5.149027  \n",
       "...          ...       ...  \n",
       "116609 -5.056857  1.422326  \n",
       "116610 -4.956540  1.236275  \n",
       "116611 -4.968871  1.290465  \n",
       "116612 -4.973086  1.356232  \n",
       "116613 -4.980532  1.444754  \n",
       "\n",
       "[116614 rows x 13 columns]"
      ]
     },
     "execution_count": 184,
     "metadata": {},
     "output_type": "execute_result"
    }
   ],
   "source": [
    "df_para"
   ]
  },
  {
   "cell_type": "code",
   "execution_count": 188,
   "metadata": {},
   "outputs": [],
   "source": [
    "flux755 = flux_all[df_755.index]"
   ]
  },
  {
   "cell_type": "code",
   "execution_count": null,
   "metadata": {},
   "outputs": [],
   "source": []
  },
  {
   "cell_type": "code",
   "execution_count": 82,
   "metadata": {},
   "outputs": [],
   "source": [
    "df_755.to_csv(\"/home/swei20/AE/data/para755.csv\", index=False)"
   ]
  },
  {
   "cell_type": "code",
   "execution_count": 85,
   "metadata": {},
   "outputs": [],
   "source": [
    "df_para0 = df_para [(df_para[\"C_M\"]==0.0) & (df_para[\"O_M\"]==0)]"
   ]
  },
  {
   "cell_type": "code",
   "execution_count": 87,
   "metadata": {},
   "outputs": [
    {
     "name": "stderr",
     "output_type": "stream",
     "text": [
      "<ipython-input-87-fbdaf63dbcd7>:1: SettingWithCopyWarning: \n",
      "A value is trying to be set on a copy of a slice from a DataFrame.\n",
      "Try using .loc[row_indexer,col_indexer] = value instead\n",
      "\n",
      "See the caveats in the documentation: https://pandas.pydata.org/pandas-docs/stable/user_guide/indexing.html#returning-a-view-versus-a-copy\n",
      "  df_para0[\"idx\"] = np.arange(6336)\n"
     ]
    }
   ],
   "source": [
    "df_para0[\"idx\"] = np.arange(6336)"
   ]
  },
  {
   "cell_type": "code",
   "execution_count": 89,
   "metadata": {},
   "outputs": [],
   "source": [
    "def get_mask(df_para):\n",
    "    Fe_mask = (df_para[\"FeH\"]==-2.5) | (df_para[\"FeH\"]==-1.5) | (df_para[\"FeH\"]==-0.5) | (df_para[\"FeH\"]==0)\n",
    "    # Teff only in integer thousands (4000, 5000, etc), \n",
    "    Te_mask = df_para[\"Teff\"].map(lambda x: str(int(x))[-3:] == \"000\")\n",
    "    return Fe_mask & Te_mask"
   ]
  },
  {
   "cell_type": "code",
   "execution_count": 90,
   "metadata": {},
   "outputs": [],
   "source": [
    "mask = get_mask(df_para0)"
   ]
  },
  {
   "cell_type": "code",
   "execution_count": null,
   "metadata": {},
   "outputs": [],
   "source": []
  },
  {
   "cell_type": "code",
   "execution_count": 94,
   "metadata": {},
   "outputs": [],
   "source": [
    "idx755=df_para0[mask][\"idx\"].values"
   ]
  },
  {
   "cell_type": "code",
   "execution_count": 97,
   "metadata": {},
   "outputs": [],
   "source": [
    "flux_755 = flux0[idx755]"
   ]
  },
  {
   "cell_type": "code",
   "execution_count": 98,
   "metadata": {},
   "outputs": [],
   "source": [
    "cont_755 = cont0[idx755]"
   ]
  },
  {
   "cell_type": "code",
   "execution_count": null,
   "metadata": {},
   "outputs": [],
   "source": []
  },
  {
   "cell_type": "code",
   "execution_count": 99,
   "metadata": {},
   "outputs": [
    {
     "data": {
      "text/plain": [
       "(755, 16094)"
      ]
     },
     "execution_count": 99,
     "metadata": {},
     "output_type": "execute_result"
    }
   ],
   "source": [
    "flux_755.shape"
   ]
  },
  {
   "cell_type": "code",
   "execution_count": 84,
   "metadata": {},
   "outputs": [
    {
     "data": {
      "text/plain": [
       "(6336, 16094)"
      ]
     },
     "execution_count": 84,
     "metadata": {},
     "output_type": "execute_result"
    }
   ],
   "source": [
    "flux"
   ]
  },
  {
   "cell_type": "code",
   "execution_count": null,
   "metadata": {},
   "outputs": [],
   "source": [
    "e = getEnv(31, bk)\n",
    "plt.plot(e[:,0],e[:,1],'.-');\n",
    "print(len(bk))"
   ]
  },
  {
   "cell_type": "code",
   "execution_count": 100,
   "metadata": {},
   "outputs": [],
   "source": [
    "def getspec755(idx):\n",
    "    return np.array([wave0, flux_755[idx], cont_755[idx]]).T"
   ]
  },
  {
   "cell_type": "code",
   "execution_count": 103,
   "metadata": {},
   "outputs": [
    {
     "data": {
      "text/plain": [
       "(63,)"
      ]
     },
     "execution_count": 103,
     "metadata": {},
     "output_type": "execute_result"
    }
   ],
   "source": [
    "bk.shape"
   ]
  },
  {
   "cell_type": "code",
   "execution_count": 114,
   "metadata": {},
   "outputs": [
    {
     "data": {
      "text/plain": [
       "(16094,)"
      ]
     },
     "execution_count": 114,
     "metadata": {},
     "output_type": "execute_result"
    }
   ],
   "source": [
    "wave0.shape"
   ]
  },
  {
   "cell_type": "code",
   "execution_count": 115,
   "metadata": {},
   "outputs": [
    {
     "name": "stderr",
     "output_type": "stream",
     "text": [
      "<ipython-input-16-9998c97f700f>:23: DeprecationWarning: `np.int` is a deprecated alias for the builtin `int`. To silence this warning, use `int` by itself. Doing this will not modify any behavior and is safe. When replacing `np.int`, you may wish to use e.g. `np.int64` or `np.int32` to specify the precision. If you wish to review your current use, check the release note link for additional information.\n",
      "Deprecated in NumPy 1.20; for more details and guidance: https://numpy.org/devdocs/release/1.20.0-notes.html#deprecations\n",
      "  step = np.int(np.floor((max(ii)-min(ii))/(10*nbins)))*10\n"
     ]
    }
   ],
   "source": [
    "# d = getspec(0)\n",
    "# wave = d[:,0]\n",
    "bk = makeBreakpoints(wave0)"
   ]
  },
  {
   "cell_type": "code",
   "execution_count": 116,
   "metadata": {},
   "outputs": [
    {
     "data": {
      "text/plain": [
       "(63,)"
      ]
     },
     "execution_count": 116,
     "metadata": {},
     "output_type": "execute_result"
    }
   ],
   "source": [
    "bk.shape"
   ]
  },
  {
   "cell_type": "code",
   "execution_count": 107,
   "metadata": {},
   "outputs": [],
   "source": [
    "def getEnv(n, brk=bk):\n",
    "    d = getspec755(n)\n",
    "    c = np.cumsum(d,axis=0)\n",
    "    b = c[brk,:]\n",
    "    db = np.diff(b,axis=0)\n",
    "    dk = np.diff(brk)\n",
    "    dd = (db.T/dk).T\n",
    "    return dd"
   ]
  },
  {
   "cell_type": "code",
   "execution_count": null,
   "metadata": {},
   "outputs": [],
   "source": []
  },
  {
   "cell_type": "code",
   "execution_count": 108,
   "metadata": {},
   "outputs": [],
   "source": [
    "dds = []\n",
    "for n in range(755):\n",
    "    dd = getEnv(n)\n",
    "    dds.append(dd)"
   ]
  },
  {
   "cell_type": "code",
   "execution_count": 111,
   "metadata": {},
   "outputs": [],
   "source": [
    "dds = np.array(dds)"
   ]
  },
  {
   "cell_type": "code",
   "execution_count": 113,
   "metadata": {},
   "outputs": [
    {
     "data": {
      "text/plain": [
       "(62, 3)"
      ]
     },
     "execution_count": 113,
     "metadata": {},
     "output_type": "execute_result"
    }
   ],
   "source": [
    "dd.shape"
   ]
  },
  {
   "cell_type": "code",
   "execution_count": 112,
   "metadata": {},
   "outputs": [
    {
     "data": {
      "text/plain": [
       "(755, 62, 3)"
      ]
     },
     "execution_count": 112,
     "metadata": {},
     "output_type": "execute_result"
    }
   ],
   "source": [
    "dds.shape"
   ]
  },
  {
   "cell_type": "code",
   "execution_count": 110,
   "metadata": {},
   "outputs": [
    {
     "data": {
      "text/plain": [
       "755"
      ]
     },
     "execution_count": 110,
     "metadata": {},
     "output_type": "execute_result"
    }
   ],
   "source": [
    "len(dds)"
   ]
  },
  {
   "cell_type": "code",
   "execution_count": 119,
   "metadata": {},
   "outputs": [
    {
     "data": {
      "text/plain": [
       "(755, 62)"
      ]
     },
     "execution_count": 119,
     "metadata": {},
     "output_type": "execute_result"
    }
   ],
   "source": [
    "dds[:,:,1].shape"
   ]
  },
  {
   "cell_type": "code",
   "execution_count": 120,
   "metadata": {},
   "outputs": [],
   "source": [
    "mat_755x62 = dds[:,:,1]"
   ]
  },
  {
   "cell_type": "code",
   "execution_count": 136,
   "metadata": {},
   "outputs": [
    {
     "data": {
      "text/plain": [
       "1"
      ]
     },
     "execution_count": 136,
     "metadata": {},
     "output_type": "execute_result"
    }
   ],
   "source": [
    "1"
   ]
  },
  {
   "cell_type": "code",
   "execution_count": 137,
   "metadata": {},
   "outputs": [],
   "source": [
    "mat_755x62_wave = dds[0,:,0]"
   ]
  },
  {
   "cell_type": "code",
   "execution_count": 138,
   "metadata": {},
   "outputs": [],
   "source": [
    "np.save(\"/home/swei20/AE/nb/wave_62\",mat_755x62_wave)"
   ]
  },
  {
   "cell_type": "code",
   "execution_count": 128,
   "metadata": {},
   "outputs": [],
   "source": [
    "np.save(\"/home/swei20/AE/nb/mat_755x62\",mat_755x62)"
   ]
  },
  {
   "cell_type": "code",
   "execution_count": 133,
   "metadata": {},
   "outputs": [
    {
     "data": {
      "image/png": "[encoded data removed]",
      "text/plain": [
       "<Figure size 432x288 with 1 Axes>"
      ]
     },
     "metadata": {
      "needs_background": "light"
     },
     "output_type": "display_data"
    }
   ],
   "source": [
    "for i in range(100):\n",
    "    plt.plot(dds[0,:,0], mat_755x62[i])"
   ]
  },
  {
   "cell_type": "code",
   "execution_count": 134,
   "metadata": {},
   "outputs": [],
   "source": [
    "aa = np.load(\"/home/swei20/AE/nb/mat_755x62.npy\")"
   ]
  },
  {
   "cell_type": "code",
   "execution_count": 135,
   "metadata": {},
   "outputs": [
    {
     "data": {
      "text/plain": [
       "(755, 62)"
      ]
     },
     "execution_count": 135,
     "metadata": {},
     "output_type": "execute_result"
    }
   ],
   "source": [
    "aa.shape"
   ]
  },
  {
   "cell_type": "code",
   "execution_count": null,
   "metadata": {},
   "outputs": [],
   "source": [
    "(/home/swei20/AE/nb/mat_755x62\")"
   ]
  }
 ],
 "metadata": {
  "kernelspec": {
   "display_name": "Python 3 [ae-tf]",
   "language": "python",
   "name": "python3-ae-tf"
  },
  "language_info": {
   "codemirror_mode": {
    "name": "ipython",
    "version": 3
   },
   "file_extension": ".py",
   "mimetype": "text/x-python",
   "name": "python",
   "nbconvert_exporter": "python",
   "pygments_lexer": "ipython3",
   "version": "3.8.10"
  }
 },
 "nbformat": 4,
 "nbformat_minor": 4
}
